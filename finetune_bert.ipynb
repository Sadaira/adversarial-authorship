{
 "cells": [
  {
   "cell_type": "code",
   "execution_count": 27,
   "metadata": {},
   "outputs": [],
   "source": [
    "# !pip3 install torch torchvision torchaudio --index-url https://download.pytorch.org/whl/cu117\n",
    "# !pip install scikit-learn\n",
    "# !pip install langdetect"
   ]
  },
  {
   "attachments": {},
   "cell_type": "markdown",
   "metadata": {},
   "source": [
    "# Imports"
   ]
  },
  {
   "cell_type": "code",
   "execution_count": 1,
   "metadata": {},
   "outputs": [],
   "source": [
    "import matplotlib.pyplot as plt\n",
    "from nltk.corpus import stopwords\n",
    "from nltk.tokenize import word_tokenize\n",
    "from nltk.stem import WordNetLemmatizer\n",
    "import numpy as np\n",
    "import pandas as pd\n",
    "from plotly.offline import iplot\n",
    "import re\n",
    "import seaborn as sns\n",
    "from sklearn.metrics import classification_report\n",
    "from sklearn.model_selection import train_test_split\n",
    "import string\n",
    "import torch\n",
    "import torch.utils\n",
    "from torch.utils.data import DataLoader, Dataset, TensorDataset, DataLoader, RandomSampler, SequentialSampler\n",
    "from transformers import AlbertTokenizer, DistilBertTokenizer, BertTokenizer, AlbertForSequenceClassification, DistilBertForSequenceClassification, BertForSequenceClassification, AdamW\n",
    "from tqdm.notebook import tqdm\n",
    "\n",
    "\n",
    "# !nvidia-smi"
   ]
  },
  {
   "attachments": {},
   "cell_type": "markdown",
   "metadata": {},
   "source": [
    "# Data Preprocessing"
   ]
  },
  {
   "cell_type": "code",
   "execution_count": 2,
   "metadata": {},
   "outputs": [
    {
     "data": {
      "text/html": [
       "<div>\n",
       "<style scoped>\n",
       "    .dataframe tbody tr th:only-of-type {\n",
       "        vertical-align: middle;\n",
       "    }\n",
       "\n",
       "    .dataframe tbody tr th {\n",
       "        vertical-align: top;\n",
       "    }\n",
       "\n",
       "    .dataframe thead th {\n",
       "        text-align: right;\n",
       "    }\n",
       "</style>\n",
       "<table border=\"1\" class=\"dataframe\">\n",
       "  <thead>\n",
       "    <tr style=\"text-align: right;\">\n",
       "      <th></th>\n",
       "      <th>id</th>\n",
       "      <th>gender</th>\n",
       "      <th>age</th>\n",
       "      <th>topic</th>\n",
       "      <th>sign</th>\n",
       "      <th>date</th>\n",
       "      <th>text</th>\n",
       "    </tr>\n",
       "  </thead>\n",
       "  <tbody>\n",
       "    <tr>\n",
       "      <th>0</th>\n",
       "      <td>2059027</td>\n",
       "      <td>male</td>\n",
       "      <td>15</td>\n",
       "      <td>Student</td>\n",
       "      <td>Leo</td>\n",
       "      <td>14,May,2004</td>\n",
       "      <td>Info has been found (+/- 100 pages,...</td>\n",
       "    </tr>\n",
       "    <tr>\n",
       "      <th>1</th>\n",
       "      <td>2059027</td>\n",
       "      <td>male</td>\n",
       "      <td>15</td>\n",
       "      <td>Student</td>\n",
       "      <td>Leo</td>\n",
       "      <td>13,May,2004</td>\n",
       "      <td>These are the team members:   Drewe...</td>\n",
       "    </tr>\n",
       "    <tr>\n",
       "      <th>2</th>\n",
       "      <td>2059027</td>\n",
       "      <td>male</td>\n",
       "      <td>15</td>\n",
       "      <td>Student</td>\n",
       "      <td>Leo</td>\n",
       "      <td>12,May,2004</td>\n",
       "      <td>In het kader van kernfusie op aarde...</td>\n",
       "    </tr>\n",
       "    <tr>\n",
       "      <th>3</th>\n",
       "      <td>2059027</td>\n",
       "      <td>male</td>\n",
       "      <td>15</td>\n",
       "      <td>Student</td>\n",
       "      <td>Leo</td>\n",
       "      <td>12,May,2004</td>\n",
       "      <td>testing!!!  testing!!!</td>\n",
       "    </tr>\n",
       "    <tr>\n",
       "      <th>4</th>\n",
       "      <td>3581210</td>\n",
       "      <td>male</td>\n",
       "      <td>33</td>\n",
       "      <td>InvestmentBanking</td>\n",
       "      <td>Aquarius</td>\n",
       "      <td>11,June,2004</td>\n",
       "      <td>Thanks to Yahoo!'s Toolbar I can ...</td>\n",
       "    </tr>\n",
       "    <tr>\n",
       "      <th>...</th>\n",
       "      <td>...</td>\n",
       "      <td>...</td>\n",
       "      <td>...</td>\n",
       "      <td>...</td>\n",
       "      <td>...</td>\n",
       "      <td>...</td>\n",
       "      <td>...</td>\n",
       "    </tr>\n",
       "    <tr>\n",
       "      <th>681279</th>\n",
       "      <td>1713845</td>\n",
       "      <td>male</td>\n",
       "      <td>23</td>\n",
       "      <td>Student</td>\n",
       "      <td>Taurus</td>\n",
       "      <td>01,July,2004</td>\n",
       "      <td>Dear Susan,  I could write some really ...</td>\n",
       "    </tr>\n",
       "    <tr>\n",
       "      <th>681280</th>\n",
       "      <td>1713845</td>\n",
       "      <td>male</td>\n",
       "      <td>23</td>\n",
       "      <td>Student</td>\n",
       "      <td>Taurus</td>\n",
       "      <td>01,July,2004</td>\n",
       "      <td>Dear Susan,  'I have the second yeast i...</td>\n",
       "    </tr>\n",
       "    <tr>\n",
       "      <th>681281</th>\n",
       "      <td>1713845</td>\n",
       "      <td>male</td>\n",
       "      <td>23</td>\n",
       "      <td>Student</td>\n",
       "      <td>Taurus</td>\n",
       "      <td>01,July,2004</td>\n",
       "      <td>Dear Susan,  Your 'boyfriend' is fuckin...</td>\n",
       "    </tr>\n",
       "    <tr>\n",
       "      <th>681282</th>\n",
       "      <td>1713845</td>\n",
       "      <td>male</td>\n",
       "      <td>23</td>\n",
       "      <td>Student</td>\n",
       "      <td>Taurus</td>\n",
       "      <td>01,July,2004</td>\n",
       "      <td>Dear Susan:    Just to clarify, I am as...</td>\n",
       "    </tr>\n",
       "    <tr>\n",
       "      <th>681283</th>\n",
       "      <td>1713845</td>\n",
       "      <td>male</td>\n",
       "      <td>23</td>\n",
       "      <td>Student</td>\n",
       "      <td>Taurus</td>\n",
       "      <td>01,July,2004</td>\n",
       "      <td>Hey everybody...and Susan,  You might a...</td>\n",
       "    </tr>\n",
       "  </tbody>\n",
       "</table>\n",
       "<p>681284 rows × 7 columns</p>\n",
       "</div>"
      ],
      "text/plain": [
       "             id gender  age              topic      sign          date   \n",
       "0       2059027   male   15            Student       Leo   14,May,2004  \\\n",
       "1       2059027   male   15            Student       Leo   13,May,2004   \n",
       "2       2059027   male   15            Student       Leo   12,May,2004   \n",
       "3       2059027   male   15            Student       Leo   12,May,2004   \n",
       "4       3581210   male   33  InvestmentBanking  Aquarius  11,June,2004   \n",
       "...         ...    ...  ...                ...       ...           ...   \n",
       "681279  1713845   male   23            Student    Taurus  01,July,2004   \n",
       "681280  1713845   male   23            Student    Taurus  01,July,2004   \n",
       "681281  1713845   male   23            Student    Taurus  01,July,2004   \n",
       "681282  1713845   male   23            Student    Taurus  01,July,2004   \n",
       "681283  1713845   male   23            Student    Taurus  01,July,2004   \n",
       "\n",
       "                                                     text  \n",
       "0                  Info has been found (+/- 100 pages,...  \n",
       "1                  These are the team members:   Drewe...  \n",
       "2                  In het kader van kernfusie op aarde...  \n",
       "3                        testing!!!  testing!!!            \n",
       "4                    Thanks to Yahoo!'s Toolbar I can ...  \n",
       "...                                                   ...  \n",
       "681279         Dear Susan,  I could write some really ...  \n",
       "681280         Dear Susan,  'I have the second yeast i...  \n",
       "681281         Dear Susan,  Your 'boyfriend' is fuckin...  \n",
       "681282         Dear Susan:    Just to clarify, I am as...  \n",
       "681283         Hey everybody...and Susan,  You might a...  \n",
       "\n",
       "[681284 rows x 7 columns]"
      ]
     },
     "execution_count": 2,
     "metadata": {},
     "output_type": "execute_result"
    }
   ],
   "source": [
    "full_data = pd.read_csv(r'Datasets\\Blog Authorship Corpus\\blogtext.csv')\n",
    "# train_data = pd.read_csv(r\"c50.csv\")\n",
    "# test_data = pd.read_csv(r\"c50_Test.csv\")\n",
    "# test_data = test_data.drop(test_data.columns[0], axis=1)\n",
    "# test_data\n",
    "full_data"
   ]
  },
  {
   "cell_type": "code",
   "execution_count": 3,
   "metadata": {},
   "outputs": [],
   "source": [
    "# cols = list(test_data.columns)\n",
    "# cols = [cols[-1]] + cols[:-1]\n",
    "# test_data = test_data.reindex(columns=cols)\n",
    "# test_data = test_data.rename(columns={'true-author': 'Author'})\n",
    "# test_data = test_data.drop(columns='ID', axis=1)\n",
    "# test_data"
   ]
  },
  {
   "cell_type": "code",
   "execution_count": 4,
   "metadata": {},
   "outputs": [],
   "source": [
    "# full_data = pd.concat([train_data, test_data])\n",
    "full_data = full_data.rename(columns={'text': 'Text'})\n",
    "full_data = full_data.rename(columns={'id': 'Author'})"
   ]
  },
  {
   "cell_type": "code",
   "execution_count": 5,
   "metadata": {},
   "outputs": [],
   "source": [
    "# test_data = test_data.rename(columns={'true-author': 'Author'})\n",
    "# test_data"
   ]
  },
  {
   "cell_type": "code",
   "execution_count": 6,
   "metadata": {},
   "outputs": [],
   "source": [
    "# test_data = test_data.drop(columns='ID', axis=1)\n",
    "# test_data"
   ]
  },
  {
   "cell_type": "code",
   "execution_count": 7,
   "metadata": {},
   "outputs": [
    {
     "data": {
      "text/html": [
       "<div>\n",
       "<style scoped>\n",
       "    .dataframe tbody tr th:only-of-type {\n",
       "        vertical-align: middle;\n",
       "    }\n",
       "\n",
       "    .dataframe tbody tr th {\n",
       "        vertical-align: top;\n",
       "    }\n",
       "\n",
       "    .dataframe thead th {\n",
       "        text-align: right;\n",
       "    }\n",
       "</style>\n",
       "<table border=\"1\" class=\"dataframe\">\n",
       "  <thead>\n",
       "    <tr style=\"text-align: right;\">\n",
       "      <th></th>\n",
       "      <th>Author</th>\n",
       "      <th>gender</th>\n",
       "      <th>age</th>\n",
       "      <th>topic</th>\n",
       "      <th>sign</th>\n",
       "      <th>date</th>\n",
       "      <th>Text</th>\n",
       "    </tr>\n",
       "  </thead>\n",
       "  <tbody>\n",
       "    <tr>\n",
       "      <th>0</th>\n",
       "      <td>2059027</td>\n",
       "      <td>male</td>\n",
       "      <td>15</td>\n",
       "      <td>Student</td>\n",
       "      <td>Leo</td>\n",
       "      <td>14,May,2004</td>\n",
       "      <td>Info has been found (+/- 100 pages,...</td>\n",
       "    </tr>\n",
       "    <tr>\n",
       "      <th>1</th>\n",
       "      <td>2059027</td>\n",
       "      <td>male</td>\n",
       "      <td>15</td>\n",
       "      <td>Student</td>\n",
       "      <td>Leo</td>\n",
       "      <td>13,May,2004</td>\n",
       "      <td>These are the team members:   Drewe...</td>\n",
       "    </tr>\n",
       "    <tr>\n",
       "      <th>2</th>\n",
       "      <td>2059027</td>\n",
       "      <td>male</td>\n",
       "      <td>15</td>\n",
       "      <td>Student</td>\n",
       "      <td>Leo</td>\n",
       "      <td>12,May,2004</td>\n",
       "      <td>In het kader van kernfusie op aarde...</td>\n",
       "    </tr>\n",
       "    <tr>\n",
       "      <th>3</th>\n",
       "      <td>2059027</td>\n",
       "      <td>male</td>\n",
       "      <td>15</td>\n",
       "      <td>Student</td>\n",
       "      <td>Leo</td>\n",
       "      <td>12,May,2004</td>\n",
       "      <td>testing!!!  testing!!!</td>\n",
       "    </tr>\n",
       "    <tr>\n",
       "      <th>4</th>\n",
       "      <td>3581210</td>\n",
       "      <td>male</td>\n",
       "      <td>33</td>\n",
       "      <td>InvestmentBanking</td>\n",
       "      <td>Aquarius</td>\n",
       "      <td>11,June,2004</td>\n",
       "      <td>Thanks to Yahoo!'s Toolbar I can ...</td>\n",
       "    </tr>\n",
       "    <tr>\n",
       "      <th>...</th>\n",
       "      <td>...</td>\n",
       "      <td>...</td>\n",
       "      <td>...</td>\n",
       "      <td>...</td>\n",
       "      <td>...</td>\n",
       "      <td>...</td>\n",
       "      <td>...</td>\n",
       "    </tr>\n",
       "    <tr>\n",
       "      <th>681279</th>\n",
       "      <td>1713845</td>\n",
       "      <td>male</td>\n",
       "      <td>23</td>\n",
       "      <td>Student</td>\n",
       "      <td>Taurus</td>\n",
       "      <td>01,July,2004</td>\n",
       "      <td>Dear Susan,  I could write some really ...</td>\n",
       "    </tr>\n",
       "    <tr>\n",
       "      <th>681280</th>\n",
       "      <td>1713845</td>\n",
       "      <td>male</td>\n",
       "      <td>23</td>\n",
       "      <td>Student</td>\n",
       "      <td>Taurus</td>\n",
       "      <td>01,July,2004</td>\n",
       "      <td>Dear Susan,  'I have the second yeast i...</td>\n",
       "    </tr>\n",
       "    <tr>\n",
       "      <th>681281</th>\n",
       "      <td>1713845</td>\n",
       "      <td>male</td>\n",
       "      <td>23</td>\n",
       "      <td>Student</td>\n",
       "      <td>Taurus</td>\n",
       "      <td>01,July,2004</td>\n",
       "      <td>Dear Susan,  Your 'boyfriend' is fuckin...</td>\n",
       "    </tr>\n",
       "    <tr>\n",
       "      <th>681282</th>\n",
       "      <td>1713845</td>\n",
       "      <td>male</td>\n",
       "      <td>23</td>\n",
       "      <td>Student</td>\n",
       "      <td>Taurus</td>\n",
       "      <td>01,July,2004</td>\n",
       "      <td>Dear Susan:    Just to clarify, I am as...</td>\n",
       "    </tr>\n",
       "    <tr>\n",
       "      <th>681283</th>\n",
       "      <td>1713845</td>\n",
       "      <td>male</td>\n",
       "      <td>23</td>\n",
       "      <td>Student</td>\n",
       "      <td>Taurus</td>\n",
       "      <td>01,July,2004</td>\n",
       "      <td>Hey everybody...and Susan,  You might a...</td>\n",
       "    </tr>\n",
       "  </tbody>\n",
       "</table>\n",
       "<p>681284 rows × 7 columns</p>\n",
       "</div>"
      ],
      "text/plain": [
       "         Author gender  age              topic      sign          date   \n",
       "0       2059027   male   15            Student       Leo   14,May,2004  \\\n",
       "1       2059027   male   15            Student       Leo   13,May,2004   \n",
       "2       2059027   male   15            Student       Leo   12,May,2004   \n",
       "3       2059027   male   15            Student       Leo   12,May,2004   \n",
       "4       3581210   male   33  InvestmentBanking  Aquarius  11,June,2004   \n",
       "...         ...    ...  ...                ...       ...           ...   \n",
       "681279  1713845   male   23            Student    Taurus  01,July,2004   \n",
       "681280  1713845   male   23            Student    Taurus  01,July,2004   \n",
       "681281  1713845   male   23            Student    Taurus  01,July,2004   \n",
       "681282  1713845   male   23            Student    Taurus  01,July,2004   \n",
       "681283  1713845   male   23            Student    Taurus  01,July,2004   \n",
       "\n",
       "                                                     Text  \n",
       "0                  Info has been found (+/- 100 pages,...  \n",
       "1                  These are the team members:   Drewe...  \n",
       "2                  In het kader van kernfusie op aarde...  \n",
       "3                        testing!!!  testing!!!            \n",
       "4                    Thanks to Yahoo!'s Toolbar I can ...  \n",
       "...                                                   ...  \n",
       "681279         Dear Susan,  I could write some really ...  \n",
       "681280         Dear Susan,  'I have the second yeast i...  \n",
       "681281         Dear Susan,  Your 'boyfriend' is fuckin...  \n",
       "681282         Dear Susan:    Just to clarify, I am as...  \n",
       "681283         Hey everybody...and Susan,  You might a...  \n",
       "\n",
       "[681284 rows x 7 columns]"
      ]
     },
     "execution_count": 7,
     "metadata": {},
     "output_type": "execute_result"
    }
   ],
   "source": [
    "# full_data = pd.concat([train_data, test_data])\n",
    "full_data"
   ]
  },
  {
   "attachments": {},
   "cell_type": "markdown",
   "metadata": {},
   "source": [
    "## Text preprocessing"
   ]
  },
  {
   "cell_type": "code",
   "execution_count": 8,
   "metadata": {},
   "outputs": [],
   "source": [
    "# remove leading and trailing whitespace\n",
    "# train_data['Text'] = train_data['Text'].str.strip()\n",
    "# test_data['Text'] = test_data['Text'].str.strip()\n",
    "full_data['Text'] = full_data['Text'].str.strip()\n",
    "\n",
    "# # replace multiple spaces with a single space\n",
    "# train_data['Text'] = train_data['Text'].str.replace(r'\\s+', ' ')\n",
    "# test_data['Text'] = test_data['Text'].str.replace(r'\\s+', ' ')\n",
    "full_data['Text'] = full_data['Text'].str.replace(r'\\s+', ' ')\n"
   ]
  },
  {
   "cell_type": "code",
   "execution_count": 9,
   "metadata": {},
   "outputs": [],
   "source": [
    "# df = df.drop(df.columns[0], axis=1)\n",
    "# full_data = full_data.drop(full_data.columns[1:6], axis=1)\n",
    "# full_data = full_data.rename(columns={'text': 'Text'})\n",
    "# full_data.head(5)\n",
    "# test_data = test_data.drop(test_data.columns[0], axis=1)\n",
    "# test_data\n",
    "# train_data"
   ]
  },
  {
   "cell_type": "code",
   "execution_count": 11,
   "metadata": {},
   "outputs": [],
   "source": [
    "# train_data\n"
   ]
  },
  {
   "cell_type": "code",
   "execution_count": 12,
   "metadata": {},
   "outputs": [],
   "source": [
    "# lambda function to remove emails\n",
    "remove_emails = lambda x: re.sub(r'\\S+@\\S+', '', x)\n",
    "\n",
    "# lambda function to remove URLs\n",
    "remove_urls = lambda x: re.sub(r'http\\S+', '', x)\n",
    "# train_data['Text'] = train_data['Text'].apply(remove_emails).apply(remove_urls)\n",
    "# test_data['Text'] = test_data['Text'].apply(remove_emails).apply(remove_urls)\n",
    "full_data['Text'] = full_data['Text'].apply(remove_emails).apply(remove_urls)\n",
    "\n",
    "# Remove unwanted characters and convert to lowercase\n",
    "# train_data['Text'] = train_data['Text'].apply(lambda x: re.sub('[%s]' % re.escape(string.punctuation), '', x.lower()))\n",
    "# test_data['Text'] = test_data['Text'].apply(lambda x: re.sub('[%s]' % re.escape(string.punctuation), '', x.lower()))\n",
    "full_data['Text'] = full_data['Text'].apply(lambda x: re.sub('[%s]' % re.escape(string.punctuation), '', x.lower()))\n",
    "\n",
    "# print(type(train_data['Text']))"
   ]
  },
  {
   "cell_type": "code",
   "execution_count": 13,
   "metadata": {},
   "outputs": [
    {
     "data": {
      "text/html": [
       "<div>\n",
       "<style scoped>\n",
       "    .dataframe tbody tr th:only-of-type {\n",
       "        vertical-align: middle;\n",
       "    }\n",
       "\n",
       "    .dataframe tbody tr th {\n",
       "        vertical-align: top;\n",
       "    }\n",
       "\n",
       "    .dataframe thead th {\n",
       "        text-align: right;\n",
       "    }\n",
       "</style>\n",
       "<table border=\"1\" class=\"dataframe\">\n",
       "  <thead>\n",
       "    <tr style=\"text-align: right;\">\n",
       "      <th></th>\n",
       "      <th>Author</th>\n",
       "      <th>gender</th>\n",
       "      <th>age</th>\n",
       "      <th>topic</th>\n",
       "      <th>sign</th>\n",
       "      <th>date</th>\n",
       "      <th>Text</th>\n",
       "    </tr>\n",
       "  </thead>\n",
       "  <tbody>\n",
       "    <tr>\n",
       "      <th>0</th>\n",
       "      <td>2059027</td>\n",
       "      <td>male</td>\n",
       "      <td>15</td>\n",
       "      <td>Student</td>\n",
       "      <td>Leo</td>\n",
       "      <td>14,May,2004</td>\n",
       "      <td>info has been found  100 pages and 45 mb of pd...</td>\n",
       "    </tr>\n",
       "    <tr>\n",
       "      <th>1</th>\n",
       "      <td>2059027</td>\n",
       "      <td>male</td>\n",
       "      <td>15</td>\n",
       "      <td>Student</td>\n",
       "      <td>Leo</td>\n",
       "      <td>13,May,2004</td>\n",
       "      <td>these are the team members   drewes van der la...</td>\n",
       "    </tr>\n",
       "    <tr>\n",
       "      <th>2</th>\n",
       "      <td>2059027</td>\n",
       "      <td>male</td>\n",
       "      <td>15</td>\n",
       "      <td>Student</td>\n",
       "      <td>Leo</td>\n",
       "      <td>12,May,2004</td>\n",
       "      <td>in het kader van kernfusie op aarde  maak je e...</td>\n",
       "    </tr>\n",
       "    <tr>\n",
       "      <th>3</th>\n",
       "      <td>2059027</td>\n",
       "      <td>male</td>\n",
       "      <td>15</td>\n",
       "      <td>Student</td>\n",
       "      <td>Leo</td>\n",
       "      <td>12,May,2004</td>\n",
       "      <td>testing  testing</td>\n",
       "    </tr>\n",
       "    <tr>\n",
       "      <th>4</th>\n",
       "      <td>3581210</td>\n",
       "      <td>male</td>\n",
       "      <td>33</td>\n",
       "      <td>InvestmentBanking</td>\n",
       "      <td>Aquarius</td>\n",
       "      <td>11,June,2004</td>\n",
       "      <td>thanks to yahoos toolbar i can now capture the...</td>\n",
       "    </tr>\n",
       "    <tr>\n",
       "      <th>...</th>\n",
       "      <td>...</td>\n",
       "      <td>...</td>\n",
       "      <td>...</td>\n",
       "      <td>...</td>\n",
       "      <td>...</td>\n",
       "      <td>...</td>\n",
       "      <td>...</td>\n",
       "    </tr>\n",
       "    <tr>\n",
       "      <th>681279</th>\n",
       "      <td>1713845</td>\n",
       "      <td>male</td>\n",
       "      <td>23</td>\n",
       "      <td>Student</td>\n",
       "      <td>Taurus</td>\n",
       "      <td>01,July,2004</td>\n",
       "      <td>dear susan  i could write some really bitter d...</td>\n",
       "    </tr>\n",
       "    <tr>\n",
       "      <th>681280</th>\n",
       "      <td>1713845</td>\n",
       "      <td>male</td>\n",
       "      <td>23</td>\n",
       "      <td>Student</td>\n",
       "      <td>Taurus</td>\n",
       "      <td>01,July,2004</td>\n",
       "      <td>dear susan  i have the second yeast infection ...</td>\n",
       "    </tr>\n",
       "    <tr>\n",
       "      <th>681281</th>\n",
       "      <td>1713845</td>\n",
       "      <td>male</td>\n",
       "      <td>23</td>\n",
       "      <td>Student</td>\n",
       "      <td>Taurus</td>\n",
       "      <td>01,July,2004</td>\n",
       "      <td>dear susan  your boyfriend is fucking bald  go...</td>\n",
       "    </tr>\n",
       "    <tr>\n",
       "      <th>681282</th>\n",
       "      <td>1713845</td>\n",
       "      <td>male</td>\n",
       "      <td>23</td>\n",
       "      <td>Student</td>\n",
       "      <td>Taurus</td>\n",
       "      <td>01,July,2004</td>\n",
       "      <td>dear susan    just to clarify i am asking you ...</td>\n",
       "    </tr>\n",
       "    <tr>\n",
       "      <th>681283</th>\n",
       "      <td>1713845</td>\n",
       "      <td>male</td>\n",
       "      <td>23</td>\n",
       "      <td>Student</td>\n",
       "      <td>Taurus</td>\n",
       "      <td>01,July,2004</td>\n",
       "      <td>hey everybodyand susan  you might already know...</td>\n",
       "    </tr>\n",
       "  </tbody>\n",
       "</table>\n",
       "<p>681284 rows × 7 columns</p>\n",
       "</div>"
      ],
      "text/plain": [
       "         Author gender  age              topic      sign          date   \n",
       "0       2059027   male   15            Student       Leo   14,May,2004  \\\n",
       "1       2059027   male   15            Student       Leo   13,May,2004   \n",
       "2       2059027   male   15            Student       Leo   12,May,2004   \n",
       "3       2059027   male   15            Student       Leo   12,May,2004   \n",
       "4       3581210   male   33  InvestmentBanking  Aquarius  11,June,2004   \n",
       "...         ...    ...  ...                ...       ...           ...   \n",
       "681279  1713845   male   23            Student    Taurus  01,July,2004   \n",
       "681280  1713845   male   23            Student    Taurus  01,July,2004   \n",
       "681281  1713845   male   23            Student    Taurus  01,July,2004   \n",
       "681282  1713845   male   23            Student    Taurus  01,July,2004   \n",
       "681283  1713845   male   23            Student    Taurus  01,July,2004   \n",
       "\n",
       "                                                     Text  \n",
       "0       info has been found  100 pages and 45 mb of pd...  \n",
       "1       these are the team members   drewes van der la...  \n",
       "2       in het kader van kernfusie op aarde  maak je e...  \n",
       "3                                        testing  testing  \n",
       "4       thanks to yahoos toolbar i can now capture the...  \n",
       "...                                                   ...  \n",
       "681279  dear susan  i could write some really bitter d...  \n",
       "681280  dear susan  i have the second yeast infection ...  \n",
       "681281  dear susan  your boyfriend is fucking bald  go...  \n",
       "681282  dear susan    just to clarify i am asking you ...  \n",
       "681283  hey everybodyand susan  you might already know...  \n",
       "\n",
       "[681284 rows x 7 columns]"
      ]
     },
     "execution_count": 13,
     "metadata": {},
     "output_type": "execute_result"
    }
   ],
   "source": [
    "# train_data\n",
    "full_data"
   ]
  },
  {
   "cell_type": "code",
   "execution_count": 14,
   "metadata": {},
   "outputs": [],
   "source": [
    "# # Tokenize the text\n",
    "# data['text'] = data['text'].apply(lambda x: word_tokenize(x))\n",
    "# print(type(data['text']))\n",
    "\n",
    "# Remove stop words\n",
    "# stop_words = set(stopwords.words('english'))\n",
    "# remove_stopwords = lambda text: ' '.join([word for word in text.split() if word.lower() not in stop_words])\n",
    "\n",
    "# data['text'] = data['text'].apply(remove_stopwords)\n",
    "# print(type(data['text']))\n",
    "\n",
    "# remove newline characters\n",
    "# train_data['Text'] = train_data['Text'].str.replace('\\n', '')\n",
    "# test_data['Text'] = test_data['Text'].str.replace('\\n', '')\n",
    "full_data['Text'] = full_data['Text'].str.replace('\\n', '')\n",
    "\n",
    "# # Lemmatize the text\n",
    "# lemmatizer = WordNetLemmatizer()\n",
    "# data['text'] = data['text'].apply(lambda x: [lemmatizer.lemmatize(word) for word in x])\n",
    "# print(type(data['text']))"
   ]
  },
  {
   "cell_type": "code",
   "execution_count": 15,
   "metadata": {},
   "outputs": [
    {
     "data": {
      "text/html": [
       "<div>\n",
       "<style scoped>\n",
       "    .dataframe tbody tr th:only-of-type {\n",
       "        vertical-align: middle;\n",
       "    }\n",
       "\n",
       "    .dataframe tbody tr th {\n",
       "        vertical-align: top;\n",
       "    }\n",
       "\n",
       "    .dataframe thead th {\n",
       "        text-align: right;\n",
       "    }\n",
       "</style>\n",
       "<table border=\"1\" class=\"dataframe\">\n",
       "  <thead>\n",
       "    <tr style=\"text-align: right;\">\n",
       "      <th></th>\n",
       "      <th>Author</th>\n",
       "      <th>gender</th>\n",
       "      <th>age</th>\n",
       "      <th>topic</th>\n",
       "      <th>sign</th>\n",
       "      <th>date</th>\n",
       "      <th>Text</th>\n",
       "    </tr>\n",
       "  </thead>\n",
       "  <tbody>\n",
       "    <tr>\n",
       "      <th>0</th>\n",
       "      <td>2059027</td>\n",
       "      <td>male</td>\n",
       "      <td>15</td>\n",
       "      <td>Student</td>\n",
       "      <td>Leo</td>\n",
       "      <td>14,May,2004</td>\n",
       "      <td>info has been found  100 pages and 45 mb of pd...</td>\n",
       "    </tr>\n",
       "    <tr>\n",
       "      <th>1</th>\n",
       "      <td>2059027</td>\n",
       "      <td>male</td>\n",
       "      <td>15</td>\n",
       "      <td>Student</td>\n",
       "      <td>Leo</td>\n",
       "      <td>13,May,2004</td>\n",
       "      <td>these are the team members   drewes van der la...</td>\n",
       "    </tr>\n",
       "    <tr>\n",
       "      <th>2</th>\n",
       "      <td>2059027</td>\n",
       "      <td>male</td>\n",
       "      <td>15</td>\n",
       "      <td>Student</td>\n",
       "      <td>Leo</td>\n",
       "      <td>12,May,2004</td>\n",
       "      <td>in het kader van kernfusie op aarde  maak je e...</td>\n",
       "    </tr>\n",
       "    <tr>\n",
       "      <th>3</th>\n",
       "      <td>2059027</td>\n",
       "      <td>male</td>\n",
       "      <td>15</td>\n",
       "      <td>Student</td>\n",
       "      <td>Leo</td>\n",
       "      <td>12,May,2004</td>\n",
       "      <td>testing  testing</td>\n",
       "    </tr>\n",
       "    <tr>\n",
       "      <th>4</th>\n",
       "      <td>3581210</td>\n",
       "      <td>male</td>\n",
       "      <td>33</td>\n",
       "      <td>InvestmentBanking</td>\n",
       "      <td>Aquarius</td>\n",
       "      <td>11,June,2004</td>\n",
       "      <td>thanks to yahoos toolbar i can now capture the...</td>\n",
       "    </tr>\n",
       "    <tr>\n",
       "      <th>...</th>\n",
       "      <td>...</td>\n",
       "      <td>...</td>\n",
       "      <td>...</td>\n",
       "      <td>...</td>\n",
       "      <td>...</td>\n",
       "      <td>...</td>\n",
       "      <td>...</td>\n",
       "    </tr>\n",
       "    <tr>\n",
       "      <th>681279</th>\n",
       "      <td>1713845</td>\n",
       "      <td>male</td>\n",
       "      <td>23</td>\n",
       "      <td>Student</td>\n",
       "      <td>Taurus</td>\n",
       "      <td>01,July,2004</td>\n",
       "      <td>dear susan  i could write some really bitter d...</td>\n",
       "    </tr>\n",
       "    <tr>\n",
       "      <th>681280</th>\n",
       "      <td>1713845</td>\n",
       "      <td>male</td>\n",
       "      <td>23</td>\n",
       "      <td>Student</td>\n",
       "      <td>Taurus</td>\n",
       "      <td>01,July,2004</td>\n",
       "      <td>dear susan  i have the second yeast infection ...</td>\n",
       "    </tr>\n",
       "    <tr>\n",
       "      <th>681281</th>\n",
       "      <td>1713845</td>\n",
       "      <td>male</td>\n",
       "      <td>23</td>\n",
       "      <td>Student</td>\n",
       "      <td>Taurus</td>\n",
       "      <td>01,July,2004</td>\n",
       "      <td>dear susan  your boyfriend is fucking bald  go...</td>\n",
       "    </tr>\n",
       "    <tr>\n",
       "      <th>681282</th>\n",
       "      <td>1713845</td>\n",
       "      <td>male</td>\n",
       "      <td>23</td>\n",
       "      <td>Student</td>\n",
       "      <td>Taurus</td>\n",
       "      <td>01,July,2004</td>\n",
       "      <td>dear susan    just to clarify i am asking you ...</td>\n",
       "    </tr>\n",
       "    <tr>\n",
       "      <th>681283</th>\n",
       "      <td>1713845</td>\n",
       "      <td>male</td>\n",
       "      <td>23</td>\n",
       "      <td>Student</td>\n",
       "      <td>Taurus</td>\n",
       "      <td>01,July,2004</td>\n",
       "      <td>hey everybodyand susan  you might already know...</td>\n",
       "    </tr>\n",
       "  </tbody>\n",
       "</table>\n",
       "<p>681284 rows × 7 columns</p>\n",
       "</div>"
      ],
      "text/plain": [
       "         Author gender  age              topic      sign          date   \n",
       "0       2059027   male   15            Student       Leo   14,May,2004  \\\n",
       "1       2059027   male   15            Student       Leo   13,May,2004   \n",
       "2       2059027   male   15            Student       Leo   12,May,2004   \n",
       "3       2059027   male   15            Student       Leo   12,May,2004   \n",
       "4       3581210   male   33  InvestmentBanking  Aquarius  11,June,2004   \n",
       "...         ...    ...  ...                ...       ...           ...   \n",
       "681279  1713845   male   23            Student    Taurus  01,July,2004   \n",
       "681280  1713845   male   23            Student    Taurus  01,July,2004   \n",
       "681281  1713845   male   23            Student    Taurus  01,July,2004   \n",
       "681282  1713845   male   23            Student    Taurus  01,July,2004   \n",
       "681283  1713845   male   23            Student    Taurus  01,July,2004   \n",
       "\n",
       "                                                     Text  \n",
       "0       info has been found  100 pages and 45 mb of pd...  \n",
       "1       these are the team members   drewes van der la...  \n",
       "2       in het kader van kernfusie op aarde  maak je e...  \n",
       "3                                        testing  testing  \n",
       "4       thanks to yahoos toolbar i can now capture the...  \n",
       "...                                                   ...  \n",
       "681279  dear susan  i could write some really bitter d...  \n",
       "681280  dear susan  i have the second yeast infection ...  \n",
       "681281  dear susan  your boyfriend is fucking bald  go...  \n",
       "681282  dear susan    just to clarify i am asking you ...  \n",
       "681283  hey everybodyand susan  you might already know...  \n",
       "\n",
       "[681284 rows x 7 columns]"
      ]
     },
     "execution_count": 15,
     "metadata": {},
     "output_type": "execute_result"
    }
   ],
   "source": [
    "# train_data\n",
    "# test_data\n",
    "full_data"
   ]
  },
  {
   "cell_type": "code",
   "execution_count": 16,
   "metadata": {},
   "outputs": [],
   "source": [
    "word_count_func = lambda x: len(x.split())\n",
    "# train_data['word_count'] = train_data['Text'].apply(word_count_func)\n",
    "# test_data['word_count'] = test_data['Text'].apply(word_count_func)\n",
    "full_data['word_count'] = full_data['Text'].apply(word_count_func)"
   ]
  },
  {
   "cell_type": "code",
   "execution_count": 17,
   "metadata": {},
   "outputs": [
    {
     "data": {
      "text/plain": [
       "<Figure size 800x800 with 0 Axes>"
      ]
     },
     "metadata": {},
     "output_type": "display_data"
    },
    {
     "data": {
      "image/png": "[encoded data removed]",
      "text/plain": [
       "<Figure size 500x500 with 1 Axes>"
      ]
     },
     "metadata": {},
     "output_type": "display_data"
    }
   ],
   "source": [
    "plt.figure(figsize= (8, 8))\n",
    "\n",
    "sns.displot(full_data['word_count'])\n",
    "\n",
    "plt.xlim(0, 1000)\n",
    "\n",
    "plt.xlabel('The num of words ', fontsize = 16)\n",
    "plt.title(\"The Number of Words Distribution\", fontsize = 18)\n",
    "plt.show()"
   ]
  },
  {
   "cell_type": "code",
   "execution_count": 18,
   "metadata": {},
   "outputs": [],
   "source": [
    "# MAX = full_data['word_count'].max()\n",
    "# MAX"
   ]
  },
  {
   "attachments": {},
   "cell_type": "markdown",
   "metadata": {},
   "source": [
    "# Selecting Authors"
   ]
  },
  {
   "cell_type": "code",
   "execution_count": 19,
   "metadata": {},
   "outputs": [
    {
     "data": {
      "text/html": [
       "<div>\n",
       "<style scoped>\n",
       "    .dataframe tbody tr th:only-of-type {\n",
       "        vertical-align: middle;\n",
       "    }\n",
       "\n",
       "    .dataframe tbody tr th {\n",
       "        vertical-align: top;\n",
       "    }\n",
       "\n",
       "    .dataframe thead th {\n",
       "        text-align: right;\n",
       "    }\n",
       "</style>\n",
       "<table border=\"1\" class=\"dataframe\">\n",
       "  <thead>\n",
       "    <tr style=\"text-align: right;\">\n",
       "      <th></th>\n",
       "      <th>Author</th>\n",
       "      <th>gender</th>\n",
       "      <th>age</th>\n",
       "      <th>topic</th>\n",
       "      <th>sign</th>\n",
       "      <th>date</th>\n",
       "      <th>Text</th>\n",
       "      <th>word_count</th>\n",
       "    </tr>\n",
       "  </thead>\n",
       "  <tbody>\n",
       "    <tr>\n",
       "      <th>4</th>\n",
       "      <td>3581210</td>\n",
       "      <td>male</td>\n",
       "      <td>33</td>\n",
       "      <td>InvestmentBanking</td>\n",
       "      <td>Aquarius</td>\n",
       "      <td>11,June,2004</td>\n",
       "      <td>thanks to yahoos toolbar i can now capture the...</td>\n",
       "      <td>65</td>\n",
       "    </tr>\n",
       "    <tr>\n",
       "      <th>13</th>\n",
       "      <td>3581210</td>\n",
       "      <td>male</td>\n",
       "      <td>33</td>\n",
       "      <td>InvestmentBanking</td>\n",
       "      <td>Aquarius</td>\n",
       "      <td>09,June,2004</td>\n",
       "      <td>there is so much that is different here from a...</td>\n",
       "      <td>63</td>\n",
       "    </tr>\n",
       "    <tr>\n",
       "      <th>33</th>\n",
       "      <td>3581210</td>\n",
       "      <td>male</td>\n",
       "      <td>33</td>\n",
       "      <td>InvestmentBanking</td>\n",
       "      <td>Aquarius</td>\n",
       "      <td>29,June,2004</td>\n",
       "      <td>i often wondered where the restauranteurs heat...</td>\n",
       "      <td>73</td>\n",
       "    </tr>\n",
       "    <tr>\n",
       "      <th>97</th>\n",
       "      <td>3668238</td>\n",
       "      <td>female</td>\n",
       "      <td>17</td>\n",
       "      <td>Student</td>\n",
       "      <td>Gemini</td>\n",
       "      <td>30,June,2004</td>\n",
       "      <td>my shoes travel far and wide   one day i ...</td>\n",
       "      <td>35</td>\n",
       "    </tr>\n",
       "    <tr>\n",
       "      <th>108</th>\n",
       "      <td>4030905</td>\n",
       "      <td>female</td>\n",
       "      <td>17</td>\n",
       "      <td>Student</td>\n",
       "      <td>Aries</td>\n",
       "      <td>30,July,2004</td>\n",
       "      <td>such a boring day i have no comments i found o...</td>\n",
       "      <td>41</td>\n",
       "    </tr>\n",
       "    <tr>\n",
       "      <th>...</th>\n",
       "      <td>...</td>\n",
       "      <td>...</td>\n",
       "      <td>...</td>\n",
       "      <td>...</td>\n",
       "      <td>...</td>\n",
       "      <td>...</td>\n",
       "      <td>...</td>\n",
       "      <td>...</td>\n",
       "    </tr>\n",
       "    <tr>\n",
       "      <th>681275</th>\n",
       "      <td>1713845</td>\n",
       "      <td>male</td>\n",
       "      <td>23</td>\n",
       "      <td>Student</td>\n",
       "      <td>Taurus</td>\n",
       "      <td>04,July,2004</td>\n",
       "      <td>dear susan   its mom i just got those pictures...</td>\n",
       "      <td>48</td>\n",
       "    </tr>\n",
       "    <tr>\n",
       "      <th>681277</th>\n",
       "      <td>1713845</td>\n",
       "      <td>male</td>\n",
       "      <td>23</td>\n",
       "      <td>Student</td>\n",
       "      <td>Taurus</td>\n",
       "      <td>02,July,2004</td>\n",
       "      <td>dear susan  there once was a bird the size of ...</td>\n",
       "      <td>58</td>\n",
       "    </tr>\n",
       "    <tr>\n",
       "      <th>681279</th>\n",
       "      <td>1713845</td>\n",
       "      <td>male</td>\n",
       "      <td>23</td>\n",
       "      <td>Student</td>\n",
       "      <td>Taurus</td>\n",
       "      <td>01,July,2004</td>\n",
       "      <td>dear susan  i could write some really bitter d...</td>\n",
       "      <td>40</td>\n",
       "    </tr>\n",
       "    <tr>\n",
       "      <th>681280</th>\n",
       "      <td>1713845</td>\n",
       "      <td>male</td>\n",
       "      <td>23</td>\n",
       "      <td>Student</td>\n",
       "      <td>Taurus</td>\n",
       "      <td>01,July,2004</td>\n",
       "      <td>dear susan  i have the second yeast infection ...</td>\n",
       "      <td>65</td>\n",
       "    </tr>\n",
       "    <tr>\n",
       "      <th>681282</th>\n",
       "      <td>1713845</td>\n",
       "      <td>male</td>\n",
       "      <td>23</td>\n",
       "      <td>Student</td>\n",
       "      <td>Taurus</td>\n",
       "      <td>01,July,2004</td>\n",
       "      <td>dear susan    just to clarify i am asking you ...</td>\n",
       "      <td>65</td>\n",
       "    </tr>\n",
       "  </tbody>\n",
       "</table>\n",
       "<p>124504 rows × 8 columns</p>\n",
       "</div>"
      ],
      "text/plain": [
       "         Author  gender  age              topic      sign          date   \n",
       "4       3581210    male   33  InvestmentBanking  Aquarius  11,June,2004  \\\n",
       "13      3581210    male   33  InvestmentBanking  Aquarius  09,June,2004   \n",
       "33      3581210    male   33  InvestmentBanking  Aquarius  29,June,2004   \n",
       "97      3668238  female   17            Student    Gemini  30,June,2004   \n",
       "108     4030905  female   17            Student     Aries  30,July,2004   \n",
       "...         ...     ...  ...                ...       ...           ...   \n",
       "681275  1713845    male   23            Student    Taurus  04,July,2004   \n",
       "681277  1713845    male   23            Student    Taurus  02,July,2004   \n",
       "681279  1713845    male   23            Student    Taurus  01,July,2004   \n",
       "681280  1713845    male   23            Student    Taurus  01,July,2004   \n",
       "681282  1713845    male   23            Student    Taurus  01,July,2004   \n",
       "\n",
       "                                                     Text  word_count  \n",
       "4       thanks to yahoos toolbar i can now capture the...          65  \n",
       "13      there is so much that is different here from a...          63  \n",
       "33      i often wondered where the restauranteurs heat...          73  \n",
       "97           my shoes travel far and wide   one day i ...          35  \n",
       "108     such a boring day i have no comments i found o...          41  \n",
       "...                                                   ...         ...  \n",
       "681275  dear susan   its mom i just got those pictures...          48  \n",
       "681277  dear susan  there once was a bird the size of ...          58  \n",
       "681279  dear susan  i could write some really bitter d...          40  \n",
       "681280  dear susan  i have the second yeast infection ...          65  \n",
       "681282  dear susan    just to clarify i am asking you ...          65  \n",
       "\n",
       "[124504 rows x 8 columns]"
      ]
     },
     "execution_count": 19,
     "metadata": {},
     "output_type": "execute_result"
    }
   ],
   "source": [
    "selected_rows = full_data[(full_data['word_count'] >= 30) & (full_data['word_count'] <= 75)]\n",
    "# selected_rows = data[(data['word_count'] >= 200) & (data['word_count'] <= 325)]\n",
    "\n",
    "selected_rows\n",
    "# full_data"
   ]
  },
  {
   "cell_type": "code",
   "execution_count": 20,
   "metadata": {},
   "outputs": [
    {
     "data": {
      "text/plain": [
       "12083"
      ]
     },
     "execution_count": 20,
     "metadata": {},
     "output_type": "execute_result"
    }
   ],
   "source": [
    "len(selected_rows['Author'].unique()) \n"
   ]
  },
  {
   "cell_type": "code",
   "execution_count": 21,
   "metadata": {},
   "outputs": [],
   "source": [
    "# from langdetect import detect\n",
    "\n",
    "# # apply language detection to DataFrame and filter out non-English samples\n",
    "# df = df[df['Text'].apply(lambda x: detect(x) == 'en' if x else False)]\n",
    "# # df"
   ]
  },
  {
   "cell_type": "code",
   "execution_count": 22,
   "metadata": {},
   "outputs": [
    {
     "data": {
      "text/plain": [
       "Author\n",
       "449628     1132\n",
       "831241      994\n",
       "1078410     605\n",
       "942828      570\n",
       "1270648     562\n",
       "           ... \n",
       "4072007       1\n",
       "4223598       1\n",
       "2283243       1\n",
       "2992515       1\n",
       "3922561       1\n",
       "Name: count, Length: 12083, dtype: int64"
      ]
     },
     "execution_count": 22,
     "metadata": {},
     "output_type": "execute_result"
    }
   ],
   "source": [
    "#Num of samples per id\n",
    "counts = selected_rows['Author'].value_counts()\n",
    "counts"
   ]
  },
  {
   "cell_type": "code",
   "execution_count": 23,
   "metadata": {},
   "outputs": [
    {
     "data": {
      "text/plain": [
       "26"
      ]
     },
     "execution_count": 23,
     "metadata": {},
     "output_type": "execute_result"
    }
   ],
   "source": [
    "selected_rows = selected_rows[selected_rows['Author'].isin(counts[(counts >= 300) & (counts <= 425)].index)]\n",
    "# selected_rows = selected_rows[selected_rows['id'].isin(counts[(counts >= 100) & (counts <= 300)].index)]\n",
    "\n",
    "len(selected_rows['Author'].value_counts()) #34 authors with 70-95 samples"
   ]
  },
  {
   "cell_type": "code",
   "execution_count": 24,
   "metadata": {},
   "outputs": [],
   "source": [
    "df =selected_rows.reset_index(drop=True)\n",
    "# df = df.drop('word_count', axis=1)\n",
    "# df['Text'].iloc[0]"
   ]
  },
  {
   "cell_type": "code",
   "execution_count": 25,
   "metadata": {},
   "outputs": [
    {
     "data": {
      "text/html": [
       "<div>\n",
       "<style scoped>\n",
       "    .dataframe tbody tr th:only-of-type {\n",
       "        vertical-align: middle;\n",
       "    }\n",
       "\n",
       "    .dataframe tbody tr th {\n",
       "        vertical-align: top;\n",
       "    }\n",
       "\n",
       "    .dataframe thead th {\n",
       "        text-align: right;\n",
       "    }\n",
       "</style>\n",
       "<table border=\"1\" class=\"dataframe\">\n",
       "  <thead>\n",
       "    <tr style=\"text-align: right;\">\n",
       "      <th></th>\n",
       "      <th>Author</th>\n",
       "      <th>gender</th>\n",
       "      <th>age</th>\n",
       "      <th>topic</th>\n",
       "      <th>sign</th>\n",
       "      <th>date</th>\n",
       "      <th>Text</th>\n",
       "      <th>word_count</th>\n",
       "    </tr>\n",
       "  </thead>\n",
       "  <tbody>\n",
       "    <tr>\n",
       "      <th>0</th>\n",
       "      <td>883178</td>\n",
       "      <td>male</td>\n",
       "      <td>36</td>\n",
       "      <td>Fashion</td>\n",
       "      <td>Aries</td>\n",
       "      <td>30,August,2002</td>\n",
       "      <td>highlights  no highlights  the show sucked  so...</td>\n",
       "      <td>62</td>\n",
       "    </tr>\n",
       "    <tr>\n",
       "      <th>1</th>\n",
       "      <td>883178</td>\n",
       "      <td>male</td>\n",
       "      <td>36</td>\n",
       "      <td>Fashion</td>\n",
       "      <td>Aries</td>\n",
       "      <td>28,August,2002</td>\n",
       "      <td>i heard that tonight p diddy is throwing the g...</td>\n",
       "      <td>34</td>\n",
       "    </tr>\n",
       "    <tr>\n",
       "      <th>2</th>\n",
       "      <td>883178</td>\n",
       "      <td>male</td>\n",
       "      <td>36</td>\n",
       "      <td>Fashion</td>\n",
       "      <td>Aries</td>\n",
       "      <td>28,August,2002</td>\n",
       "      <td>dont even try to pretend you dont love it djs ...</td>\n",
       "      <td>62</td>\n",
       "    </tr>\n",
       "    <tr>\n",
       "      <th>3</th>\n",
       "      <td>883178</td>\n",
       "      <td>male</td>\n",
       "      <td>36</td>\n",
       "      <td>Fashion</td>\n",
       "      <td>Aries</td>\n",
       "      <td>27,August,2002</td>\n",
       "      <td>not to worry shovel  even the best of us are d...</td>\n",
       "      <td>59</td>\n",
       "    </tr>\n",
       "    <tr>\n",
       "      <th>4</th>\n",
       "      <td>883178</td>\n",
       "      <td>male</td>\n",
       "      <td>36</td>\n",
       "      <td>Fashion</td>\n",
       "      <td>Aries</td>\n",
       "      <td>26,August,2002</td>\n",
       "      <td>urllink      urllink which princess bride char...</td>\n",
       "      <td>56</td>\n",
       "    </tr>\n",
       "    <tr>\n",
       "      <th>...</th>\n",
       "      <td>...</td>\n",
       "      <td>...</td>\n",
       "      <td>...</td>\n",
       "      <td>...</td>\n",
       "      <td>...</td>\n",
       "      <td>...</td>\n",
       "      <td>...</td>\n",
       "      <td>...</td>\n",
       "    </tr>\n",
       "    <tr>\n",
       "      <th>9017</th>\n",
       "      <td>461975</td>\n",
       "      <td>male</td>\n",
       "      <td>25</td>\n",
       "      <td>indUnk</td>\n",
       "      <td>Pisces</td>\n",
       "      <td>03,August,2004</td>\n",
       "      <td>no i havent i still need a computer case to ac...</td>\n",
       "      <td>44</td>\n",
       "    </tr>\n",
       "    <tr>\n",
       "      <th>9018</th>\n",
       "      <td>461975</td>\n",
       "      <td>male</td>\n",
       "      <td>25</td>\n",
       "      <td>indUnk</td>\n",
       "      <td>Pisces</td>\n",
       "      <td>03,August,2004</td>\n",
       "      <td>who cleverly resized that image then eh where ...</td>\n",
       "      <td>64</td>\n",
       "    </tr>\n",
       "    <tr>\n",
       "      <th>9019</th>\n",
       "      <td>461975</td>\n",
       "      <td>male</td>\n",
       "      <td>25</td>\n",
       "      <td>indUnk</td>\n",
       "      <td>Pisces</td>\n",
       "      <td>03,August,2004</td>\n",
       "      <td>tom i sent you an invite ages ago to the board...</td>\n",
       "      <td>48</td>\n",
       "    </tr>\n",
       "    <tr>\n",
       "      <th>9020</th>\n",
       "      <td>461975</td>\n",
       "      <td>male</td>\n",
       "      <td>25</td>\n",
       "      <td>indUnk</td>\n",
       "      <td>Pisces</td>\n",
       "      <td>02,August,2004</td>\n",
       "      <td>ok point taken  i will try and use youryoure i...</td>\n",
       "      <td>39</td>\n",
       "    </tr>\n",
       "    <tr>\n",
       "      <th>9021</th>\n",
       "      <td>461975</td>\n",
       "      <td>male</td>\n",
       "      <td>25</td>\n",
       "      <td>indUnk</td>\n",
       "      <td>Pisces</td>\n",
       "      <td>02,August,2004</td>\n",
       "      <td>why ill just do what i do every year  concentr...</td>\n",
       "      <td>62</td>\n",
       "    </tr>\n",
       "  </tbody>\n",
       "</table>\n",
       "<p>9022 rows × 8 columns</p>\n",
       "</div>"
      ],
      "text/plain": [
       "      Author gender  age    topic    sign            date   \n",
       "0     883178   male   36  Fashion   Aries  30,August,2002  \\\n",
       "1     883178   male   36  Fashion   Aries  28,August,2002   \n",
       "2     883178   male   36  Fashion   Aries  28,August,2002   \n",
       "3     883178   male   36  Fashion   Aries  27,August,2002   \n",
       "4     883178   male   36  Fashion   Aries  26,August,2002   \n",
       "...      ...    ...  ...      ...     ...             ...   \n",
       "9017  461975   male   25   indUnk  Pisces  03,August,2004   \n",
       "9018  461975   male   25   indUnk  Pisces  03,August,2004   \n",
       "9019  461975   male   25   indUnk  Pisces  03,August,2004   \n",
       "9020  461975   male   25   indUnk  Pisces  02,August,2004   \n",
       "9021  461975   male   25   indUnk  Pisces  02,August,2004   \n",
       "\n",
       "                                                   Text  word_count  \n",
       "0     highlights  no highlights  the show sucked  so...          62  \n",
       "1     i heard that tonight p diddy is throwing the g...          34  \n",
       "2     dont even try to pretend you dont love it djs ...          62  \n",
       "3     not to worry shovel  even the best of us are d...          59  \n",
       "4     urllink      urllink which princess bride char...          56  \n",
       "...                                                 ...         ...  \n",
       "9017  no i havent i still need a computer case to ac...          44  \n",
       "9018  who cleverly resized that image then eh where ...          64  \n",
       "9019  tom i sent you an invite ages ago to the board...          48  \n",
       "9020  ok point taken  i will try and use youryoure i...          39  \n",
       "9021  why ill just do what i do every year  concentr...          62  \n",
       "\n",
       "[9022 rows x 8 columns]"
      ]
     },
     "execution_count": 25,
     "metadata": {},
     "output_type": "execute_result"
    }
   ],
   "source": [
    "df#['text'][0]"
   ]
  },
  {
   "cell_type": "code",
   "execution_count": 26,
   "metadata": {},
   "outputs": [
    {
     "name": "stdout",
     "output_type": "stream",
     "text": [
      "301\n"
     ]
    },
    {
     "data": {
      "text/html": [
       "<div>\n",
       "<style scoped>\n",
       "    .dataframe tbody tr th:only-of-type {\n",
       "        vertical-align: middle;\n",
       "    }\n",
       "\n",
       "    .dataframe tbody tr th {\n",
       "        vertical-align: top;\n",
       "    }\n",
       "\n",
       "    .dataframe thead th {\n",
       "        text-align: right;\n",
       "    }\n",
       "</style>\n",
       "<table border=\"1\" class=\"dataframe\">\n",
       "  <thead>\n",
       "    <tr style=\"text-align: right;\">\n",
       "      <th></th>\n",
       "      <th>Author</th>\n",
       "      <th>gender</th>\n",
       "      <th>age</th>\n",
       "      <th>topic</th>\n",
       "      <th>sign</th>\n",
       "      <th>date</th>\n",
       "      <th>Text</th>\n",
       "      <th>word_count</th>\n",
       "    </tr>\n",
       "  </thead>\n",
       "  <tbody>\n",
       "    <tr>\n",
       "      <th>0</th>\n",
       "      <td>49663</td>\n",
       "      <td>male</td>\n",
       "      <td>33</td>\n",
       "      <td>indUnk</td>\n",
       "      <td>Taurus</td>\n",
       "      <td>26,April,2001</td>\n",
       "      <td>i am going into the studio tonight for the fir...</td>\n",
       "      <td>59</td>\n",
       "    </tr>\n",
       "    <tr>\n",
       "      <th>1</th>\n",
       "      <td>49663</td>\n",
       "      <td>male</td>\n",
       "      <td>33</td>\n",
       "      <td>indUnk</td>\n",
       "      <td>Taurus</td>\n",
       "      <td>31,January,2002</td>\n",
       "      <td>update from the pain management center     my ...</td>\n",
       "      <td>43</td>\n",
       "    </tr>\n",
       "    <tr>\n",
       "      <th>2</th>\n",
       "      <td>49663</td>\n",
       "      <td>male</td>\n",
       "      <td>33</td>\n",
       "      <td>indUnk</td>\n",
       "      <td>Taurus</td>\n",
       "      <td>11,October,2000</td>\n",
       "      <td>of dubious debates kisses and divas must we ch...</td>\n",
       "      <td>32</td>\n",
       "    </tr>\n",
       "    <tr>\n",
       "      <th>3</th>\n",
       "      <td>49663</td>\n",
       "      <td>male</td>\n",
       "      <td>33</td>\n",
       "      <td>indUnk</td>\n",
       "      <td>Taurus</td>\n",
       "      <td>08,November,2000</td>\n",
       "      <td>okayso it wasnt a date exactly i had to take h...</td>\n",
       "      <td>44</td>\n",
       "    </tr>\n",
       "    <tr>\n",
       "      <th>4</th>\n",
       "      <td>49663</td>\n",
       "      <td>male</td>\n",
       "      <td>33</td>\n",
       "      <td>indUnk</td>\n",
       "      <td>Taurus</td>\n",
       "      <td>10,April,2001</td>\n",
       "      <td>my friend jennie is now in spain enjoying the ...</td>\n",
       "      <td>33</td>\n",
       "    </tr>\n",
       "    <tr>\n",
       "      <th>...</th>\n",
       "      <td>...</td>\n",
       "      <td>...</td>\n",
       "      <td>...</td>\n",
       "      <td>...</td>\n",
       "      <td>...</td>\n",
       "      <td>...</td>\n",
       "      <td>...</td>\n",
       "      <td>...</td>\n",
       "    </tr>\n",
       "    <tr>\n",
       "      <th>7821</th>\n",
       "      <td>3585348</td>\n",
       "      <td>male</td>\n",
       "      <td>25</td>\n",
       "      <td>Chemicals</td>\n",
       "      <td>Aquarius</td>\n",
       "      <td>28,July,2004</td>\n",
       "      <td>dude that sucks  it is fricking roasting here ...</td>\n",
       "      <td>46</td>\n",
       "    </tr>\n",
       "    <tr>\n",
       "      <th>7822</th>\n",
       "      <td>3585348</td>\n",
       "      <td>male</td>\n",
       "      <td>25</td>\n",
       "      <td>Chemicals</td>\n",
       "      <td>Aquarius</td>\n",
       "      <td>04,July,2004</td>\n",
       "      <td>the man of steel is also grabbing headlines to...</td>\n",
       "      <td>66</td>\n",
       "    </tr>\n",
       "    <tr>\n",
       "      <th>7823</th>\n",
       "      <td>3585348</td>\n",
       "      <td>male</td>\n",
       "      <td>25</td>\n",
       "      <td>Chemicals</td>\n",
       "      <td>Aquarius</td>\n",
       "      <td>15,June,2004</td>\n",
       "      <td>for the record edonkey2000 came first and conn...</td>\n",
       "      <td>65</td>\n",
       "    </tr>\n",
       "    <tr>\n",
       "      <th>7824</th>\n",
       "      <td>3585348</td>\n",
       "      <td>male</td>\n",
       "      <td>25</td>\n",
       "      <td>Chemicals</td>\n",
       "      <td>Aquarius</td>\n",
       "      <td>03,June,2004</td>\n",
       "      <td>see if you are  urllink good at pulling i got ...</td>\n",
       "      <td>56</td>\n",
       "    </tr>\n",
       "    <tr>\n",
       "      <th>7825</th>\n",
       "      <td>3585348</td>\n",
       "      <td>male</td>\n",
       "      <td>25</td>\n",
       "      <td>Chemicals</td>\n",
       "      <td>Aquarius</td>\n",
       "      <td>15,June,2004</td>\n",
       "      <td>dude that games pretty bad but nowhere near as...</td>\n",
       "      <td>30</td>\n",
       "    </tr>\n",
       "  </tbody>\n",
       "</table>\n",
       "<p>7826 rows × 8 columns</p>\n",
       "</div>"
      ],
      "text/plain": [
       "       Author gender  age      topic      sign              date   \n",
       "0       49663   male   33     indUnk    Taurus     26,April,2001  \\\n",
       "1       49663   male   33     indUnk    Taurus   31,January,2002   \n",
       "2       49663   male   33     indUnk    Taurus   11,October,2000   \n",
       "3       49663   male   33     indUnk    Taurus  08,November,2000   \n",
       "4       49663   male   33     indUnk    Taurus     10,April,2001   \n",
       "...       ...    ...  ...        ...       ...               ...   \n",
       "7821  3585348   male   25  Chemicals  Aquarius      28,July,2004   \n",
       "7822  3585348   male   25  Chemicals  Aquarius      04,July,2004   \n",
       "7823  3585348   male   25  Chemicals  Aquarius      15,June,2004   \n",
       "7824  3585348   male   25  Chemicals  Aquarius      03,June,2004   \n",
       "7825  3585348   male   25  Chemicals  Aquarius      15,June,2004   \n",
       "\n",
       "                                                   Text  word_count  \n",
       "0     i am going into the studio tonight for the fir...          59  \n",
       "1     update from the pain management center     my ...          43  \n",
       "2     of dubious debates kisses and divas must we ch...          32  \n",
       "3     okayso it wasnt a date exactly i had to take h...          44  \n",
       "4     my friend jennie is now in spain enjoying the ...          33  \n",
       "...                                                 ...         ...  \n",
       "7821  dude that sucks  it is fricking roasting here ...          46  \n",
       "7822  the man of steel is also grabbing headlines to...          66  \n",
       "7823  for the record edonkey2000 came first and conn...          65  \n",
       "7824  see if you are  urllink good at pulling i got ...          56  \n",
       "7825  dude that games pretty bad but nowhere near as...          30  \n",
       "\n",
       "[7826 rows x 8 columns]"
      ]
     },
     "execution_count": 26,
     "metadata": {},
     "output_type": "execute_result"
    }
   ],
   "source": [
    "min_samples = df['Author'].value_counts().min()\n",
    "print(min_samples)\n",
    "df_balanced = df.groupby('Author').apply(lambda x: x.sample(min_samples)).reset_index(drop=True)\n",
    "df_balanced"
   ]
  },
  {
   "attachments": {},
   "cell_type": "markdown",
   "metadata": {},
   "source": [
    "# Split Data in Half"
   ]
  },
  {
   "cell_type": "code",
   "execution_count": 27,
   "metadata": {},
   "outputs": [
    {
     "data": {
      "text/plain": [
       "26"
      ]
     },
     "execution_count": 27,
     "metadata": {},
     "output_type": "execute_result"
    }
   ],
   "source": [
    "id_count = df_balanced['Author'].value_counts()\n",
    "len(id_count)"
   ]
  },
  {
   "cell_type": "code",
   "execution_count": 28,
   "metadata": {},
   "outputs": [
    {
     "data": {
      "text/plain": [
       "array([ 105748,  106651,  108212,  240089,  271835,  313102,  320317,\n",
       "        322624,  461975,  576311,  595404,  655250,  883178,  944569,\n",
       "        955372, 1157144, 1432406, 1473902, 1784456, 2200026, 2866266,\n",
       "       3517276, 3522724, 3523319, 3585348], dtype=int64)"
      ]
     },
     "execution_count": 28,
     "metadata": {},
     "output_type": "execute_result"
    }
   ],
   "source": [
    "to_remove = id_count[:1].index.tolist()\n",
    "# new_df = df_balanced\n",
    "new_df = df_balanced[~df_balanced['Author'].isin(to_remove)]\n",
    "new_df['Author'].unique()\n"
   ]
  },
  {
   "cell_type": "code",
   "execution_count": 29,
   "metadata": {},
   "outputs": [
    {
     "data": {
      "text/html": [
       "<div>\n",
       "<style scoped>\n",
       "    .dataframe tbody tr th:only-of-type {\n",
       "        vertical-align: middle;\n",
       "    }\n",
       "\n",
       "    .dataframe tbody tr th {\n",
       "        vertical-align: top;\n",
       "    }\n",
       "\n",
       "    .dataframe thead th {\n",
       "        text-align: right;\n",
       "    }\n",
       "</style>\n",
       "<table border=\"1\" class=\"dataframe\">\n",
       "  <thead>\n",
       "    <tr style=\"text-align: right;\">\n",
       "      <th></th>\n",
       "      <th>Author</th>\n",
       "      <th>gender</th>\n",
       "      <th>age</th>\n",
       "      <th>topic</th>\n",
       "      <th>sign</th>\n",
       "      <th>date</th>\n",
       "      <th>Text</th>\n",
       "      <th>word_count</th>\n",
       "    </tr>\n",
       "  </thead>\n",
       "  <tbody>\n",
       "    <tr>\n",
       "      <th>301</th>\n",
       "      <td>105748</td>\n",
       "      <td>female</td>\n",
       "      <td>26</td>\n",
       "      <td>Student</td>\n",
       "      <td>Scorpio</td>\n",
       "      <td>04,July,2004</td>\n",
       "      <td>q what do you call a midget psychic who just c...</td>\n",
       "      <td>54</td>\n",
       "    </tr>\n",
       "    <tr>\n",
       "      <th>302</th>\n",
       "      <td>105748</td>\n",
       "      <td>female</td>\n",
       "      <td>26</td>\n",
       "      <td>Student</td>\n",
       "      <td>Scorpio</td>\n",
       "      <td>04,July,2004</td>\n",
       "      <td>i was just perusing ching and brians blog  i a...</td>\n",
       "      <td>62</td>\n",
       "    </tr>\n",
       "    <tr>\n",
       "      <th>303</th>\n",
       "      <td>105748</td>\n",
       "      <td>female</td>\n",
       "      <td>26</td>\n",
       "      <td>Student</td>\n",
       "      <td>Scorpio</td>\n",
       "      <td>04,July,2004</td>\n",
       "      <td>young at heart frank sinatra  thanks pia  i gu...</td>\n",
       "      <td>58</td>\n",
       "    </tr>\n",
       "    <tr>\n",
       "      <th>304</th>\n",
       "      <td>105748</td>\n",
       "      <td>female</td>\n",
       "      <td>26</td>\n",
       "      <td>Student</td>\n",
       "      <td>Scorpio</td>\n",
       "      <td>04,July,2004</td>\n",
       "      <td>what a slaughter nets win over the pistons 102...</td>\n",
       "      <td>36</td>\n",
       "    </tr>\n",
       "    <tr>\n",
       "      <th>305</th>\n",
       "      <td>105748</td>\n",
       "      <td>female</td>\n",
       "      <td>26</td>\n",
       "      <td>Student</td>\n",
       "      <td>Scorpio</td>\n",
       "      <td>04,July,2004</td>\n",
       "      <td>what kind of design does he have in mind i don...</td>\n",
       "      <td>40</td>\n",
       "    </tr>\n",
       "    <tr>\n",
       "      <th>...</th>\n",
       "      <td>...</td>\n",
       "      <td>...</td>\n",
       "      <td>...</td>\n",
       "      <td>...</td>\n",
       "      <td>...</td>\n",
       "      <td>...</td>\n",
       "      <td>...</td>\n",
       "      <td>...</td>\n",
       "    </tr>\n",
       "    <tr>\n",
       "      <th>7821</th>\n",
       "      <td>3585348</td>\n",
       "      <td>male</td>\n",
       "      <td>25</td>\n",
       "      <td>Chemicals</td>\n",
       "      <td>Aquarius</td>\n",
       "      <td>28,July,2004</td>\n",
       "      <td>dude that sucks  it is fricking roasting here ...</td>\n",
       "      <td>46</td>\n",
       "    </tr>\n",
       "    <tr>\n",
       "      <th>7822</th>\n",
       "      <td>3585348</td>\n",
       "      <td>male</td>\n",
       "      <td>25</td>\n",
       "      <td>Chemicals</td>\n",
       "      <td>Aquarius</td>\n",
       "      <td>04,July,2004</td>\n",
       "      <td>the man of steel is also grabbing headlines to...</td>\n",
       "      <td>66</td>\n",
       "    </tr>\n",
       "    <tr>\n",
       "      <th>7823</th>\n",
       "      <td>3585348</td>\n",
       "      <td>male</td>\n",
       "      <td>25</td>\n",
       "      <td>Chemicals</td>\n",
       "      <td>Aquarius</td>\n",
       "      <td>15,June,2004</td>\n",
       "      <td>for the record edonkey2000 came first and conn...</td>\n",
       "      <td>65</td>\n",
       "    </tr>\n",
       "    <tr>\n",
       "      <th>7824</th>\n",
       "      <td>3585348</td>\n",
       "      <td>male</td>\n",
       "      <td>25</td>\n",
       "      <td>Chemicals</td>\n",
       "      <td>Aquarius</td>\n",
       "      <td>03,June,2004</td>\n",
       "      <td>see if you are  urllink good at pulling i got ...</td>\n",
       "      <td>56</td>\n",
       "    </tr>\n",
       "    <tr>\n",
       "      <th>7825</th>\n",
       "      <td>3585348</td>\n",
       "      <td>male</td>\n",
       "      <td>25</td>\n",
       "      <td>Chemicals</td>\n",
       "      <td>Aquarius</td>\n",
       "      <td>15,June,2004</td>\n",
       "      <td>dude that games pretty bad but nowhere near as...</td>\n",
       "      <td>30</td>\n",
       "    </tr>\n",
       "  </tbody>\n",
       "</table>\n",
       "<p>7525 rows × 8 columns</p>\n",
       "</div>"
      ],
      "text/plain": [
       "       Author  gender  age      topic      sign          date   \n",
       "301    105748  female   26    Student   Scorpio  04,July,2004  \\\n",
       "302    105748  female   26    Student   Scorpio  04,July,2004   \n",
       "303    105748  female   26    Student   Scorpio  04,July,2004   \n",
       "304    105748  female   26    Student   Scorpio  04,July,2004   \n",
       "305    105748  female   26    Student   Scorpio  04,July,2004   \n",
       "...       ...     ...  ...        ...       ...           ...   \n",
       "7821  3585348    male   25  Chemicals  Aquarius  28,July,2004   \n",
       "7822  3585348    male   25  Chemicals  Aquarius  04,July,2004   \n",
       "7823  3585348    male   25  Chemicals  Aquarius  15,June,2004   \n",
       "7824  3585348    male   25  Chemicals  Aquarius  03,June,2004   \n",
       "7825  3585348    male   25  Chemicals  Aquarius  15,June,2004   \n",
       "\n",
       "                                                   Text  word_count  \n",
       "301   q what do you call a midget psychic who just c...          54  \n",
       "302   i was just perusing ching and brians blog  i a...          62  \n",
       "303   young at heart frank sinatra  thanks pia  i gu...          58  \n",
       "304   what a slaughter nets win over the pistons 102...          36  \n",
       "305   what kind of design does he have in mind i don...          40  \n",
       "...                                                 ...         ...  \n",
       "7821  dude that sucks  it is fricking roasting here ...          46  \n",
       "7822  the man of steel is also grabbing headlines to...          66  \n",
       "7823  for the record edonkey2000 came first and conn...          65  \n",
       "7824  see if you are  urllink good at pulling i got ...          56  \n",
       "7825  dude that games pretty bad but nowhere near as...          30  \n",
       "\n",
       "[7525 rows x 8 columns]"
      ]
     },
     "execution_count": 29,
     "metadata": {},
     "output_type": "execute_result"
    }
   ],
   "source": [
    "# len(new_df['id'].unique())\n",
    "# # new_df['id'].value_counts()\n",
    "new_df"
   ]
  },
  {
   "cell_type": "code",
   "execution_count": 30,
   "metadata": {},
   "outputs": [
    {
     "data": {
      "text/plain": [
       "25"
      ]
     },
     "execution_count": 30,
     "metadata": {},
     "output_type": "execute_result"
    }
   ],
   "source": [
    "# category_count = df_balanced['id'].value_counts()\n",
    "\n",
    "category_count = new_df['Author'].value_counts()\n",
    "categories = category_count.index\n",
    "\n",
    "len(categories)"
   ]
  },
  {
   "cell_type": "code",
   "execution_count": 31,
   "metadata": {},
   "outputs": [],
   "source": [
    "# fig = plt.figure(figsize= (15, 5))\n",
    "\n",
    "# ax = fig.add_subplot(111)\n",
    "\n",
    "# sns.barplot(x = category_count.index, y = category_count )\n",
    "\n",
    "# for a, p in enumerate(ax.patches):\n",
    "#     ax.annotate(f'{categories[a]}\\n' + format(p.get_height(), '.0f'), xy = (p.get_x() + p.get_width() / 2.0, p.get_height()), xytext = (0,-25), size = 13, color = 'white' , ha = 'center', va = 'center', textcoords = 'offset points', bbox = dict(boxstyle = 'round', facecolor='none',edgecolor='white', alpha = 0.5) )\n",
    "    \n",
    "# plt.xlabel('IDs', size = 15)\n",
    "\n",
    "# plt.ylabel('The Number of Blogs', size= 15)\n",
    "\n",
    "# plt.xticks(size = 12)\n",
    "\n",
    "# plt.title(\"The number of Blogs by ID\" , size = 18)\n",
    "\n",
    "# plt.show()"
   ]
  },
  {
   "cell_type": "code",
   "execution_count": 32,
   "metadata": {},
   "outputs": [],
   "source": [
    "# df_balanced.to_csv(r'Datasets\\Blog Authorship Corpus\\balanced_blogtext.csv')"
   ]
  },
  {
   "cell_type": "code",
   "execution_count": 33,
   "metadata": {},
   "outputs": [],
   "source": [
    "# df_balanced = pd.read_csv(r'Datasets\\Blog Authorship Corpus\\balanced_blogtext.csv')"
   ]
  },
  {
   "attachments": {},
   "cell_type": "markdown",
   "metadata": {},
   "source": [
    "# Tokenization"
   ]
  },
  {
   "cell_type": "code",
   "execution_count": 34,
   "metadata": {},
   "outputs": [],
   "source": [
    "# tokenizer = BertTokenizer.from_pretrained('bert-base-uncased',  do_lower_case=True)\n",
    "tokenizer = DistilBertTokenizer.from_pretrained('distilbert-base-uncased',  do_lower_case=True)\n",
    "# tokenizer = AlbertTokenizer.from_pretrained('albert-base-v2',  do_lower_case=True)"
   ]
  },
  {
   "cell_type": "code",
   "execution_count": 35,
   "metadata": {},
   "outputs": [
    {
     "data": {
      "text/html": [
       "<div>\n",
       "<style scoped>\n",
       "    .dataframe tbody tr th:only-of-type {\n",
       "        vertical-align: middle;\n",
       "    }\n",
       "\n",
       "    .dataframe tbody tr th {\n",
       "        vertical-align: top;\n",
       "    }\n",
       "\n",
       "    .dataframe thead th {\n",
       "        text-align: right;\n",
       "    }\n",
       "</style>\n",
       "<table border=\"1\" class=\"dataframe\">\n",
       "  <thead>\n",
       "    <tr style=\"text-align: right;\">\n",
       "      <th></th>\n",
       "      <th>Author</th>\n",
       "      <th>gender</th>\n",
       "      <th>age</th>\n",
       "      <th>topic</th>\n",
       "      <th>sign</th>\n",
       "      <th>date</th>\n",
       "      <th>Text</th>\n",
       "      <th>word_count</th>\n",
       "    </tr>\n",
       "  </thead>\n",
       "  <tbody>\n",
       "    <tr>\n",
       "      <th>0</th>\n",
       "      <td>105748</td>\n",
       "      <td>female</td>\n",
       "      <td>26</td>\n",
       "      <td>Student</td>\n",
       "      <td>Scorpio</td>\n",
       "      <td>04,July,2004</td>\n",
       "      <td>q what do you call a midget psychic who just c...</td>\n",
       "      <td>54</td>\n",
       "    </tr>\n",
       "    <tr>\n",
       "      <th>1</th>\n",
       "      <td>105748</td>\n",
       "      <td>female</td>\n",
       "      <td>26</td>\n",
       "      <td>Student</td>\n",
       "      <td>Scorpio</td>\n",
       "      <td>04,July,2004</td>\n",
       "      <td>i was just perusing ching and brians blog  i a...</td>\n",
       "      <td>62</td>\n",
       "    </tr>\n",
       "    <tr>\n",
       "      <th>2</th>\n",
       "      <td>105748</td>\n",
       "      <td>female</td>\n",
       "      <td>26</td>\n",
       "      <td>Student</td>\n",
       "      <td>Scorpio</td>\n",
       "      <td>04,July,2004</td>\n",
       "      <td>young at heart frank sinatra  thanks pia  i gu...</td>\n",
       "      <td>58</td>\n",
       "    </tr>\n",
       "    <tr>\n",
       "      <th>3</th>\n",
       "      <td>105748</td>\n",
       "      <td>female</td>\n",
       "      <td>26</td>\n",
       "      <td>Student</td>\n",
       "      <td>Scorpio</td>\n",
       "      <td>04,July,2004</td>\n",
       "      <td>what a slaughter nets win over the pistons 102...</td>\n",
       "      <td>36</td>\n",
       "    </tr>\n",
       "    <tr>\n",
       "      <th>4</th>\n",
       "      <td>105748</td>\n",
       "      <td>female</td>\n",
       "      <td>26</td>\n",
       "      <td>Student</td>\n",
       "      <td>Scorpio</td>\n",
       "      <td>04,July,2004</td>\n",
       "      <td>what kind of design does he have in mind i don...</td>\n",
       "      <td>40</td>\n",
       "    </tr>\n",
       "    <tr>\n",
       "      <th>...</th>\n",
       "      <td>...</td>\n",
       "      <td>...</td>\n",
       "      <td>...</td>\n",
       "      <td>...</td>\n",
       "      <td>...</td>\n",
       "      <td>...</td>\n",
       "      <td>...</td>\n",
       "      <td>...</td>\n",
       "    </tr>\n",
       "    <tr>\n",
       "      <th>7520</th>\n",
       "      <td>3585348</td>\n",
       "      <td>male</td>\n",
       "      <td>25</td>\n",
       "      <td>Chemicals</td>\n",
       "      <td>Aquarius</td>\n",
       "      <td>28,July,2004</td>\n",
       "      <td>dude that sucks  it is fricking roasting here ...</td>\n",
       "      <td>46</td>\n",
       "    </tr>\n",
       "    <tr>\n",
       "      <th>7521</th>\n",
       "      <td>3585348</td>\n",
       "      <td>male</td>\n",
       "      <td>25</td>\n",
       "      <td>Chemicals</td>\n",
       "      <td>Aquarius</td>\n",
       "      <td>04,July,2004</td>\n",
       "      <td>the man of steel is also grabbing headlines to...</td>\n",
       "      <td>66</td>\n",
       "    </tr>\n",
       "    <tr>\n",
       "      <th>7522</th>\n",
       "      <td>3585348</td>\n",
       "      <td>male</td>\n",
       "      <td>25</td>\n",
       "      <td>Chemicals</td>\n",
       "      <td>Aquarius</td>\n",
       "      <td>15,June,2004</td>\n",
       "      <td>for the record edonkey2000 came first and conn...</td>\n",
       "      <td>65</td>\n",
       "    </tr>\n",
       "    <tr>\n",
       "      <th>7523</th>\n",
       "      <td>3585348</td>\n",
       "      <td>male</td>\n",
       "      <td>25</td>\n",
       "      <td>Chemicals</td>\n",
       "      <td>Aquarius</td>\n",
       "      <td>03,June,2004</td>\n",
       "      <td>see if you are  urllink good at pulling i got ...</td>\n",
       "      <td>56</td>\n",
       "    </tr>\n",
       "    <tr>\n",
       "      <th>7524</th>\n",
       "      <td>3585348</td>\n",
       "      <td>male</td>\n",
       "      <td>25</td>\n",
       "      <td>Chemicals</td>\n",
       "      <td>Aquarius</td>\n",
       "      <td>15,June,2004</td>\n",
       "      <td>dude that games pretty bad but nowhere near as...</td>\n",
       "      <td>30</td>\n",
       "    </tr>\n",
       "  </tbody>\n",
       "</table>\n",
       "<p>7525 rows × 8 columns</p>\n",
       "</div>"
      ],
      "text/plain": [
       "       Author  gender  age      topic      sign          date   \n",
       "0      105748  female   26    Student   Scorpio  04,July,2004  \\\n",
       "1      105748  female   26    Student   Scorpio  04,July,2004   \n",
       "2      105748  female   26    Student   Scorpio  04,July,2004   \n",
       "3      105748  female   26    Student   Scorpio  04,July,2004   \n",
       "4      105748  female   26    Student   Scorpio  04,July,2004   \n",
       "...       ...     ...  ...        ...       ...           ...   \n",
       "7520  3585348    male   25  Chemicals  Aquarius  28,July,2004   \n",
       "7521  3585348    male   25  Chemicals  Aquarius  04,July,2004   \n",
       "7522  3585348    male   25  Chemicals  Aquarius  15,June,2004   \n",
       "7523  3585348    male   25  Chemicals  Aquarius  03,June,2004   \n",
       "7524  3585348    male   25  Chemicals  Aquarius  15,June,2004   \n",
       "\n",
       "                                                   Text  word_count  \n",
       "0     q what do you call a midget psychic who just c...          54  \n",
       "1     i was just perusing ching and brians blog  i a...          62  \n",
       "2     young at heart frank sinatra  thanks pia  i gu...          58  \n",
       "3     what a slaughter nets win over the pistons 102...          36  \n",
       "4     what kind of design does he have in mind i don...          40  \n",
       "...                                                 ...         ...  \n",
       "7520  dude that sucks  it is fricking roasting here ...          46  \n",
       "7521  the man of steel is also grabbing headlines to...          66  \n",
       "7522  for the record edonkey2000 came first and conn...          65  \n",
       "7523  see if you are  urllink good at pulling i got ...          56  \n",
       "7524  dude that games pretty bad but nowhere near as...          30  \n",
       "\n",
       "[7525 rows x 8 columns]"
      ]
     },
     "execution_count": 35,
     "metadata": {},
     "output_type": "execute_result"
    }
   ],
   "source": [
    "# df_balanced = df_balanced.drop(df_balanced.columns[0], axis=1)\n",
    "# df_balanced\n",
    "new_df = new_df.reset_index(drop=True)\n",
    "new_df\n",
    "# train_data\n",
    "# full_data"
   ]
  },
  {
   "cell_type": "code",
   "execution_count": 36,
   "metadata": {},
   "outputs": [],
   "source": [
    "# MAX_LENGTH = selected_rows['word_count'].max()\n",
    "MAX_LENGTH = new_df['word_count'].max()\n",
    "\n",
    "# df_balanced['encoded_id'] = df_balanced['id'].astype('category').cat.codes\n",
    "# get unique categories for Author in both dataframes\n",
    "# categories = pd.Categorical(pd.concat([train_data['Author'], test_data['true-author']], ignore_index=True)).categories\n",
    "categories = pd.Categorical(new_df['Author']).categories\n",
    "# categories = pd.Categorical(new_df['id']).categories\n",
    "\n",
    "# assign categorical variable to both dataframes using the same categories\n",
    "# train_data['encoded_Author'] = pd.Categorical(train_data['Author'], categories=categories).codes\n",
    "# test_data['encoded_Author'] = pd.Categorical(test_data['true-author'], categories=categories).codes\n",
    "# full_data['encoded_Author'] = pd.Categorical(full_data['Author'], categories=categories).codes\n",
    "new_df['encoded_Author'] = pd.Categorical(new_df['Author'], categories=categories).codes\n",
    "\n",
    "\n",
    "# Define the training and validation data\n",
    "# texts = df_balanced['text'].to_list()\n",
    "# labels = df_balanced['encoded_id'].to_list()\n",
    "\n",
    "# train_texts = train_data['Text'].to_list()\n",
    "# train_labels = train_data['encoded_Author'].to_list()\n",
    "\n",
    "full_texts = new_df['Text'].to_list()\n",
    "full_labels = new_df['encoded_Author'].to_list()\n",
    "\n",
    "#split test into test and validation\n",
    "# test_texts = test_data['Text'].to_list()\n",
    "# test_labels = test_data['encoded_Author'].to_list()"
   ]
  },
  {
   "cell_type": "code",
   "execution_count": 37,
   "metadata": {},
   "outputs": [
    {
     "data": {
      "text/html": [
       "<div>\n",
       "<style scoped>\n",
       "    .dataframe tbody tr th:only-of-type {\n",
       "        vertical-align: middle;\n",
       "    }\n",
       "\n",
       "    .dataframe tbody tr th {\n",
       "        vertical-align: top;\n",
       "    }\n",
       "\n",
       "    .dataframe thead th {\n",
       "        text-align: right;\n",
       "    }\n",
       "</style>\n",
       "<table border=\"1\" class=\"dataframe\">\n",
       "  <thead>\n",
       "    <tr style=\"text-align: right;\">\n",
       "      <th></th>\n",
       "      <th>Author</th>\n",
       "      <th>gender</th>\n",
       "      <th>age</th>\n",
       "      <th>topic</th>\n",
       "      <th>sign</th>\n",
       "      <th>date</th>\n",
       "      <th>Text</th>\n",
       "      <th>word_count</th>\n",
       "      <th>encoded_Author</th>\n",
       "    </tr>\n",
       "  </thead>\n",
       "  <tbody>\n",
       "    <tr>\n",
       "      <th>0</th>\n",
       "      <td>105748</td>\n",
       "      <td>female</td>\n",
       "      <td>26</td>\n",
       "      <td>Student</td>\n",
       "      <td>Scorpio</td>\n",
       "      <td>04,July,2004</td>\n",
       "      <td>q what do you call a midget psychic who just c...</td>\n",
       "      <td>54</td>\n",
       "      <td>0</td>\n",
       "    </tr>\n",
       "    <tr>\n",
       "      <th>1</th>\n",
       "      <td>105748</td>\n",
       "      <td>female</td>\n",
       "      <td>26</td>\n",
       "      <td>Student</td>\n",
       "      <td>Scorpio</td>\n",
       "      <td>04,July,2004</td>\n",
       "      <td>i was just perusing ching and brians blog  i a...</td>\n",
       "      <td>62</td>\n",
       "      <td>0</td>\n",
       "    </tr>\n",
       "    <tr>\n",
       "      <th>2</th>\n",
       "      <td>105748</td>\n",
       "      <td>female</td>\n",
       "      <td>26</td>\n",
       "      <td>Student</td>\n",
       "      <td>Scorpio</td>\n",
       "      <td>04,July,2004</td>\n",
       "      <td>young at heart frank sinatra  thanks pia  i gu...</td>\n",
       "      <td>58</td>\n",
       "      <td>0</td>\n",
       "    </tr>\n",
       "    <tr>\n",
       "      <th>3</th>\n",
       "      <td>105748</td>\n",
       "      <td>female</td>\n",
       "      <td>26</td>\n",
       "      <td>Student</td>\n",
       "      <td>Scorpio</td>\n",
       "      <td>04,July,2004</td>\n",
       "      <td>what a slaughter nets win over the pistons 102...</td>\n",
       "      <td>36</td>\n",
       "      <td>0</td>\n",
       "    </tr>\n",
       "    <tr>\n",
       "      <th>4</th>\n",
       "      <td>105748</td>\n",
       "      <td>female</td>\n",
       "      <td>26</td>\n",
       "      <td>Student</td>\n",
       "      <td>Scorpio</td>\n",
       "      <td>04,July,2004</td>\n",
       "      <td>what kind of design does he have in mind i don...</td>\n",
       "      <td>40</td>\n",
       "      <td>0</td>\n",
       "    </tr>\n",
       "    <tr>\n",
       "      <th>...</th>\n",
       "      <td>...</td>\n",
       "      <td>...</td>\n",
       "      <td>...</td>\n",
       "      <td>...</td>\n",
       "      <td>...</td>\n",
       "      <td>...</td>\n",
       "      <td>...</td>\n",
       "      <td>...</td>\n",
       "      <td>...</td>\n",
       "    </tr>\n",
       "    <tr>\n",
       "      <th>7520</th>\n",
       "      <td>3585348</td>\n",
       "      <td>male</td>\n",
       "      <td>25</td>\n",
       "      <td>Chemicals</td>\n",
       "      <td>Aquarius</td>\n",
       "      <td>28,July,2004</td>\n",
       "      <td>dude that sucks  it is fricking roasting here ...</td>\n",
       "      <td>46</td>\n",
       "      <td>24</td>\n",
       "    </tr>\n",
       "    <tr>\n",
       "      <th>7521</th>\n",
       "      <td>3585348</td>\n",
       "      <td>male</td>\n",
       "      <td>25</td>\n",
       "      <td>Chemicals</td>\n",
       "      <td>Aquarius</td>\n",
       "      <td>04,July,2004</td>\n",
       "      <td>the man of steel is also grabbing headlines to...</td>\n",
       "      <td>66</td>\n",
       "      <td>24</td>\n",
       "    </tr>\n",
       "    <tr>\n",
       "      <th>7522</th>\n",
       "      <td>3585348</td>\n",
       "      <td>male</td>\n",
       "      <td>25</td>\n",
       "      <td>Chemicals</td>\n",
       "      <td>Aquarius</td>\n",
       "      <td>15,June,2004</td>\n",
       "      <td>for the record edonkey2000 came first and conn...</td>\n",
       "      <td>65</td>\n",
       "      <td>24</td>\n",
       "    </tr>\n",
       "    <tr>\n",
       "      <th>7523</th>\n",
       "      <td>3585348</td>\n",
       "      <td>male</td>\n",
       "      <td>25</td>\n",
       "      <td>Chemicals</td>\n",
       "      <td>Aquarius</td>\n",
       "      <td>03,June,2004</td>\n",
       "      <td>see if you are  urllink good at pulling i got ...</td>\n",
       "      <td>56</td>\n",
       "      <td>24</td>\n",
       "    </tr>\n",
       "    <tr>\n",
       "      <th>7524</th>\n",
       "      <td>3585348</td>\n",
       "      <td>male</td>\n",
       "      <td>25</td>\n",
       "      <td>Chemicals</td>\n",
       "      <td>Aquarius</td>\n",
       "      <td>15,June,2004</td>\n",
       "      <td>dude that games pretty bad but nowhere near as...</td>\n",
       "      <td>30</td>\n",
       "      <td>24</td>\n",
       "    </tr>\n",
       "  </tbody>\n",
       "</table>\n",
       "<p>7525 rows × 9 columns</p>\n",
       "</div>"
      ],
      "text/plain": [
       "       Author  gender  age      topic      sign          date   \n",
       "0      105748  female   26    Student   Scorpio  04,July,2004  \\\n",
       "1      105748  female   26    Student   Scorpio  04,July,2004   \n",
       "2      105748  female   26    Student   Scorpio  04,July,2004   \n",
       "3      105748  female   26    Student   Scorpio  04,July,2004   \n",
       "4      105748  female   26    Student   Scorpio  04,July,2004   \n",
       "...       ...     ...  ...        ...       ...           ...   \n",
       "7520  3585348    male   25  Chemicals  Aquarius  28,July,2004   \n",
       "7521  3585348    male   25  Chemicals  Aquarius  04,July,2004   \n",
       "7522  3585348    male   25  Chemicals  Aquarius  15,June,2004   \n",
       "7523  3585348    male   25  Chemicals  Aquarius  03,June,2004   \n",
       "7524  3585348    male   25  Chemicals  Aquarius  15,June,2004   \n",
       "\n",
       "                                                   Text  word_count   \n",
       "0     q what do you call a midget psychic who just c...          54  \\\n",
       "1     i was just perusing ching and brians blog  i a...          62   \n",
       "2     young at heart frank sinatra  thanks pia  i gu...          58   \n",
       "3     what a slaughter nets win over the pistons 102...          36   \n",
       "4     what kind of design does he have in mind i don...          40   \n",
       "...                                                 ...         ...   \n",
       "7520  dude that sucks  it is fricking roasting here ...          46   \n",
       "7521  the man of steel is also grabbing headlines to...          66   \n",
       "7522  for the record edonkey2000 came first and conn...          65   \n",
       "7523  see if you are  urllink good at pulling i got ...          56   \n",
       "7524  dude that games pretty bad but nowhere near as...          30   \n",
       "\n",
       "      encoded_Author  \n",
       "0                  0  \n",
       "1                  0  \n",
       "2                  0  \n",
       "3                  0  \n",
       "4                  0  \n",
       "...              ...  \n",
       "7520              24  \n",
       "7521              24  \n",
       "7522              24  \n",
       "7523              24  \n",
       "7524              24  \n",
       "\n",
       "[7525 rows x 9 columns]"
      ]
     },
     "execution_count": 37,
     "metadata": {},
     "output_type": "execute_result"
    }
   ],
   "source": [
    "MAX_LENGTH\n",
    "new_df\n",
    "# full_data"
   ]
  },
  {
   "cell_type": "code",
   "execution_count": 96,
   "metadata": {},
   "outputs": [],
   "source": [
    "# test_labels[-1]\n",
    "# test_data"
   ]
  },
  {
   "cell_type": "code",
   "execution_count": 38,
   "metadata": {},
   "outputs": [
    {
     "name": "stdout",
     "output_type": "stream",
     "text": [
      "No missing values in the labels\n"
     ]
    }
   ],
   "source": [
    "# Check for missing values in the labels\n",
    "# if df_balanced['encoded_id'].isnull().sum() > 0:\n",
    "if new_df['encoded_Author'].isnull().sum() > 0:\n",
    "    print('There are missing values in the labels!')\n",
    "else:\n",
    "    print('No missing values in the labels')"
   ]
  },
  {
   "cell_type": "code",
   "execution_count": 39,
   "metadata": {},
   "outputs": [
    {
     "data": {
      "text/plain": [
       "7525"
      ]
     },
     "execution_count": 39,
     "metadata": {},
     "output_type": "execute_result"
    }
   ],
   "source": [
    "# new_df['encoded_id'].unique()\n",
    "len(new_df['encoded_Author'])\n",
    "# len(labels)\n"
   ]
  },
  {
   "cell_type": "code",
   "execution_count": null,
   "metadata": {},
   "outputs": [
    {
     "ename": "NameError",
     "evalue": "name 'test_texts' is not defined",
     "output_type": "error",
     "traceback": [
      "\u001b[1;31m---------------------------------------------------------------------------\u001b[0m",
      "\u001b[1;31mNameError\u001b[0m                                 Traceback (most recent call last)",
      "\u001b[1;32m~\\AppData\\Local\\Temp\\ipykernel_41768\\1519574655.py\u001b[0m in \u001b[0;36m<cell line: 1>\u001b[1;34m()\u001b[0m\n\u001b[1;32m----> 1\u001b[1;33m \u001b[0mlen\u001b[0m\u001b[1;33m(\u001b[0m\u001b[0mtest_texts\u001b[0m\u001b[1;33m)\u001b[0m\u001b[1;31m#, len(labels)\u001b[0m\u001b[1;33m\u001b[0m\u001b[1;33m\u001b[0m\u001b[0m\n\u001b[0m\u001b[0;32m      2\u001b[0m \u001b[1;31m# 3432+858\u001b[0m\u001b[1;33m\u001b[0m\u001b[1;33m\u001b[0m\u001b[0m\n",
      "\u001b[1;31mNameError\u001b[0m: name 'test_texts' is not defined"
     ]
    }
   ],
   "source": [
    "len(test_texts)#, len(labels)\n",
    "# 3432+858"
   ]
  },
  {
   "cell_type": "code",
   "execution_count": null,
   "metadata": {},
   "outputs": [
    {
     "ename": "NameError",
     "evalue": "name 'train_texts' is not defined",
     "output_type": "error",
     "traceback": [
      "\u001b[1;31m---------------------------------------------------------------------------\u001b[0m",
      "\u001b[1;31mNameError\u001b[0m                                 Traceback (most recent call last)",
      "\u001b[1;32m~\\AppData\\Local\\Temp\\ipykernel_9804\\79620983.py\u001b[0m in \u001b[0;36m<cell line: 4>\u001b[1;34m()\u001b[0m\n\u001b[0;32m      2\u001b[0m \u001b[1;31m# X_train, X_test, y_train, y_test = train_test_split(texts, labels, test_size=0.1, random_state=42, stratify=labels)\u001b[0m\u001b[1;33m\u001b[0m\u001b[1;33m\u001b[0m\u001b[0m\n\u001b[0;32m      3\u001b[0m \u001b[1;31m# len(X_train), len(X_test),len(X_train), len(y_test)\u001b[0m\u001b[1;33m\u001b[0m\u001b[1;33m\u001b[0m\u001b[0m\n\u001b[1;32m----> 4\u001b[1;33m \u001b[0mX_train\u001b[0m \u001b[1;33m=\u001b[0m \u001b[0mtrain_texts\u001b[0m\u001b[1;33m\u001b[0m\u001b[1;33m\u001b[0m\u001b[0m\n\u001b[0m\u001b[0;32m      5\u001b[0m \u001b[0my_train\u001b[0m \u001b[1;33m=\u001b[0m \u001b[0mtrain_labels\u001b[0m\u001b[1;33m\u001b[0m\u001b[1;33m\u001b[0m\u001b[0m\n\u001b[0;32m      6\u001b[0m \u001b[0mlen\u001b[0m\u001b[1;33m(\u001b[0m\u001b[0mX_train\u001b[0m\u001b[1;33m)\u001b[0m\u001b[1;33m,\u001b[0m \u001b[0mlen\u001b[0m\u001b[1;33m(\u001b[0m\u001b[0mX_train\u001b[0m\u001b[1;33m)\u001b[0m\u001b[1;33m\u001b[0m\u001b[1;33m\u001b[0m\u001b[0m\n",
      "\u001b[1;31mNameError\u001b[0m: name 'train_texts' is not defined"
     ]
    }
   ],
   "source": [
    "# Split data into training and testing sets\n",
    "# X_train, X_test, y_train, y_test = train_test_split(texts, labels, test_size=0.1, random_state=42, stratify=labels)\n",
    "# len(X_train), len(X_test),len(X_train), len(y_test)\n",
    "X_train = train_texts\n",
    "y_train = train_labels\n",
    "len(X_train), len(X_train)"
   ]
  },
  {
   "cell_type": "code",
   "execution_count": null,
   "metadata": {},
   "outputs": [
    {
     "ename": "NameError",
     "evalue": "name 'test_texts' is not defined",
     "output_type": "error",
     "traceback": [
      "\u001b[1;31m---------------------------------------------------------------------------\u001b[0m",
      "\u001b[1;31mNameError\u001b[0m                                 Traceback (most recent call last)",
      "\u001b[1;32m~\\AppData\\Local\\Temp\\ipykernel_15476\\3894310451.py\u001b[0m in \u001b[0;36m<cell line: 6>\u001b[1;34m()\u001b[0m\n\u001b[0;32m      4\u001b[0m \u001b[1;33m\u001b[0m\u001b[0m\n\u001b[0;32m      5\u001b[0m \u001b[1;31m# Split unknown set into test and validation sets\u001b[0m\u001b[1;33m\u001b[0m\u001b[1;33m\u001b[0m\u001b[0m\n\u001b[1;32m----> 6\u001b[1;33m \u001b[0mX_test\u001b[0m\u001b[1;33m,\u001b[0m \u001b[0mX_val\u001b[0m\u001b[1;33m,\u001b[0m \u001b[0my_test\u001b[0m\u001b[1;33m,\u001b[0m \u001b[0my_val\u001b[0m \u001b[1;33m=\u001b[0m \u001b[0mtrain_test_split\u001b[0m\u001b[1;33m(\u001b[0m\u001b[0mtest_texts\u001b[0m\u001b[1;33m,\u001b[0m \u001b[0mtest_labels\u001b[0m\u001b[1;33m,\u001b[0m \u001b[0mtest_size\u001b[0m\u001b[1;33m=\u001b[0m\u001b[1;36m0.8\u001b[0m\u001b[1;33m,\u001b[0m \u001b[0mrandom_state\u001b[0m\u001b[1;33m=\u001b[0m\u001b[1;36m42\u001b[0m\u001b[1;33m,\u001b[0m \u001b[0mstratify\u001b[0m\u001b[1;33m=\u001b[0m\u001b[0mtest_labels\u001b[0m\u001b[1;33m)\u001b[0m\u001b[1;33m\u001b[0m\u001b[1;33m\u001b[0m\u001b[0m\n\u001b[0m\u001b[0;32m      7\u001b[0m \u001b[0mlen\u001b[0m\u001b[1;33m(\u001b[0m\u001b[0mX_test\u001b[0m\u001b[1;33m)\u001b[0m\u001b[1;33m,\u001b[0m \u001b[0mlen\u001b[0m\u001b[1;33m(\u001b[0m\u001b[0mX_val\u001b[0m\u001b[1;33m)\u001b[0m\u001b[1;33m,\u001b[0m \u001b[0mlen\u001b[0m\u001b[1;33m(\u001b[0m\u001b[0my_test\u001b[0m\u001b[1;33m)\u001b[0m\u001b[1;33m,\u001b[0m \u001b[0mlen\u001b[0m\u001b[1;33m(\u001b[0m\u001b[0my_val\u001b[0m\u001b[1;33m)\u001b[0m\u001b[1;33m\u001b[0m\u001b[1;33m\u001b[0m\u001b[0m\n",
      "\u001b[1;31mNameError\u001b[0m: name 'test_texts' is not defined"
     ]
    }
   ],
   "source": [
    "# # Split training set into training and validation sets\n",
    "# X_train, X_val, y_train, y_val = train_test_split(X_train, y_train, test_size=0.2, random_state=42, stratify=y_train)\n",
    "# len(X_train), len(X_val), len(y_train), len(y_val)\n",
    "\n",
    "# Split unknown set into test and validation sets\n",
    "X_test, X_val, y_test, y_val = train_test_split(test_texts, test_labels, test_size=0.8, random_state=42, stratify=test_labels)\n",
    "len(X_test), len(X_val), len(y_test), len(y_val)"
   ]
  },
  {
   "cell_type": "code",
   "execution_count": 40,
   "metadata": {},
   "outputs": [
    {
     "data": {
      "text/plain": [
       "(4515, 1505, 1505, 4515, 1505, 1505)"
      ]
     },
     "execution_count": 40,
     "metadata": {},
     "output_type": "execute_result"
    }
   ],
   "source": [
    "#FOR FULL_DATA\n",
    "X = new_df['Text']#.drop(['Author', 'encoded_author'], axis=1)\n",
    "y = new_df['encoded_Author']\n",
    "\n",
    "# Split into train and test\n",
    "X_train, X_test, y_train, y_test = train_test_split(X, y, test_size=0.2, stratify=y, random_state=42)\n",
    "\n",
    "# Split train into train and validation\n",
    "X_train, X_val, y_train, y_val = train_test_split(X_train, y_train, test_size=0.25, stratify=y_train, random_state=42)\n",
    "len(X_train), len(X_test), len(X_val), len(y_train), len(y_test), len(y_val)"
   ]
  },
  {
   "cell_type": "code",
   "execution_count": null,
   "metadata": {},
   "outputs": [],
   "source": [
    "# y_test =y_test.to_list()"
   ]
  },
  {
   "attachments": {},
   "cell_type": "markdown",
   "metadata": {},
   "source": [
    "## Encode Function"
   ]
  },
  {
   "cell_type": "code",
   "execution_count": 42,
   "metadata": {},
   "outputs": [],
   "source": [
    "def encode(docs):\n",
    "    '''\n",
    "    This function takes list of texts and returns input_ids and attention_mask of texts\n",
    "    '''\n",
    "    encoded_dict = tokenizer.batch_encode_plus(docs, add_special_tokens=True, max_length=MAX_LENGTH, padding='max_length',\n",
    "                            return_attention_mask=True, truncation=True, return_tensors='pt')\n",
    "    input_ids = encoded_dict['input_ids']\n",
    "    # inputs_embeds = encoded_dict['inputs_embeds']\n",
    "    attention_masks = encoded_dict['attention_mask']\n",
    "    # texts = docs\n",
    "    # print(encoded_dict)\n",
    "    return input_ids, attention_masks#, texts\n",
    "# input_ids, attention_masks = encode(texts)\n",
    "# labels = torch.tensor(labels)  "
   ]
  },
  {
   "cell_type": "code",
   "execution_count": 43,
   "metadata": {},
   "outputs": [],
   "source": [
    "train_input_ids, train_att_masks = encode(X_train)\n",
    "valid_input_ids, valid_att_masks = encode(X_val)\n",
    "test_input_ids, test_att_masks = encode(X_test)"
   ]
  },
  {
   "cell_type": "code",
   "execution_count": 44,
   "metadata": {},
   "outputs": [
    {
     "data": {
      "text/plain": [
       "(torch.Size([4515]), torch.Size([1505]), torch.Size([1505]))"
      ]
     },
     "execution_count": 44,
     "metadata": {},
     "output_type": "execute_result"
    }
   ],
   "source": [
    "train_y = torch.LongTensor(y_train.to_list())\n",
    "valid_y = torch.LongTensor(y_val.to_list())\n",
    "test_y = torch.LongTensor(y_test.to_list())\n",
    "train_y.size(),valid_y.size(),test_y.size()\n",
    "# len(train_y)\n"
   ]
  },
  {
   "attachments": {},
   "cell_type": "markdown",
   "metadata": {},
   "source": [
    "# Data Loaders"
   ]
  },
  {
   "cell_type": "code",
   "execution_count": 45,
   "metadata": {},
   "outputs": [],
   "source": [
    "BATCH_SIZE = 25"
   ]
  },
  {
   "cell_type": "code",
   "execution_count": 46,
   "metadata": {},
   "outputs": [],
   "source": [
    "from torch.utils.data import TensorDataset, DataLoader, RandomSampler, SequentialSampler\n",
    "\n",
    "train_dataset = TensorDataset(train_input_ids, train_att_masks, train_y)\n",
    "train_sampler = RandomSampler(train_dataset)\n",
    "train_dataloader = DataLoader(train_dataset, sampler=train_sampler, batch_size=BATCH_SIZE)\n",
    "\n",
    "valid_dataset = TensorDataset(valid_input_ids, valid_att_masks, valid_y)\n",
    "valid_sampler = SequentialSampler(valid_dataset)\n",
    "valid_dataloader = DataLoader(valid_dataset, sampler=valid_sampler, batch_size=BATCH_SIZE)\n",
    "\n",
    "test_dataset = TensorDataset(test_input_ids, test_att_masks, test_y)\n",
    "test_sampler = SequentialSampler(test_dataset)\n",
    "test_dataloader = DataLoader(test_dataset, sampler=test_sampler, batch_size=BATCH_SIZE)"
   ]
  },
  {
   "cell_type": "code",
   "execution_count": 47,
   "metadata": {},
   "outputs": [],
   "source": [
    "# Tokenize the training and validation data\n",
    "# input_ids = []\n",
    "# attention_masks = []\n",
    "# for text in texts:\n",
    "#     encoded_dict = tokenizer.encode_plus(\n",
    "#                         text,\n",
    "#                         add_special_tokens = True,\n",
    "#                         max_length = MAX_LENGTH,\n",
    "#                         padding=True,\n",
    "#                         truncation=True,\n",
    "#                         return_attention_mask = True,\n",
    "#                         return_tensors = 'pt'\n",
    "#                    )\n",
    "#     input_ids.append(encoded_dict['input_ids'])\n",
    "#     attention_masks.append(encoded_dict['attention_mask'])\n",
    "# input_ids = torch.cat(input_ids, dim=0)\n",
    "# attention_masks = torch.cat(attention_masks, dim=0)\n",
    "# labels = torch.tensor(labels)  "
   ]
  },
  {
   "attachments": {},
   "cell_type": "markdown",
   "metadata": {},
   "source": [
    "# Model Architecture"
   ]
  },
  {
   "cell_type": "code",
   "execution_count": 48,
   "metadata": {},
   "outputs": [],
   "source": [
    "# len(df_balanced['id'].unique())\n",
    "PRETRAINED_LM = \"distilbert-base-uncased\"#\"albert-base-v2\"#\"bert-base-uncased\"\n",
    "DROPOUT_RATE = 0.1"
   ]
  },
  {
   "cell_type": "code",
   "execution_count": 49,
   "metadata": {},
   "outputs": [
    {
     "name": "stderr",
     "output_type": "stream",
     "text": [
      "Some weights of the model checkpoint at distilbert-base-uncased were not used when initializing DistilBertForSequenceClassification: ['vocab_projector.weight', 'vocab_transform.bias', 'vocab_transform.weight', 'vocab_layer_norm.weight', 'vocab_projector.bias', 'vocab_layer_norm.bias']\n",
      "- This IS expected if you are initializing DistilBertForSequenceClassification from the checkpoint of a model trained on another task or with another architecture (e.g. initializing a BertForSequenceClassification model from a BertForPreTraining model).\n",
      "- This IS NOT expected if you are initializing DistilBertForSequenceClassification from the checkpoint of a model that you expect to be exactly identical (initializing a BertForSequenceClassification model from a BertForSequenceClassification model).\n",
      "Some weights of DistilBertForSequenceClassification were not initialized from the model checkpoint at distilbert-base-uncased and are newly initialized: ['classifier.bias', 'classifier.weight', 'pre_classifier.bias', 'pre_classifier.weight']\n",
      "You should probably TRAIN this model on a down-stream task to be able to use it for predictions and inference.\n"
     ]
    },
    {
     "data": {
      "text/plain": [
       "device(type='cuda')"
      ]
     },
     "execution_count": 49,
     "metadata": {},
     "output_type": "execute_result"
    }
   ],
   "source": [
    "from torch import nn\n",
    "N_labels = len(new_df['encoded_Author'].unique())#len(train_data['Author'].unique())#len(df_balanced['id'].unique())#len(new_df['id'].unique())\n",
    "model = DistilBertForSequenceClassification.from_pretrained(PRETRAINED_LM,\n",
    "                                                      num_labels=N_labels,\n",
    "                                                      output_attentions=False,\n",
    "                                                      output_hidden_states=False)\n",
    "\n",
    "# import torch.nn as nn\n",
    "\n",
    "# class EmbeddingModel(DistilBertForSequenceClassification):\n",
    "#     def __init__(self, config):\n",
    "#         super().__init__(config)\n",
    "#         self.embeddings = nn.Embedding(config.vocab_size, config.dim, padding_idx=config.pad_token_id)\n",
    "\n",
    "#     def forward(self, inputs_embeds, **kwargs):\n",
    "#         inputs = self.embeddings.weight[None, :, :] + inputs_embeds[:, :, None]\n",
    "#         return super().forward(inputs, **kwargs)\n",
    "\n",
    "# config = model.config\n",
    "# new_model = EmbeddingModel(config)\n",
    "# new_model.classifier = model.classifier\n",
    "\n",
    "model.dropout = nn.Dropout(DROPOUT_RATE)\n",
    "device = torch.device('cuda' if torch.cuda.is_available() else 'cpu')\n",
    "device                                                      "
   ]
  },
  {
   "cell_type": "code",
   "execution_count": 50,
   "metadata": {},
   "outputs": [
    {
     "data": {
      "text/plain": [
       "DistilBertForSequenceClassification(\n",
       "  (distilbert): DistilBertModel(\n",
       "    (embeddings): Embeddings(\n",
       "      (word_embeddings): Embedding(30522, 768, padding_idx=0)\n",
       "      (position_embeddings): Embedding(512, 768)\n",
       "      (LayerNorm): LayerNorm((768,), eps=1e-12, elementwise_affine=True)\n",
       "      (dropout): Dropout(p=0.1, inplace=False)\n",
       "    )\n",
       "    (transformer): Transformer(\n",
       "      (layer): ModuleList(\n",
       "        (0-5): 6 x TransformerBlock(\n",
       "          (attention): MultiHeadSelfAttention(\n",
       "            (dropout): Dropout(p=0.1, inplace=False)\n",
       "            (q_lin): Linear(in_features=768, out_features=768, bias=True)\n",
       "            (k_lin): Linear(in_features=768, out_features=768, bias=True)\n",
       "            (v_lin): Linear(in_features=768, out_features=768, bias=True)\n",
       "            (out_lin): Linear(in_features=768, out_features=768, bias=True)\n",
       "          )\n",
       "          (sa_layer_norm): LayerNorm((768,), eps=1e-12, elementwise_affine=True)\n",
       "          (ffn): FFN(\n",
       "            (dropout): Dropout(p=0.1, inplace=False)\n",
       "            (lin1): Linear(in_features=768, out_features=3072, bias=True)\n",
       "            (lin2): Linear(in_features=3072, out_features=768, bias=True)\n",
       "            (activation): GELUActivation()\n",
       "          )\n",
       "          (output_layer_norm): LayerNorm((768,), eps=1e-12, elementwise_affine=True)\n",
       "        )\n",
       "      )\n",
       "    )\n",
       "  )\n",
       "  (pre_classifier): Linear(in_features=768, out_features=768, bias=True)\n",
       "  (classifier): Linear(in_features=768, out_features=25, bias=True)\n",
       "  (dropout): Dropout(p=0.1, inplace=False)\n",
       ")"
      ]
     },
     "execution_count": 50,
     "metadata": {},
     "output_type": "execute_result"
    }
   ],
   "source": [
    "model.to(device)\n",
    "# new_model.to(device)"
   ]
  },
  {
   "attachments": {},
   "cell_type": "markdown",
   "metadata": {},
   "source": [
    "# FineTuning"
   ]
  },
  {
   "attachments": {},
   "cell_type": "markdown",
   "metadata": {},
   "source": [
    "## Optimizer and Scheduler"
   ]
  },
  {
   "cell_type": "code",
   "execution_count": 60,
   "metadata": {},
   "outputs": [],
   "source": [
    "from torch.optim import AdamW, RMSprop, Adam\n",
    "from transformers import get_linear_schedule_with_warmup\n",
    "\n",
    "EPOCHS = 30\n",
    "LEARNING_RATE = 1e-4\n",
    "WEIGHT_DECAY = 0.01\n",
    "optimizer = Adam(model.parameters(), lr=LEARNING_RATE, weight_decay=WEIGHT_DECAY)\n",
    "scheduler = get_linear_schedule_with_warmup(optimizer, \n",
    "             num_warmup_steps=0,\n",
    "            num_training_steps=len(train_dataloader)*EPOCHS )"
   ]
  },
  {
   "cell_type": "code",
   "execution_count": 61,
   "metadata": {},
   "outputs": [],
   "source": [
    "# train_labels"
   ]
  },
  {
   "attachments": {},
   "cell_type": "markdown",
   "metadata": {},
   "source": [
    "## Training Loop"
   ]
  },
  {
   "cell_type": "code",
   "execution_count": 62,
   "metadata": {},
   "outputs": [
    {
     "name": "stdout",
     "output_type": "stream",
     "text": [
      "Epoch:  1\n"
     ]
    },
    {
     "data": {
      "application/vnd.jupyter.widget-view+json": {
       "model_id": "6e2430b20f7f437db435cb0a8a7ca44a",
       "version_major": 2,
       "version_minor": 0
      },
      "text/plain": [
       "Training:   0%|          | 0/181 [00:00<?, ?it/s]"
      ]
     },
     "metadata": {},
     "output_type": "display_data"
    },
    {
     "data": {
      "application/vnd.jupyter.widget-view+json": {
       "model_id": "ddb424ae4ccc40458d742f6d721ca734",
       "version_major": 2,
       "version_minor": 0
      },
      "text/plain": [
       "Validation:   0%|          | 0/61 [00:00<?, ?it/s]"
      ]
     },
     "metadata": {},
     "output_type": "display_data"
    },
    {
     "name": "stdout",
     "output_type": "stream",
     "text": [
      "181/181 train loss: 2.4508332066773053 \n",
      "61/61 val loss: 2.2647829036243627 \n",
      "Epoch:  2\n"
     ]
    },
    {
     "data": {
      "application/vnd.jupyter.widget-view+json": {
       "model_id": "177a758bc0ce425f8d190ea7713150a1",
       "version_major": 2,
       "version_minor": 0
      },
      "text/plain": [
       "Training:   0%|          | 0/181 [00:00<?, ?it/s]"
      ]
     },
     "metadata": {},
     "output_type": "display_data"
    },
    {
     "data": {
      "application/vnd.jupyter.widget-view+json": {
       "model_id": "d08d4b18dc414423908b969478c8d87c",
       "version_major": 2,
       "version_minor": 0
      },
      "text/plain": [
       "Validation:   0%|          | 0/61 [00:00<?, ?it/s]"
      ]
     },
     "metadata": {},
     "output_type": "display_data"
    },
    {
     "name": "stdout",
     "output_type": "stream",
     "text": [
      "181/181 train loss: 2.190157643339252 \n",
      "61/61 val loss: 2.2153875945044343 \n",
      "Epoch:  3\n"
     ]
    },
    {
     "data": {
      "application/vnd.jupyter.widget-view+json": {
       "model_id": "66513f07e0854caa91b4ec984bdd9b16",
       "version_major": 2,
       "version_minor": 0
      },
      "text/plain": [
       "Training:   0%|          | 0/181 [00:00<?, ?it/s]"
      ]
     },
     "metadata": {},
     "output_type": "display_data"
    },
    {
     "data": {
      "application/vnd.jupyter.widget-view+json": {
       "model_id": "058d983078ac4c6fb99b1ff5c10ab418",
       "version_major": 2,
       "version_minor": 0
      },
      "text/plain": [
       "Validation:   0%|          | 0/61 [00:00<?, ?it/s]"
      ]
     },
     "metadata": {},
     "output_type": "display_data"
    },
    {
     "name": "stdout",
     "output_type": "stream",
     "text": [
      "181/181 train loss: 2.0306975340974924 \n",
      "61/61 val loss: 2.2874747280214653 \n",
      "Epoch:  4\n"
     ]
    },
    {
     "data": {
      "application/vnd.jupyter.widget-view+json": {
       "model_id": "f4dfb39d66dc4807bfd938f034bda4aa",
       "version_major": 2,
       "version_minor": 0
      },
      "text/plain": [
       "Training:   0%|          | 0/181 [00:00<?, ?it/s]"
      ]
     },
     "metadata": {},
     "output_type": "display_data"
    },
    {
     "data": {
      "application/vnd.jupyter.widget-view+json": {
       "model_id": "f06f399b706e484eb74d20295f78c046",
       "version_major": 2,
       "version_minor": 0
      },
      "text/plain": [
       "Validation:   0%|          | 0/61 [00:00<?, ?it/s]"
      ]
     },
     "metadata": {},
     "output_type": "display_data"
    },
    {
     "name": "stdout",
     "output_type": "stream",
     "text": [
      "181/181 train loss: 1.9692661077278095 \n",
      "61/61 val loss: 2.163753955090632 \n",
      "Epoch:  5\n"
     ]
    },
    {
     "data": {
      "application/vnd.jupyter.widget-view+json": {
       "model_id": "711dbe6b600948ef8dcff61065c954f7",
       "version_major": 2,
       "version_minor": 0
      },
      "text/plain": [
       "Training:   0%|          | 0/181 [00:00<?, ?it/s]"
      ]
     },
     "metadata": {},
     "output_type": "display_data"
    },
    {
     "data": {
      "application/vnd.jupyter.widget-view+json": {
       "model_id": "e44b534d26674fe684ea2051ffbd2822",
       "version_major": 2,
       "version_minor": 0
      },
      "text/plain": [
       "Validation:   0%|          | 0/61 [00:00<?, ?it/s]"
      ]
     },
     "metadata": {},
     "output_type": "display_data"
    },
    {
     "name": "stdout",
     "output_type": "stream",
     "text": [
      "181/181 train loss: 1.877166505017992 \n",
      "61/61 val loss: 1.9808133039318148 \n",
      "Epoch:  6\n"
     ]
    },
    {
     "data": {
      "application/vnd.jupyter.widget-view+json": {
       "model_id": "a2f61fe363e749a1a94a61b3e06fde3c",
       "version_major": 2,
       "version_minor": 0
      },
      "text/plain": [
       "Training:   0%|          | 0/181 [00:00<?, ?it/s]"
      ]
     },
     "metadata": {},
     "output_type": "display_data"
    },
    {
     "data": {
      "application/vnd.jupyter.widget-view+json": {
       "model_id": "1b96f383f8af4cb3b416a89f29afec12",
       "version_major": 2,
       "version_minor": 0
      },
      "text/plain": [
       "Validation:   0%|          | 0/61 [00:00<?, ?it/s]"
      ]
     },
     "metadata": {},
     "output_type": "display_data"
    },
    {
     "name": "stdout",
     "output_type": "stream",
     "text": [
      "181/181 train loss: 1.813203927561723 \n",
      "61/61 val loss: 1.9357443539822687 \n",
      "Epoch:  7\n"
     ]
    },
    {
     "data": {
      "application/vnd.jupyter.widget-view+json": {
       "model_id": "93f50e05e86b4f5d96c95d52b14f7748",
       "version_major": 2,
       "version_minor": 0
      },
      "text/plain": [
       "Training:   0%|          | 0/181 [00:00<?, ?it/s]"
      ]
     },
     "metadata": {},
     "output_type": "display_data"
    },
    {
     "data": {
      "application/vnd.jupyter.widget-view+json": {
       "model_id": "b90099b819954406913d2471750b7851",
       "version_major": 2,
       "version_minor": 0
      },
      "text/plain": [
       "Validation:   0%|          | 0/61 [00:00<?, ?it/s]"
      ]
     },
     "metadata": {},
     "output_type": "display_data"
    },
    {
     "name": "stdout",
     "output_type": "stream",
     "text": [
      "181/181 train loss: 1.7528274421533827 \n",
      "61/61 val loss: 1.9665733614905936 \n",
      "Epoch:  8\n"
     ]
    },
    {
     "data": {
      "application/vnd.jupyter.widget-view+json": {
       "model_id": "f8e1a9ac3a18418d9942c6206f5fe6e3",
       "version_major": 2,
       "version_minor": 0
      },
      "text/plain": [
       "Training:   0%|          | 0/181 [00:00<?, ?it/s]"
      ]
     },
     "metadata": {},
     "output_type": "display_data"
    },
    {
     "data": {
      "application/vnd.jupyter.widget-view+json": {
       "model_id": "660fd86f6bb6458082739a32f183231c",
       "version_major": 2,
       "version_minor": 0
      },
      "text/plain": [
       "Validation:   0%|          | 0/61 [00:00<?, ?it/s]"
      ]
     },
     "metadata": {},
     "output_type": "display_data"
    },
    {
     "name": "stdout",
     "output_type": "stream",
     "text": [
      "181/181 train loss: 1.6793666248163466 \n",
      "61/61 val loss: 2.0286920793720933 \n",
      "Epoch:  9\n"
     ]
    },
    {
     "data": {
      "application/vnd.jupyter.widget-view+json": {
       "model_id": "83ab1bdeb85143cfaaff3501ef86a996",
       "version_major": 2,
       "version_minor": 0
      },
      "text/plain": [
       "Training:   0%|          | 0/181 [00:00<?, ?it/s]"
      ]
     },
     "metadata": {},
     "output_type": "display_data"
    },
    {
     "data": {
      "application/vnd.jupyter.widget-view+json": {
       "model_id": "b5ed0e5f1d8c414fb41fa05c8f5c4919",
       "version_major": 2,
       "version_minor": 0
      },
      "text/plain": [
       "Validation:   0%|          | 0/61 [00:00<?, ?it/s]"
      ]
     },
     "metadata": {},
     "output_type": "display_data"
    },
    {
     "name": "stdout",
     "output_type": "stream",
     "text": [
      "181/181 train loss: 1.6296735475076496 \n",
      "61/61 val loss: 1.9794065893673507 \n",
      "Epoch:  10\n"
     ]
    },
    {
     "data": {
      "application/vnd.jupyter.widget-view+json": {
       "model_id": "c4d6a58699de428f96f9306d2118bb81",
       "version_major": 2,
       "version_minor": 0
      },
      "text/plain": [
       "Training:   0%|          | 0/181 [00:00<?, ?it/s]"
      ]
     },
     "metadata": {},
     "output_type": "display_data"
    },
    {
     "data": {
      "application/vnd.jupyter.widget-view+json": {
       "model_id": "7fd15a4bd6364f60bcac0ba48a7bc1da",
       "version_major": 2,
       "version_minor": 0
      },
      "text/plain": [
       "Validation:   0%|          | 0/61 [00:00<?, ?it/s]"
      ]
     },
     "metadata": {},
     "output_type": "display_data"
    },
    {
     "name": "stdout",
     "output_type": "stream",
     "text": [
      "181/181 train loss: 1.6035139692422435 \n",
      "61/61 val loss: 1.9542468043624377 \n",
      "Epoch:  11\n"
     ]
    },
    {
     "data": {
      "application/vnd.jupyter.widget-view+json": {
       "model_id": "e6eea3509783457ebd719a13651f2ad2",
       "version_major": 2,
       "version_minor": 0
      },
      "text/plain": [
       "Training:   0%|          | 0/181 [00:00<?, ?it/s]"
      ]
     },
     "metadata": {},
     "output_type": "display_data"
    },
    {
     "data": {
      "application/vnd.jupyter.widget-view+json": {
       "model_id": "a245c6fc9b3a4e52bc2ea98844703004",
       "version_major": 2,
       "version_minor": 0
      },
      "text/plain": [
       "Validation:   0%|          | 0/61 [00:00<?, ?it/s]"
      ]
     },
     "metadata": {},
     "output_type": "display_data"
    },
    {
     "name": "stdout",
     "output_type": "stream",
     "text": [
      "181/181 train loss: 1.575851419354012 \n",
      "61/61 val loss: 1.9283312305075224 \n",
      "Epoch:  12\n"
     ]
    },
    {
     "data": {
      "application/vnd.jupyter.widget-view+json": {
       "model_id": "a50adcb423b24fcb8317a1b777948f77",
       "version_major": 2,
       "version_minor": 0
      },
      "text/plain": [
       "Training:   0%|          | 0/181 [00:00<?, ?it/s]"
      ]
     },
     "metadata": {},
     "output_type": "display_data"
    },
    {
     "data": {
      "application/vnd.jupyter.widget-view+json": {
       "model_id": "c5fdb57404fb4afbb95d32653c942ad4",
       "version_major": 2,
       "version_minor": 0
      },
      "text/plain": [
       "Validation:   0%|          | 0/61 [00:00<?, ?it/s]"
      ]
     },
     "metadata": {},
     "output_type": "display_data"
    },
    {
     "name": "stdout",
     "output_type": "stream",
     "text": [
      "181/181 train loss: 1.5244150583256675 \n",
      "61/61 val loss: 1.9849991212125684 \n",
      "Epoch:  13\n"
     ]
    },
    {
     "data": {
      "application/vnd.jupyter.widget-view+json": {
       "model_id": "6ec4accdd8af4392b3c5658853e6ed73",
       "version_major": 2,
       "version_minor": 0
      },
      "text/plain": [
       "Training:   0%|          | 0/181 [00:00<?, ?it/s]"
      ]
     },
     "metadata": {},
     "output_type": "display_data"
    },
    {
     "data": {
      "application/vnd.jupyter.widget-view+json": {
       "model_id": "74476ed3a1ea4186a6c034111cda238a",
       "version_major": 2,
       "version_minor": 0
      },
      "text/plain": [
       "Validation:   0%|          | 0/61 [00:00<?, ?it/s]"
      ]
     },
     "metadata": {},
     "output_type": "display_data"
    },
    {
     "name": "stdout",
     "output_type": "stream",
     "text": [
      "181/181 train loss: 1.4975775730544032 \n",
      "61/61 val loss: 1.9531022114831893 \n",
      "Epoch:  14\n"
     ]
    },
    {
     "data": {
      "application/vnd.jupyter.widget-view+json": {
       "model_id": "58eee5caf9ee4bd986f0fdc6523a0144",
       "version_major": 2,
       "version_minor": 0
      },
      "text/plain": [
       "Training:   0%|          | 0/181 [00:00<?, ?it/s]"
      ]
     },
     "metadata": {},
     "output_type": "display_data"
    },
    {
     "data": {
      "application/vnd.jupyter.widget-view+json": {
       "model_id": "f3eb28a7dfd04bd1a72b9716ccc548bd",
       "version_major": 2,
       "version_minor": 0
      },
      "text/plain": [
       "Validation:   0%|          | 0/61 [00:00<?, ?it/s]"
      ]
     },
     "metadata": {},
     "output_type": "display_data"
    },
    {
     "name": "stdout",
     "output_type": "stream",
     "text": [
      "181/181 train loss: 1.4871869930246258 \n",
      "61/61 val loss: 1.9570749959007638 \n",
      "Epoch:  15\n"
     ]
    },
    {
     "data": {
      "application/vnd.jupyter.widget-view+json": {
       "model_id": "648b84c99552431ca0fde0b3b07d3957",
       "version_major": 2,
       "version_minor": 0
      },
      "text/plain": [
       "Training:   0%|          | 0/181 [00:00<?, ?it/s]"
      ]
     },
     "metadata": {},
     "output_type": "display_data"
    },
    {
     "data": {
      "application/vnd.jupyter.widget-view+json": {
       "model_id": "a7611545967c4db9bd0d55c5e3c9b724",
       "version_major": 2,
       "version_minor": 0
      },
      "text/plain": [
       "Validation:   0%|          | 0/61 [00:00<?, ?it/s]"
      ]
     },
     "metadata": {},
     "output_type": "display_data"
    },
    {
     "name": "stdout",
     "output_type": "stream",
     "text": [
      "181/181 train loss: 1.474941920838962 \n",
      "61/61 val loss: 1.9779781220389194 \n",
      "Epoch:  16\n"
     ]
    },
    {
     "data": {
      "application/vnd.jupyter.widget-view+json": {
       "model_id": "77407e8650524318961913b51a0fe4ac",
       "version_major": 2,
       "version_minor": 0
      },
      "text/plain": [
       "Training:   0%|          | 0/181 [00:00<?, ?it/s]"
      ]
     },
     "metadata": {},
     "output_type": "display_data"
    },
    {
     "data": {
      "application/vnd.jupyter.widget-view+json": {
       "model_id": "7bc0bec369534b47a1bab262850b4990",
       "version_major": 2,
       "version_minor": 0
      },
      "text/plain": [
       "Validation:   0%|          | 0/61 [00:00<?, ?it/s]"
      ]
     },
     "metadata": {},
     "output_type": "display_data"
    },
    {
     "name": "stdout",
     "output_type": "stream",
     "text": [
      "181/181 train loss: 1.4702209346202197 \n",
      "61/61 val loss: 1.9792540503329918 \n",
      "Epoch:  17\n"
     ]
    },
    {
     "data": {
      "application/vnd.jupyter.widget-view+json": {
       "model_id": "fbd78c0c1e314fcca84e990d3e73b405",
       "version_major": 2,
       "version_minor": 0
      },
      "text/plain": [
       "Training:   0%|          | 0/181 [00:00<?, ?it/s]"
      ]
     },
     "metadata": {},
     "output_type": "display_data"
    },
    {
     "data": {
      "application/vnd.jupyter.widget-view+json": {
       "model_id": "1650d12271f14b61b0639f3ba8897463",
       "version_major": 2,
       "version_minor": 0
      },
      "text/plain": [
       "Validation:   0%|          | 0/61 [00:00<?, ?it/s]"
      ]
     },
     "metadata": {},
     "output_type": "display_data"
    },
    {
     "name": "stdout",
     "output_type": "stream",
     "text": [
      "181/181 train loss: 1.468529622199127 \n",
      "61/61 val loss: 1.986764558026048 \n",
      "Epoch:  18\n"
     ]
    },
    {
     "data": {
      "application/vnd.jupyter.widget-view+json": {
       "model_id": "7223259e728441e7940c4107e7ac8dd2",
       "version_major": 2,
       "version_minor": 0
      },
      "text/plain": [
       "Training:   0%|          | 0/181 [00:00<?, ?it/s]"
      ]
     },
     "metadata": {},
     "output_type": "display_data"
    },
    {
     "data": {
      "application/vnd.jupyter.widget-view+json": {
       "model_id": "c07de79e5eda42f9959659cbc3f96630",
       "version_major": 2,
       "version_minor": 0
      },
      "text/plain": [
       "Validation:   0%|          | 0/61 [00:00<?, ?it/s]"
      ]
     },
     "metadata": {},
     "output_type": "display_data"
    },
    {
     "name": "stdout",
     "output_type": "stream",
     "text": [
      "181/181 train loss: 1.4915396034388253 \n",
      "61/61 val loss: 2.0062314056959307 \n",
      "Epoch:  19\n"
     ]
    },
    {
     "data": {
      "application/vnd.jupyter.widget-view+json": {
       "model_id": "05d196401f5447969aecbb16b9e90a4f",
       "version_major": 2,
       "version_minor": 0
      },
      "text/plain": [
       "Training:   0%|          | 0/181 [00:00<?, ?it/s]"
      ]
     },
     "metadata": {},
     "output_type": "display_data"
    },
    {
     "data": {
      "application/vnd.jupyter.widget-view+json": {
       "model_id": "24459cbac6dc4d7abdc931a8ccc6e389",
       "version_major": 2,
       "version_minor": 0
      },
      "text/plain": [
       "Validation:   0%|          | 0/61 [00:00<?, ?it/s]"
      ]
     },
     "metadata": {},
     "output_type": "display_data"
    },
    {
     "name": "stdout",
     "output_type": "stream",
     "text": [
      "181/181 train loss: 1.4948547228923819 \n",
      "61/61 val loss: 1.984171714939055 \n",
      "Epoch:  20\n"
     ]
    },
    {
     "data": {
      "application/vnd.jupyter.widget-view+json": {
       "model_id": "ec244f6bd04f4d67947d1a508c25c320",
       "version_major": 2,
       "version_minor": 0
      },
      "text/plain": [
       "Training:   0%|          | 0/181 [00:00<?, ?it/s]"
      ]
     },
     "metadata": {},
     "output_type": "display_data"
    },
    {
     "data": {
      "application/vnd.jupyter.widget-view+json": {
       "model_id": "14b25a76ec504e1aa3f3414605861cda",
       "version_major": 2,
       "version_minor": 0
      },
      "text/plain": [
       "Validation:   0%|          | 0/61 [00:00<?, ?it/s]"
      ]
     },
     "metadata": {},
     "output_type": "display_data"
    },
    {
     "name": "stdout",
     "output_type": "stream",
     "text": [
      "181/181 train loss: 1.513652730383267 \n",
      "61/61 val loss: 2.0176435259521983 \n",
      "Epoch:  21\n"
     ]
    },
    {
     "data": {
      "application/vnd.jupyter.widget-view+json": {
       "model_id": "d29b0fc8119f4013a01f833dc736ca99",
       "version_major": 2,
       "version_minor": 0
      },
      "text/plain": [
       "Training:   0%|          | 0/181 [00:00<?, ?it/s]"
      ]
     },
     "metadata": {},
     "output_type": "display_data"
    },
    {
     "data": {
      "application/vnd.jupyter.widget-view+json": {
       "model_id": "19045b7848d544ff95e66f67cab69b07",
       "version_major": 2,
       "version_minor": 0
      },
      "text/plain": [
       "Validation:   0%|          | 0/61 [00:00<?, ?it/s]"
      ]
     },
     "metadata": {},
     "output_type": "display_data"
    },
    {
     "name": "stdout",
     "output_type": "stream",
     "text": [
      "181/181 train loss: 1.509503857865518 \n",
      "61/61 val loss: 2.059938067295512 \n",
      "Epoch:  22\n"
     ]
    },
    {
     "data": {
      "application/vnd.jupyter.widget-view+json": {
       "model_id": "0a39a55bfc9648b4b7f9ac8439cf0871",
       "version_major": 2,
       "version_minor": 0
      },
      "text/plain": [
       "Training:   0%|          | 0/181 [00:00<?, ?it/s]"
      ]
     },
     "metadata": {},
     "output_type": "display_data"
    },
    {
     "data": {
      "application/vnd.jupyter.widget-view+json": {
       "model_id": "1d18e411065145c7adeced94a8f5baa1",
       "version_major": 2,
       "version_minor": 0
      },
      "text/plain": [
       "Validation:   0%|          | 0/61 [00:00<?, ?it/s]"
      ]
     },
     "metadata": {},
     "output_type": "display_data"
    },
    {
     "name": "stdout",
     "output_type": "stream",
     "text": [
      "181/181 train loss: 1.5283206931793887 \n",
      "61/61 val loss: 2.0987632821817868 \n",
      "Epoch:  23\n"
     ]
    },
    {
     "data": {
      "application/vnd.jupyter.widget-view+json": {
       "model_id": "3f3356228a164bcca49168e16460e883",
       "version_major": 2,
       "version_minor": 0
      },
      "text/plain": [
       "Training:   0%|          | 0/181 [00:00<?, ?it/s]"
      ]
     },
     "metadata": {},
     "output_type": "display_data"
    },
    {
     "data": {
      "application/vnd.jupyter.widget-view+json": {
       "model_id": "85fcf055a2fa42aa984ecf68a239f8d2",
       "version_major": 2,
       "version_minor": 0
      },
      "text/plain": [
       "Validation:   0%|          | 0/61 [00:00<?, ?it/s]"
      ]
     },
     "metadata": {},
     "output_type": "display_data"
    },
    {
     "name": "stdout",
     "output_type": "stream",
     "text": [
      "181/181 train loss: 1.5362650544603884 \n",
      "61/61 val loss: 2.0605630757378752 \n",
      "Epoch:  24\n"
     ]
    },
    {
     "data": {
      "application/vnd.jupyter.widget-view+json": {
       "model_id": "4ad9f75efb414eb2a259f9e4ec1e35d5",
       "version_major": 2,
       "version_minor": 0
      },
      "text/plain": [
       "Training:   0%|          | 0/181 [00:00<?, ?it/s]"
      ]
     },
     "metadata": {},
     "output_type": "display_data"
    },
    {
     "data": {
      "application/vnd.jupyter.widget-view+json": {
       "model_id": "fbbeea62539e41139a674b7624b28cc1",
       "version_major": 2,
       "version_minor": 0
      },
      "text/plain": [
       "Validation:   0%|          | 0/61 [00:00<?, ?it/s]"
      ]
     },
     "metadata": {},
     "output_type": "display_data"
    },
    {
     "name": "stdout",
     "output_type": "stream",
     "text": [
      "181/181 train loss: 1.5453177953951924 \n",
      "61/61 val loss: 2.073135317349043 \n",
      "Epoch:  25\n"
     ]
    },
    {
     "data": {
      "application/vnd.jupyter.widget-view+json": {
       "model_id": "d8543188fdce4d369f3bbb4eee056653",
       "version_major": 2,
       "version_minor": 0
      },
      "text/plain": [
       "Training:   0%|          | 0/181 [00:00<?, ?it/s]"
      ]
     },
     "metadata": {},
     "output_type": "display_data"
    },
    {
     "data": {
      "application/vnd.jupyter.widget-view+json": {
       "model_id": "e5440df649c14679b61a32961aae0740",
       "version_major": 2,
       "version_minor": 0
      },
      "text/plain": [
       "Validation:   0%|          | 0/61 [00:00<?, ?it/s]"
      ]
     },
     "metadata": {},
     "output_type": "display_data"
    },
    {
     "name": "stdout",
     "output_type": "stream",
     "text": [
      "181/181 train loss: 1.56717115673571 \n",
      "61/61 val loss: 2.063223973649447 \n",
      "Epoch:  26\n"
     ]
    },
    {
     "data": {
      "application/vnd.jupyter.widget-view+json": {
       "model_id": "7754f596da914620abf4ae8bd11a94bb",
       "version_major": 2,
       "version_minor": 0
      },
      "text/plain": [
       "Training:   0%|          | 0/181 [00:00<?, ?it/s]"
      ]
     },
     "metadata": {},
     "output_type": "display_data"
    },
    {
     "data": {
      "application/vnd.jupyter.widget-view+json": {
       "model_id": "7ff9d78a3d674d8fb9512b5fb637f80f",
       "version_major": 2,
       "version_minor": 0
      },
      "text/plain": [
       "Validation:   0%|          | 0/61 [00:00<?, ?it/s]"
      ]
     },
     "metadata": {},
     "output_type": "display_data"
    },
    {
     "name": "stdout",
     "output_type": "stream",
     "text": [
      "181/181 train loss: 1.5666365280994394 \n",
      "61/61 val loss: 2.078060220499508 \n",
      "Epoch:  27\n"
     ]
    },
    {
     "data": {
      "application/vnd.jupyter.widget-view+json": {
       "model_id": "5be5cab9012347abb648a8a298e6fdea",
       "version_major": 2,
       "version_minor": 0
      },
      "text/plain": [
       "Training:   0%|          | 0/181 [00:00<?, ?it/s]"
      ]
     },
     "metadata": {},
     "output_type": "display_data"
    },
    {
     "data": {
      "application/vnd.jupyter.widget-view+json": {
       "model_id": "f011915220614f33afe08e14b0f7542e",
       "version_major": 2,
       "version_minor": 0
      },
      "text/plain": [
       "Validation:   0%|          | 0/61 [00:00<?, ?it/s]"
      ]
     },
     "metadata": {},
     "output_type": "display_data"
    },
    {
     "name": "stdout",
     "output_type": "stream",
     "text": [
      "181/181 train loss: 1.5764993165738017 \n",
      "61/61 val loss: 2.086614983980773 \n",
      "Epoch:  28\n"
     ]
    },
    {
     "data": {
      "application/vnd.jupyter.widget-view+json": {
       "model_id": "1f134d7aa2ac40cfbe95778c9b38f57d",
       "version_major": 2,
       "version_minor": 0
      },
      "text/plain": [
       "Training:   0%|          | 0/181 [00:00<?, ?it/s]"
      ]
     },
     "metadata": {},
     "output_type": "display_data"
    },
    {
     "data": {
      "application/vnd.jupyter.widget-view+json": {
       "model_id": "0cc28f7819404d3fb5132571831b1623",
       "version_major": 2,
       "version_minor": 0
      },
      "text/plain": [
       "Validation:   0%|          | 0/61 [00:00<?, ?it/s]"
      ]
     },
     "metadata": {},
     "output_type": "display_data"
    },
    {
     "name": "stdout",
     "output_type": "stream",
     "text": [
      "181/181 train loss: 1.579246698163491 \n",
      "61/61 val loss: 2.075727693370131 \n",
      "Epoch:  29\n"
     ]
    },
    {
     "data": {
      "application/vnd.jupyter.widget-view+json": {
       "model_id": "fd40dea22345422497bc67a355a81b7c",
       "version_major": 2,
       "version_minor": 0
      },
      "text/plain": [
       "Training:   0%|          | 0/181 [00:00<?, ?it/s]"
      ]
     },
     "metadata": {},
     "output_type": "display_data"
    },
    {
     "data": {
      "application/vnd.jupyter.widget-view+json": {
       "model_id": "aebe09693a6a4d1493ceca58eed8df36",
       "version_major": 2,
       "version_minor": 0
      },
      "text/plain": [
       "Validation:   0%|          | 0/61 [00:00<?, ?it/s]"
      ]
     },
     "metadata": {},
     "output_type": "display_data"
    },
    {
     "name": "stdout",
     "output_type": "stream",
     "text": [
      "181/181 train loss: 1.583684061113642 \n",
      "61/61 val loss: 2.0964239288548954 \n",
      "Epoch:  30\n"
     ]
    },
    {
     "data": {
      "application/vnd.jupyter.widget-view+json": {
       "model_id": "d637340e853e464c8ea2a5c3d7b1ff21",
       "version_major": 2,
       "version_minor": 0
      },
      "text/plain": [
       "Training:   0%|          | 0/181 [00:00<?, ?it/s]"
      ]
     },
     "metadata": {},
     "output_type": "display_data"
    },
    {
     "data": {
      "application/vnd.jupyter.widget-view+json": {
       "model_id": "28f97383826243deb903b1fdd3df0536",
       "version_major": 2,
       "version_minor": 0
      },
      "text/plain": [
       "Validation:   0%|          | 0/61 [00:00<?, ?it/s]"
      ]
     },
     "metadata": {},
     "output_type": "display_data"
    },
    {
     "name": "stdout",
     "output_type": "stream",
     "text": [
      "181/181 train loss: 1.577874292326237 \n",
      "61/61 val loss: 2.0894267519966503 \n"
     ]
    }
   ],
   "source": [
    "from torch.nn.utils import clip_grad_norm_\n",
    "import math\n",
    "\n",
    "train_loss_per_epoch = []\n",
    "val_loss_per_epoch = []\n",
    "best_val_loss = float('inf')\n",
    "\n",
    "train_accuracy_list = []\n",
    "valid_accuracy_list = []\n",
    "\n",
    "# # Load saved model state dict\n",
    "# checkpoint = torch.load(r'distilbert_finetuned_c50_tfidf\\distilbert_finetuned_tfidf_cluster_35.pt')\n",
    "# #1e-6 -> 1e-5\n",
    "# model.load_state_dict(checkpoint['model_state_dict'])\n",
    "\n",
    "# # Load saved optimizer state dict if available\n",
    "# if 'optimizer_state_dict' in checkpoint:\n",
    "#     optimizer.load_state_dict(checkpoint['optimizer_state_dict'])\n",
    "\n",
    "\n",
    "for epoch_num in range(EPOCHS):\n",
    "    print('Epoch: ', epoch_num + 1)\n",
    "    '''\n",
    "    Training\n",
    "    '''\n",
    "    model.train()\n",
    "    train_loss = 0\n",
    "    train_pred = []\n",
    "    train_label = []\n",
    "    for step_num, batch_data in enumerate(tqdm(train_dataloader,desc='Training')):\n",
    "        input_ids, att_mask, labels = [data.to(device) for data in batch_data]\n",
    "        # input_embeds=model.get_input_embeddings().weight[input_ids].clone()\n",
    "\n",
    "        output = model(input_ids = input_ids, attention_mask=att_mask, labels=labels)\n",
    "        # inputs_embeds = new_model.embeddings(input_ids=input_ids, attention_mask=att_mask)\n",
    "        # output = model(attention_mask=att_mask, inputs_embeds=input_embeds, labels= labels)\n",
    "        loss = output.loss\n",
    "        train_loss += loss.item()\n",
    "        \n",
    "        train_pred.append(np.argmax(output.logits.detach().cpu().numpy(),axis=-1))\n",
    "        train_label.append(labels.detach().cpu().numpy())\n",
    "        model.zero_grad()\n",
    "        loss.backward()\n",
    "        del loss\n",
    "\n",
    "        clip_grad_norm_(parameters=model.parameters(), max_norm=1.0)\n",
    "        optimizer.step()\n",
    "        scheduler.step()\n",
    "\n",
    "    train_loss_per_epoch.append(train_loss / (step_num + 1))              \n",
    "    train_pred = np.concatenate(train_pred)\n",
    "    train_label = np.concatenate(train_label)\n",
    "    train_accuracy_per_epoch = (train_pred == train_label).mean()\n",
    "    train_accuracy_list.append(train_accuracy_per_epoch)\n",
    "    '''\n",
    "    Validation\n",
    "    '''\n",
    "    model.eval()\n",
    "    valid_loss = 0\n",
    "    valid_pred = []\n",
    "    valid_label = []\n",
    "    with torch.no_grad():\n",
    "        for step_num_e, batch_data in enumerate(tqdm(valid_dataloader,desc='Validation')):\n",
    "            input_ids, att_mask, labels = [data.to(device) for data in batch_data]\n",
    "            # input_embeds=model.get_input_embeddings().weight[input_ids].clone()\n",
    "            output = model(input_ids = input_ids, attention_mask=att_mask, labels= labels)\n",
    "            # output = model(attention_mask=att_mask, inputs_embeds=input_embeds, labels= labels)\n",
    "            loss = output.loss\n",
    "            valid_loss += loss.item()\n",
    "   \n",
    "            valid_pred.append(np.argmax(output.logits.detach().cpu().numpy(),axis=-1))\n",
    "            valid_label.append(labels.detach().cpu().numpy())\n",
    "        \n",
    "    val_loss_per_epoch.append(valid_loss / (step_num_e + 1))\n",
    "    valid_pred = np.concatenate(valid_pred)\n",
    "    valid_label = np.concatenate(valid_label)\n",
    "    valid_accuracy_per_epoch = (valid_pred == valid_label).mean()\n",
    "    valid_accuracy_list.append(valid_accuracy_per_epoch)\n",
    "\n",
    "    #Early Stopping\n",
    "    if (valid_loss / (step_num_e + 1)) < best_val_loss:\n",
    "        # torch.save(model.state_dict(), f'best_model_epoch{epoch_num+1}.pt')\n",
    "        best_val_loss = valid_loss\n",
    "    else:\n",
    "        break\n",
    "\n",
    "    # save model checkpoint every 5th epoch\n",
    "    if (epoch_num + 1) % 5 == 0:\n",
    "        checkpoint = {\n",
    "            'epoch': epoch_num + 1,\n",
    "            'model_state_dict': model.state_dict(),\n",
    "            'optimizer_state_dict': optimizer.state_dict(),\n",
    "            'train_loss': train_loss,\n",
    "            'val_loss': valid_loss,\n",
    "            'val_accuracy': valid_pred,\n",
    "        }\n",
    "        # torch.save(checkpoint, fr'distilbert_finetuned_c50_tfidf\\distilbert_finetuned_tfidf_{epoch_num+1}.pt')\n",
    "\n",
    "    '''\n",
    "    Loss message\n",
    "    '''\n",
    "    \n",
    "    print(\"{0}/{1} train loss: {2} \".format(step_num+1, math.ceil(len(train_y) / BATCH_SIZE), train_loss / (step_num + 1)))\n",
    "    print(\"{0}/{1} val loss: {2} \".format(step_num_e+1, math.ceil(len(valid_y) / BATCH_SIZE), valid_loss / (step_num_e + 1)))\n",
    "    # print(f\"{step_num+1}/{math.ceil(len(train_dataloader))} train loss: {train_loss}\".format(step_num+1, math.ceil(len(train_dataloader)) / BATCH_SIZE), train_loss / (step_num + 1))\n",
    "    # print(f\"{step_num_e+1}/{math.ceil(len(valid_dataloader))} val loss: {valid_loss} \")#.format(step_num_e+1, math.ceil(len(valid_dataloader)) / BATCH_SIZE), valid_loss / (step_num_e + 1))"
   ]
  },
  {
   "cell_type": "code",
   "execution_count": 64,
   "metadata": {},
   "outputs": [],
   "source": [
    "#try 25 epochs, 1e-4, rmsprop, dropout=.1,wd=0.015       "
   ]
  },
  {
   "cell_type": "code",
   "execution_count": 65,
   "metadata": {},
   "outputs": [
    {
     "data": {
      "text/plain": [
       "[2.4508332066773053,\n",
       " 2.190157643339252,\n",
       " 2.0306975340974924,\n",
       " 1.9692661077278095,\n",
       " 1.877166505017992,\n",
       " 1.813203927561723,\n",
       " 1.7528274421533827,\n",
       " 1.6793666248163466,\n",
       " 1.6296735475076496,\n",
       " 1.6035139692422435,\n",
       " 1.575851419354012,\n",
       " 1.5244150583256675,\n",
       " 1.4975775730544032,\n",
       " 1.4871869930246258,\n",
       " 1.474941920838962,\n",
       " 1.4702209346202197,\n",
       " 1.468529622199127,\n",
       " 1.4915396034388253,\n",
       " 1.4948547228923819,\n",
       " 1.513652730383267,\n",
       " 1.509503857865518,\n",
       " 1.5283206931793887,\n",
       " 1.5362650544603884,\n",
       " 1.5453177953951924,\n",
       " 1.56717115673571,\n",
       " 1.5666365280994394,\n",
       " 1.5764993165738017,\n",
       " 1.579246698163491,\n",
       " 1.583684061113642,\n",
       " 1.577874292326237]"
      ]
     },
     "execution_count": 65,
     "metadata": {},
     "output_type": "execute_result"
    }
   ],
   "source": [
    "train_loss_per_epoch#, val_loss_per_epoch"
   ]
  },
  {
   "cell_type": "code",
   "execution_count": 66,
   "metadata": {},
   "outputs": [
    {
     "data": {
      "image/png": "[encoded data removed]",
      "text/plain": [
       "<Figure size 640x480 with 1 Axes>"
      ]
     },
     "metadata": {},
     "output_type": "display_data"
    }
   ],
   "source": [
    "epochs = range(EPOCHS)\n",
    "fig, ax = plt.subplots()\n",
    "ax.plot(epochs,train_loss_per_epoch,label ='training loss')\n",
    "ax.plot(epochs, val_loss_per_epoch, label = 'validation loss' )\n",
    "ax.set_title('Training and Validation loss')\n",
    "ax.set_xlabel('Epochs')\n",
    "ax.set_ylabel('Loss')\n",
    "ax.legend()\n",
    "plt.show()"
   ]
  },
  {
   "cell_type": "code",
   "execution_count": 67,
   "metadata": {},
   "outputs": [
    {
     "data": {
      "image/png": "[encoded data removed]",
      "text/plain": [
       "<Figure size 640x480 with 1 Axes>"
      ]
     },
     "metadata": {},
     "output_type": "display_data"
    }
   ],
   "source": [
    "epochs = range(EPOCHS)\n",
    "fig, ax = plt.subplots()\n",
    "ax.plot(epochs,train_accuracy_list,label ='training accuracy')\n",
    "ax.plot(epochs, valid_accuracy_list, label = 'validation accuracy' )\n",
    "ax.set_title('Training and Validation Accuracy')\n",
    "ax.set_xlabel('Epochs')\n",
    "ax.set_ylabel('Accuracy')\n",
    "ax.legend()\n",
    "plt.show()"
   ]
  },
  {
   "attachments": {},
   "cell_type": "markdown",
   "metadata": {},
   "source": [
    "# Performance Metrics"
   ]
  },
  {
   "cell_type": "code",
   "execution_count": 68,
   "metadata": {},
   "outputs": [],
   "source": [
    "v_pred_list =valid_pred.tolist()\n",
    "# labels\n",
    "type(v_pred_list)\n",
    "# type(y_val)\n",
    "# type(train_data['encoded_Author'].unique().tolist())\n",
    "\n",
    "# target_names = [str(name) for name in train_data['encoded_Author'].unique().tolist()]\n",
    "target_names = [str(name) for name in new_df['encoded_Author'].unique().tolist()]\n",
    "\n",
    "# target_names"
   ]
  },
  {
   "cell_type": "code",
   "execution_count": 69,
   "metadata": {},
   "outputs": [
    {
     "name": "stdout",
     "output_type": "stream",
     "text": [
      "classifiation report\n",
      "              precision    recall  f1-score   support\n",
      "\n",
      "           0       0.00      0.00      0.00        60\n",
      "           1       0.28      0.28      0.28        60\n",
      "           2       0.26      0.62      0.36        60\n",
      "           3       0.40      0.33      0.36        60\n",
      "           4       0.18      0.07      0.10        60\n",
      "           5       0.43      0.38      0.41        60\n",
      "           6       0.68      0.53      0.60        60\n",
      "           7       0.42      0.47      0.44        60\n",
      "           8       0.00      0.00      0.00        61\n",
      "           9       0.42      0.31      0.36        61\n",
      "          10       0.75      0.65      0.70        60\n",
      "          11       0.17      0.13      0.15        60\n",
      "          12       0.39      0.57      0.46        60\n",
      "          13       0.38      0.44      0.41        61\n",
      "          14       0.50      0.37      0.42        60\n",
      "          15       0.47      0.45      0.46        60\n",
      "          16       0.52      0.46      0.49        61\n",
      "          17       0.30      0.27      0.28        60\n",
      "          18       0.59      0.57      0.58        61\n",
      "          19       0.45      0.80      0.57        60\n",
      "          20       0.81      0.97      0.88        60\n",
      "          21       0.14      0.23      0.17        60\n",
      "          22       0.20      0.68      0.32        60\n",
      "          23       0.00      0.00      0.00        60\n",
      "          24       0.00      0.00      0.00        60\n",
      "\n",
      "    accuracy                           0.38      1505\n",
      "   macro avg       0.35      0.38      0.35      1505\n",
      "weighted avg       0.35      0.38      0.35      1505\n",
      "\n"
     ]
    }
   ],
   "source": [
    "from sklearn.metrics import classification_report\n",
    "print('classifiation report')\n",
    "print(classification_report(y_val, v_pred_list,  target_names=target_names))\n",
    "# A high precision score indicates that the model is good at avoiding false positives.\n",
    "#A high recall score indicates that the model is good at avoiding false negatives.\n",
    "# A high F1 score indicates that the model has good precision and recall."
   ]
  },
  {
   "attachments": {},
   "cell_type": "markdown",
   "metadata": {},
   "source": [
    "## Error Analysis"
   ]
  },
  {
   "cell_type": "code",
   "execution_count": 83,
   "metadata": {},
   "outputs": [],
   "source": [
    "from sklearn.metrics import ConfusionMatrixDisplay, confusion_matrix\n",
    "def plot_confusion_matrix(y_preds, y_true, labels=None):\n",
    "  cm = confusion_matrix(y_true, y_preds, normalize=\"true\")\n",
    "  fig, ax = plt.subplots(figsize=(20, 20))\n",
    "  disp = ConfusionMatrixDisplay(confusion_matrix=cm, display_labels=labels) \n",
    "  disp.plot(cmap=\"Blues\", values_format=\".2f\", ax=ax, colorbar=False) \n",
    "  plt.title(\"Normalized confusion matrix\")\n",
    "  plt.show()"
   ]
  },
  {
   "cell_type": "code",
   "execution_count": 84,
   "metadata": {},
   "outputs": [
    {
     "data": {
      "image/png": "[encoded data removed]",
      "text/plain": [
       "<Figure size 2000x2000 with 1 Axes>"
      ]
     },
     "metadata": {},
     "output_type": "display_data"
    }
   ],
   "source": [
    "plot_confusion_matrix(v_pred_list,y_val,labels=target_names)\n"
   ]
  },
  {
   "attachments": {},
   "cell_type": "markdown",
   "metadata": {},
   "source": [
    "# Prediction"
   ]
  },
  {
   "cell_type": "code",
   "execution_count": 85,
   "metadata": {},
   "outputs": [
    {
     "data": {
      "application/vnd.jupyter.widget-view+json": {
       "model_id": "2c6ab88cedd444fd9f72f6ab931ae8f8",
       "version_major": 2,
       "version_minor": 0
      },
      "text/plain": [
       "0it [00:00, ?it/s]"
      ]
     },
     "metadata": {},
     "output_type": "display_data"
    }
   ],
   "source": [
    "# def predict():\n",
    "model.eval()\n",
    "model.to(device)\n",
    "test_pred = []\n",
    "test_loss= 0\n",
    "with torch.no_grad():\n",
    "    for step_num, batch_data in tqdm(enumerate(test_dataloader)):\n",
    "        input_ids, att_mask, labels = [data.to(device) for data in batch_data]\n",
    "        # input_embeds=model.get_input_embeddings().weight[input_ids.to('cuda')].clone().to('cuda')\n",
    "        # print(input_embeds.shape)\n",
    "        # print(len(input_ids[0]))\n",
    "        # print(labels)\n",
    "        output = model(input_ids=input_ids.to(device), attention_mask=att_mask.to(device), labels= labels.to(device))\n",
    "        # output = model(attention_mask=att_mask.to('cuda'), inputs_embeds=input_embeds, labels= labels.to('cuda'))\n",
    "        # print(output.logits.shape) torch.size([24,50])\n",
    "        logits = torch.nn.functional.softmax(output.logits, dim=1)\n",
    "        # print(len(logits.cpu().detach().numpy()[0]))\n",
    "        loss = output.loss\n",
    "        test_loss += loss.item()\n",
    "\n",
    "        test_pred.append(np.argmax(output.logits.cpu().detach().numpy(),axis=-1))\n",
    "test_pred = np.concatenate(test_pred)"
   ]
  },
  {
   "cell_type": "code",
   "execution_count": 86,
   "metadata": {},
   "outputs": [
    {
     "data": {
      "text/plain": [
       "1000"
      ]
     },
     "execution_count": 86,
     "metadata": {},
     "output_type": "execute_result"
    }
   ],
   "source": [
    "len(test_pred)"
   ]
  },
  {
   "cell_type": "code",
   "execution_count": 87,
   "metadata": {},
   "outputs": [],
   "source": [
    "# test_labels = pd.DataFrame(data=(y_test) ,columns=['encoded-author', 'Text'])\n",
    "classifications = pd.DataFrame({'Text': X_test, 'encoded-cluster': y_test})"
   ]
  },
  {
   "cell_type": "code",
   "execution_count": 89,
   "metadata": {},
   "outputs": [
    {
     "name": "stdout",
     "output_type": "stream",
     "text": [
      "(805, 3)\n"
     ]
    }
   ],
   "source": [
    "classifications['pred'] = test_pred\n",
    "# classifications.reset_index(level=0)\n",
    "\n",
    "print(classifications[classifications['encoded-cluster']==classifications['pred']].shape)\n",
    "classifications[classifications['encoded-cluster']==classifications['pred']][['Text', 'encoded-cluster','pred']].head(10)\n",
    "classifications.reset_index(drop=True, level=0)\n",
    "\n",
    "classifications.to_csv(r'distilbert_finetuned_c50_tfidf\\finetuned_distilbert_c50_tfidf_pt25_testClassifications.csv')"
   ]
  },
  {
   "cell_type": "code",
   "execution_count": 138,
   "metadata": {},
   "outputs": [
    {
     "name": "stderr",
     "output_type": "stream",
     "text": [
      "Some weights of the model checkpoint at distilbert-base-uncased were not used when initializing DistilBertForSequenceClassification: ['vocab_transform.bias', 'vocab_layer_norm.weight', 'vocab_projector.bias', 'vocab_projector.weight', 'vocab_layer_norm.bias', 'vocab_transform.weight']\n",
      "- This IS expected if you are initializing DistilBertForSequenceClassification from the checkpoint of a model trained on another task or with another architecture (e.g. initializing a BertForSequenceClassification model from a BertForPreTraining model).\n",
      "- This IS NOT expected if you are initializing DistilBertForSequenceClassification from the checkpoint of a model that you expect to be exactly identical (initializing a BertForSequenceClassification model from a BertForSequenceClassification model).\n",
      "Some weights of DistilBertForSequenceClassification were not initialized from the model checkpoint at distilbert-base-uncased and are newly initialized: ['classifier.bias', 'pre_classifier.bias', 'classifier.weight', 'pre_classifier.weight']\n",
      "You should probably TRAIN this model on a down-stream task to be able to use it for predictions and inference.\n"
     ]
    },
    {
     "data": {
      "text/plain": [
       "<All keys matched successfully>"
      ]
     },
     "execution_count": 138,
     "metadata": {},
     "output_type": "execute_result"
    }
   ],
   "source": [
    "# load the saved model\n",
    "saved_model_path = r\"distilbert_finetuned_c50\\distilbert_finetuned_c50_30.pt\"\n",
    "saved_model = torch.load(saved_model_path, map_location=torch.device('cpu'))[\"model_state_dict\"]\n",
    "\n",
    "# get the shape of the current model's classifier layer\n",
    "current_model = DistilBertForSequenceClassification.from_pretrained(\"distilbert-base-uncased\", num_labels=N_labels)\n",
    "current_weight_shape = current_model.classifier.weight.shape\n",
    "current_bias_shape = current_model.classifier.bias.shape\n",
    "\n",
    "# modify the saved model's classifier layer\n",
    "saved_model[\"classifier.weight\"] = saved_model[\"classifier.weight\"][:current_weight_shape[0], :]\n",
    "saved_model[\"classifier.bias\"] = saved_model[\"classifier.bias\"][:current_bias_shape[0]]\n",
    "\n",
    "# load the modified saved model into the current model\n",
    "current_model.to(device)\n",
    "current_model.load_state_dict(saved_model)"
   ]
  },
  {
   "cell_type": "code",
   "execution_count": 34,
   "metadata": {},
   "outputs": [],
   "source": [
    "# def predict(input_ids, att_masks, labels):\n",
    "#     print(\"labels\")\n",
    "#     print(labels.shape)\n",
    "#     input_ids = input_ids.long()\n",
    "#     print(input_ids.shape)\n",
    "#     # att_masks = torch.LongTensor(att_masks)\n",
    "#     input_embeds=model.get_input_embeddings().weight[input_ids.to('cuda')].clone().to('cuda')\n",
    "#     print(f\"Embeds: {input_embeds.shape}\")\n",
    "#     _, outputs = model(attention_mask=att_masks.to('cuda'), inputs_embeds=input_embeds, labels= labels.to('cuda'))\n",
    "#     print(f\"Outputs: {outputs.shape}\")\n",
    "#     return outputs\n"
   ]
  },
  {
   "cell_type": "code",
   "execution_count": 35,
   "metadata": {},
   "outputs": [],
   "source": [
    "# input_ids = torch.tensor([1, 2, 3])\n",
    "# attention_mask = torch.tensor([1, 1, 1])\n",
    "# input_ids_batch = input_ids.unsqueeze(0)\n",
    "# attention_mask_batch = attention_mask.unsqueeze(0)\n",
    "# output = model(input_ids=input_ids_batch.to(device), attention_mask=attention_mask_batch.to(device))\n",
    "# print(input_ids, input_ids_batch, attention_mask, attention_mask_batch)"
   ]
  },
  {
   "cell_type": "code",
   "execution_count": 102,
   "metadata": {},
   "outputs": [],
   "source": [
    "from transformers_interpret import SequenceClassificationExplainer\n",
    "cls_explainer = SequenceClassificationExplainer(current_model, tokenizer, custom_labels=set(y_train))\n",
    "word_attributions = cls_explainer(str(test_data['Text'][5]))"
   ]
  },
  {
   "cell_type": "code",
   "execution_count": 103,
   "metadata": {},
   "outputs": [
    {
     "name": "stdout",
     "output_type": "stream",
     "text": [
      "Predicted: 32, Actual: candidate00033\n",
      "Text: ivorian port cocoa stocks stand at up to 175000 tonnes as arrivals trickle in at about 1000 tonnes a week but april and brisk may exports will reduce levels port sources said on friday\n"
     ]
    }
   ],
   "source": [
    "print(f\"Predicted: {cls_explainer.predicted_class_name}, Actual: {test_data['true-author'][5]}\")\n",
    "#predicted starts at 0 so +1\n",
    "print(f\"Text: {test_data['Text'][5]}\")"
   ]
  },
  {
   "cell_type": "code",
   "execution_count": 125,
   "metadata": {},
   "outputs": [
    {
     "data": {
      "text/plain": [
       "[('ivo', 0.8503354796544661),\n",
       " ('##rian', 0.27873767915291053),\n",
       " ('port', -0.1188654885620636),\n",
       " ('cocoa', 0.3577461942507276),\n",
       " ('stocks', -0.09733293642750997),\n",
       " ('stand', -0.005759152771333129),\n",
       " ('at', -0.023178398349287786),\n",
       " ('up', -0.0492674625646151),\n",
       " ('to', 0.025184510543408374),\n",
       " ('1750', 0.03705272593285223),\n",
       " ('##00', 0.004325785875165788),\n",
       " ('tonnes', -0.0002998147717837385),\n",
       " ('as', 0.029644092362511757),\n",
       " ('arrivals', 0.03625936121094405),\n",
       " ('trickle', 0.04185875424283798),\n",
       " ('in', 0.01474569341115285),\n",
       " ('at', -0.037048514780748956),\n",
       " ('about', 0.03107033901112954),\n",
       " ('1000', 0.02438723194739538),\n",
       " ('tonnes', 0.0005257882330592027),\n",
       " ('a', 0.07710836771223854),\n",
       " ('week', 0.010488442709093613),\n",
       " ('but', 0.06694184986379269),\n",
       " ('april', 0.042312689780717665),\n",
       " ('and', 0.04585529411066016),\n",
       " ('brisk', -0.03630864300386607),\n",
       " ('may', 0.013412070857560033),\n",
       " ('exports', 0.06709764586735607),\n",
       " ('will', -0.02746489142177126),\n",
       " ('reduce', -0.0001615170129885031),\n",
       " ('levels', -0.04273120113805885),\n",
       " ('port', -0.025064797580641243),\n",
       " ('sources', 0.03821168003782579),\n",
       " ('said', 0.08947598060870114),\n",
       " ('on', 0.04517124613217637),\n",
       " ('friday', 0.019614925547161752),\n",
       " ('[SEP]', 0.0)]"
      ]
     },
     "execution_count": 125,
     "metadata": {},
     "output_type": "execute_result"
    }
   ],
   "source": [
    "word_attributions\n",
    "# 0.8503354796544661+0.27873767915291053\n",
    "# a = ('a', 0.8249223962053632)\n",
    "# b = ('b', 0.42957157340859525)\n",
    "# c = [list(a), list(b)]\n",
    "# c[-1][1] += 0.6\n",
    "# c\n"
   ]
  },
  {
   "cell_type": "code",
   "execution_count": 105,
   "metadata": {},
   "outputs": [
    {
     "data": {
      "text/html": [
       "<table width: 100%><div style=\"border-top: 1px solid; margin-top: 5px;             padding-top: 5px; display: inline-block\"><b>Legend: </b><span style=\"display: inline-block; width: 10px; height: 10px;                 border: 1px solid; background-color:                 hsl(0, 75%, 60%)\"></span> Negative  <span style=\"display: inline-block; width: 10px; height: 10px;                 border: 1px solid; background-color:                 hsl(0, 75%, 100%)\"></span> Neutral  <span style=\"display: inline-block; width: 10px; height: 10px;                 border: 1px solid; background-color:                 hsl(120, 75%, 50%)\"></span> Positive  </div><tr><th>True Label</th><th>Predicted Label</th><th>Attribution Label</th><th>Attribution Score</th><th>Word Importance</th><tr><td><text style=\"padding-right:2em\"><b>32</b></text></td><td><text style=\"padding-right:2em\"><b>32 (0.98)</b></text></td><td><text style=\"padding-right:2em\"><b>32</b></text></td><td><text style=\"padding-right:2em\"><b>1.78</b></text></td><td><mark style=\"background-color: hsl(0, 75%, 100%); opacity:1.0;                     line-height:1.75\"><font color=\"black\"> [CLS]                    </font></mark><mark style=\"background-color: hsl(120, 75%, 58%); opacity:1.0;                     line-height:1.75\"><font color=\"black\"> ivo                    </font></mark><mark style=\"background-color: hsl(120, 75%, 87%); opacity:1.0;                     line-height:1.75\"><font color=\"black\"> ##rian                    </font></mark><mark style=\"background-color: hsl(0, 75%, 96%); opacity:1.0;                     line-height:1.75\"><font color=\"black\"> port                    </font></mark><mark style=\"background-color: hsl(120, 75%, 83%); opacity:1.0;                     line-height:1.75\"><font color=\"black\"> cocoa                    </font></mark><mark style=\"background-color: hsl(0, 75%, 97%); opacity:1.0;                     line-height:1.75\"><font color=\"black\"> stocks                    </font></mark><mark style=\"background-color: hsl(0, 75%, 100%); opacity:1.0;                     line-height:1.75\"><font color=\"black\"> stand                    </font></mark><mark style=\"background-color: hsl(0, 75%, 100%); opacity:1.0;                     line-height:1.75\"><font color=\"black\"> at                    </font></mark><mark style=\"background-color: hsl(0, 75%, 99%); opacity:1.0;                     line-height:1.75\"><font color=\"black\"> up                    </font></mark><mark style=\"background-color: hsl(120, 75%, 99%); opacity:1.0;                     line-height:1.75\"><font color=\"black\"> to                    </font></mark><mark style=\"background-color: hsl(120, 75%, 99%); opacity:1.0;                     line-height:1.75\"><font color=\"black\"> 1750                    </font></mark><mark style=\"background-color: hsl(120, 75%, 100%); opacity:1.0;                     line-height:1.75\"><font color=\"black\"> ##00                    </font></mark><mark style=\"background-color: hsl(0, 75%, 100%); opacity:1.0;                     line-height:1.75\"><font color=\"black\"> tonnes                    </font></mark><mark style=\"background-color: hsl(120, 75%, 99%); opacity:1.0;                     line-height:1.75\"><font color=\"black\"> as                    </font></mark><mark style=\"background-color: hsl(120, 75%, 99%); opacity:1.0;                     line-height:1.75\"><font color=\"black\"> arrivals                    </font></mark><mark style=\"background-color: hsl(120, 75%, 98%); opacity:1.0;                     line-height:1.75\"><font color=\"black\"> trickle                    </font></mark><mark style=\"background-color: hsl(120, 75%, 100%); opacity:1.0;                     line-height:1.75\"><font color=\"black\"> in                    </font></mark><mark style=\"background-color: hsl(0, 75%, 99%); opacity:1.0;                     line-height:1.75\"><font color=\"black\"> at                    </font></mark><mark style=\"background-color: hsl(120, 75%, 99%); opacity:1.0;                     line-height:1.75\"><font color=\"black\"> about                    </font></mark><mark style=\"background-color: hsl(120, 75%, 99%); opacity:1.0;                     line-height:1.75\"><font color=\"black\"> 1000                    </font></mark><mark style=\"background-color: hsl(120, 75%, 100%); opacity:1.0;                     line-height:1.75\"><font color=\"black\"> tonnes                    </font></mark><mark style=\"background-color: hsl(120, 75%, 97%); opacity:1.0;                     line-height:1.75\"><font color=\"black\"> a                    </font></mark><mark style=\"background-color: hsl(120, 75%, 100%); opacity:1.0;                     line-height:1.75\"><font color=\"black\"> week                    </font></mark><mark style=\"background-color: hsl(120, 75%, 97%); opacity:1.0;                     line-height:1.75\"><font color=\"black\"> but                    </font></mark><mark style=\"background-color: hsl(120, 75%, 98%); opacity:1.0;                     line-height:1.75\"><font color=\"black\"> april                    </font></mark><mark style=\"background-color: hsl(120, 75%, 98%); opacity:1.0;                     line-height:1.75\"><font color=\"black\"> and                    </font></mark><mark style=\"background-color: hsl(0, 75%, 99%); opacity:1.0;                     line-height:1.75\"><font color=\"black\"> brisk                    </font></mark><mark style=\"background-color: hsl(120, 75%, 100%); opacity:1.0;                     line-height:1.75\"><font color=\"black\"> may                    </font></mark><mark style=\"background-color: hsl(120, 75%, 97%); opacity:1.0;                     line-height:1.75\"><font color=\"black\"> exports                    </font></mark><mark style=\"background-color: hsl(0, 75%, 99%); opacity:1.0;                     line-height:1.75\"><font color=\"black\"> will                    </font></mark><mark style=\"background-color: hsl(0, 75%, 100%); opacity:1.0;                     line-height:1.75\"><font color=\"black\"> reduce                    </font></mark><mark style=\"background-color: hsl(0, 75%, 99%); opacity:1.0;                     line-height:1.75\"><font color=\"black\"> levels                    </font></mark><mark style=\"background-color: hsl(0, 75%, 99%); opacity:1.0;                     line-height:1.75\"><font color=\"black\"> port                    </font></mark><mark style=\"background-color: hsl(120, 75%, 99%); opacity:1.0;                     line-height:1.75\"><font color=\"black\"> sources                    </font></mark><mark style=\"background-color: hsl(120, 75%, 96%); opacity:1.0;                     line-height:1.75\"><font color=\"black\"> said                    </font></mark><mark style=\"background-color: hsl(120, 75%, 98%); opacity:1.0;                     line-height:1.75\"><font color=\"black\"> on                    </font></mark><mark style=\"background-color: hsl(120, 75%, 100%); opacity:1.0;                     line-height:1.75\"><font color=\"black\"> friday                    </font></mark><mark style=\"background-color: hsl(0, 75%, 100%); opacity:1.0;                     line-height:1.75\"><font color=\"black\"> [SEP]                    </font></mark></td><tr></table>"
      ],
      "text/plain": [
       "<IPython.core.display.HTML object>"
      ]
     },
     "metadata": {},
     "output_type": "display_data"
    },
    {
     "data": {
      "text/html": [
       "<table width: 100%><div style=\"border-top: 1px solid; margin-top: 5px;             padding-top: 5px; display: inline-block\"><b>Legend: </b><span style=\"display: inline-block; width: 10px; height: 10px;                 border: 1px solid; background-color:                 hsl(0, 75%, 60%)\"></span> Negative  <span style=\"display: inline-block; width: 10px; height: 10px;                 border: 1px solid; background-color:                 hsl(0, 75%, 100%)\"></span> Neutral  <span style=\"display: inline-block; width: 10px; height: 10px;                 border: 1px solid; background-color:                 hsl(120, 75%, 50%)\"></span> Positive  </div><tr><th>True Label</th><th>Predicted Label</th><th>Attribution Label</th><th>Attribution Score</th><th>Word Importance</th><tr><td><text style=\"padding-right:2em\"><b>32</b></text></td><td><text style=\"padding-right:2em\"><b>32 (0.98)</b></text></td><td><text style=\"padding-right:2em\"><b>32</b></text></td><td><text style=\"padding-right:2em\"><b>1.78</b></text></td><td><mark style=\"background-color: hsl(0, 75%, 100%); opacity:1.0;                     line-height:1.75\"><font color=\"black\"> [CLS]                    </font></mark><mark style=\"background-color: hsl(120, 75%, 58%); opacity:1.0;                     line-height:1.75\"><font color=\"black\"> ivo                    </font></mark><mark style=\"background-color: hsl(120, 75%, 87%); opacity:1.0;                     line-height:1.75\"><font color=\"black\"> ##rian                    </font></mark><mark style=\"background-color: hsl(0, 75%, 96%); opacity:1.0;                     line-height:1.75\"><font color=\"black\"> port                    </font></mark><mark style=\"background-color: hsl(120, 75%, 83%); opacity:1.0;                     line-height:1.75\"><font color=\"black\"> cocoa                    </font></mark><mark style=\"background-color: hsl(0, 75%, 97%); opacity:1.0;                     line-height:1.75\"><font color=\"black\"> stocks                    </font></mark><mark style=\"background-color: hsl(0, 75%, 100%); opacity:1.0;                     line-height:1.75\"><font color=\"black\"> stand                    </font></mark><mark style=\"background-color: hsl(0, 75%, 100%); opacity:1.0;                     line-height:1.75\"><font color=\"black\"> at                    </font></mark><mark style=\"background-color: hsl(0, 75%, 99%); opacity:1.0;                     line-height:1.75\"><font color=\"black\"> up                    </font></mark><mark style=\"background-color: hsl(120, 75%, 99%); opacity:1.0;                     line-height:1.75\"><font color=\"black\"> to                    </font></mark><mark style=\"background-color: hsl(120, 75%, 99%); opacity:1.0;                     line-height:1.75\"><font color=\"black\"> 1750                    </font></mark><mark style=\"background-color: hsl(120, 75%, 100%); opacity:1.0;                     line-height:1.75\"><font color=\"black\"> ##00                    </font></mark><mark style=\"background-color: hsl(0, 75%, 100%); opacity:1.0;                     line-height:1.75\"><font color=\"black\"> tonnes                    </font></mark><mark style=\"background-color: hsl(120, 75%, 99%); opacity:1.0;                     line-height:1.75\"><font color=\"black\"> as                    </font></mark><mark style=\"background-color: hsl(120, 75%, 99%); opacity:1.0;                     line-height:1.75\"><font color=\"black\"> arrivals                    </font></mark><mark style=\"background-color: hsl(120, 75%, 98%); opacity:1.0;                     line-height:1.75\"><font color=\"black\"> trickle                    </font></mark><mark style=\"background-color: hsl(120, 75%, 100%); opacity:1.0;                     line-height:1.75\"><font color=\"black\"> in                    </font></mark><mark style=\"background-color: hsl(0, 75%, 99%); opacity:1.0;                     line-height:1.75\"><font color=\"black\"> at                    </font></mark><mark style=\"background-color: hsl(120, 75%, 99%); opacity:1.0;                     line-height:1.75\"><font color=\"black\"> about                    </font></mark><mark style=\"background-color: hsl(120, 75%, 99%); opacity:1.0;                     line-height:1.75\"><font color=\"black\"> 1000                    </font></mark><mark style=\"background-color: hsl(120, 75%, 100%); opacity:1.0;                     line-height:1.75\"><font color=\"black\"> tonnes                    </font></mark><mark style=\"background-color: hsl(120, 75%, 97%); opacity:1.0;                     line-height:1.75\"><font color=\"black\"> a                    </font></mark><mark style=\"background-color: hsl(120, 75%, 100%); opacity:1.0;                     line-height:1.75\"><font color=\"black\"> week                    </font></mark><mark style=\"background-color: hsl(120, 75%, 97%); opacity:1.0;                     line-height:1.75\"><font color=\"black\"> but                    </font></mark><mark style=\"background-color: hsl(120, 75%, 98%); opacity:1.0;                     line-height:1.75\"><font color=\"black\"> april                    </font></mark><mark style=\"background-color: hsl(120, 75%, 98%); opacity:1.0;                     line-height:1.75\"><font color=\"black\"> and                    </font></mark><mark style=\"background-color: hsl(0, 75%, 99%); opacity:1.0;                     line-height:1.75\"><font color=\"black\"> brisk                    </font></mark><mark style=\"background-color: hsl(120, 75%, 100%); opacity:1.0;                     line-height:1.75\"><font color=\"black\"> may                    </font></mark><mark style=\"background-color: hsl(120, 75%, 97%); opacity:1.0;                     line-height:1.75\"><font color=\"black\"> exports                    </font></mark><mark style=\"background-color: hsl(0, 75%, 99%); opacity:1.0;                     line-height:1.75\"><font color=\"black\"> will                    </font></mark><mark style=\"background-color: hsl(0, 75%, 100%); opacity:1.0;                     line-height:1.75\"><font color=\"black\"> reduce                    </font></mark><mark style=\"background-color: hsl(0, 75%, 99%); opacity:1.0;                     line-height:1.75\"><font color=\"black\"> levels                    </font></mark><mark style=\"background-color: hsl(0, 75%, 99%); opacity:1.0;                     line-height:1.75\"><font color=\"black\"> port                    </font></mark><mark style=\"background-color: hsl(120, 75%, 99%); opacity:1.0;                     line-height:1.75\"><font color=\"black\"> sources                    </font></mark><mark style=\"background-color: hsl(120, 75%, 96%); opacity:1.0;                     line-height:1.75\"><font color=\"black\"> said                    </font></mark><mark style=\"background-color: hsl(120, 75%, 98%); opacity:1.0;                     line-height:1.75\"><font color=\"black\"> on                    </font></mark><mark style=\"background-color: hsl(120, 75%, 100%); opacity:1.0;                     line-height:1.75\"><font color=\"black\"> friday                    </font></mark><mark style=\"background-color: hsl(0, 75%, 100%); opacity:1.0;                     line-height:1.75\"><font color=\"black\"> [SEP]                    </font></mark></td><tr></table>"
      ],
      "text/plain": [
       "<IPython.core.display.HTML object>"
      ]
     },
     "execution_count": 105,
     "metadata": {},
     "output_type": "execute_result"
    }
   ],
   "source": [
    "cls_explainer.visualize()"
   ]
  },
  {
   "cell_type": "code",
   "execution_count": 127,
   "metadata": {},
   "outputs": [],
   "source": [
    "def get_full_words(text, word_attributions):\n",
    "    # get list of tokens for the input text\n",
    "    tokens = tokenizer.tokenize(text)\n",
    "\n",
    "    # initialize list to store full words\n",
    "    full_words = []\n",
    "    full_scores = []\n",
    "    # del word_attributions[0]\n",
    "    # del word_attributions[-1]\n",
    "    print(word_attributions)\n",
    "    # iterate over word_attributions and map subwords to full words\n",
    "    for i, attrib in enumerate(word_attributions):\n",
    "        # attrib_list =list(attrib)\n",
    "        if i == len(tokens): # ignore padding tokens\n",
    "            break\n",
    "        elif tokens[i].startswith(\"##\"): # subword token\n",
    "            #remove ## and add to last word of full_words\n",
    "            full_words[-1] += tokenizer.convert_tokens_to_string([tokens[i]])[2:]\n",
    "            # full_words[-1] = (full_words[-1] + tokenizer.convert_tokens_to_string([tokens[i]])[2:], full_words[-1] + attrib[1])\n",
    "            # print(full_scores[-1], tokens[i])\n",
    "            full_scores[-1] += attrib[1]\n",
    "            # print( attrib[1])\n",
    "            # print(full_words[-1][1] + attrib[1])\n",
    "            # full_words [-1] = (full_words[-1][1] + attrib)\n",
    "        else: # whole word token\n",
    "            #add it as a separate word\n",
    "            full_words.append(tokenizer.convert_tokens_to_string([tokens[i]]))#, attrib[1]))\n",
    "            full_scores.append(attrib[1])\n",
    "            # print(full_scores[-1])\n",
    "            # print(full_words[-1])\n",
    "    # print(full_words)\n",
    "    # print(full_scores)\n",
    "    return full_words, full_scores"
   ]
  },
  {
   "cell_type": "code",
   "execution_count": 129,
   "metadata": {},
   "outputs": [
    {
     "name": "stdout",
     "output_type": "stream",
     "text": [
      "[('ivo', 0.8503354796544661), ('##rian', 0.27873767915291053), ('port', -0.1188654885620636), ('cocoa', 0.3577461942507276), ('stocks', -0.09733293642750997), ('stand', -0.005759152771333129), ('at', -0.023178398349287786), ('up', -0.0492674625646151), ('to', 0.025184510543408374), ('1750', 0.03705272593285223), ('##00', 0.004325785875165788), ('tonnes', -0.0002998147717837385), ('as', 0.029644092362511757), ('arrivals', 0.03625936121094405), ('trickle', 0.04185875424283798), ('in', 0.01474569341115285), ('at', -0.037048514780748956), ('about', 0.03107033901112954), ('1000', 0.02438723194739538), ('tonnes', 0.0005257882330592027), ('a', 0.07710836771223854), ('week', 0.010488442709093613), ('but', 0.06694184986379269), ('april', 0.042312689780717665), ('and', 0.04585529411066016), ('brisk', -0.03630864300386607), ('may', 0.013412070857560033), ('exports', 0.06709764586735607), ('will', -0.02746489142177126), ('reduce', -0.0001615170129885031), ('levels', -0.04273120113805885), ('port', -0.025064797580641243), ('sources', 0.03821168003782579), ('said', 0.08947598060870114), ('on', 0.04517124613217637), ('friday', 0.019614925547161752), ('[SEP]', 0.0)]\n"
     ]
    }
   ],
   "source": [
    "full_words, full_scores = get_full_words(test_data['Text'][5], word_attributions)\n",
    "full_word_attributions = list(zip(full_words, full_scores))\n",
    "full_word_attributions"
   ]
  },
  {
   "cell_type": "code",
   "execution_count": 40,
   "metadata": {},
   "outputs": [],
   "source": [
    "# for step_num, batch_data in tqdm(enumerate(test_dataloader)):\n",
    "#     input_ids, att_mask, labels = [data.to(device) for data in batch_data]\n",
    "import lime\n",
    "from lime.lime_text import LimeTextExplainer\n",
    "\n",
    "def predictor(text):\n",
    "    inputs = tokenizer.encode_plus(text, add_special_tokens=True, max_length=MAX_LENGTH, padding='max_length', truncation=True,return_tensors='pt')\n",
    "    input_ids = inputs['input_ids'].to(device)#test_dataset.__getitem__(3)[0]\n",
    "    input_ids_batch = input_ids#.unsqueeze(0)\n",
    "    attn_mask = inputs['attention_mask']#test_dataset.__getitem__(3)[1].unsqueeze(0)\n",
    "    attn_mask_batch = attn_mask#.unsqueeze(0)\n",
    "    labels = torch.tensor([19])#.unsqueeze(0)\n",
    "    with torch.no_grad():\n",
    "        output = current_model(input_ids=input_ids_batch.to(device), attention_mask=attn_mask_batch.to(device), labels= labels.to(device))\n",
    "        logits = output.logits\n",
    "    logits = torch.nn.functional.softmax(logits, dim=1)\n",
    "    print(type(logits.cpu().detach().numpy()))\n",
    "    return logits.cpu().detach().numpy()"
   ]
  },
  {
   "cell_type": "code",
   "execution_count": 41,
   "metadata": {},
   "outputs": [
    {
     "name": "stdout",
     "output_type": "stream",
     "text": [
      "<class 'numpy.ndarray'>\n"
     ]
    },
    {
     "data": {
      "text/plain": [
       "array([[0.00790534, 0.07066935, 0.0109354 , 0.01423673, 0.01305099,\n",
       "        0.01405072, 0.01862618, 0.013124  , 0.01383873, 0.01535242,\n",
       "        0.00943811, 0.01227968, 0.01186598, 0.16289397, 0.01587393,\n",
       "        0.01162384, 0.0191293 , 0.01430193, 0.11802951, 0.01588851,\n",
       "        0.01622673, 0.0183367 , 0.01309822, 0.01082746, 0.01088262,\n",
       "        0.01366623, 0.01044145, 0.01127238, 0.02191918, 0.01354954,\n",
       "        0.0129956 , 0.0101488 , 0.01143571, 0.01147893, 0.02193076,\n",
       "        0.0117601 , 0.01275489, 0.01587012, 0.0127771 , 0.01105829,\n",
       "        0.01477066, 0.01215464, 0.01213272, 0.01238701, 0.01188762,\n",
       "        0.01855271, 0.01357093, 0.0227754 , 0.01372744, 0.01249544]],\n",
       "      dtype=float32)"
      ]
     },
     "execution_count": 41,
     "metadata": {},
     "output_type": "execute_result"
    }
   ],
   "source": [
    "predictor(str(test_data['Text'][3]))\n",
    "# test_data['true-author'][3]\n",
    "# print(test_dataset.__getitem__(3))"
   ]
  },
  {
   "cell_type": "code",
   "execution_count": 40,
   "metadata": {},
   "outputs": [
    {
     "name": "stdout",
     "output_type": "stream",
     "text": [
      "<class 'numpy.ndarray'>\n"
     ]
    },
    {
     "ename": "ValueError",
     "evalue": "Found input variables with inconsistent numbers of samples: [5000, 1]",
     "output_type": "error",
     "traceback": [
      "\u001b[1;31m---------------------------------------------------------------------------\u001b[0m",
      "\u001b[1;31mValueError\u001b[0m                                Traceback (most recent call last)",
      "Cell \u001b[1;32mIn[40], line 4\u001b[0m\n\u001b[0;32m      2\u001b[0m explainer \u001b[39m=\u001b[39m LimeTextExplainer(class_names\u001b[39m=\u001b[39mclasses)\n\u001b[0;32m      3\u001b[0m exp_text \u001b[39m=\u001b[39m\u001b[39mstr\u001b[39m(test_data[\u001b[39m'\u001b[39m\u001b[39mText\u001b[39m\u001b[39m'\u001b[39m][\u001b[39m3\u001b[39m])\n\u001b[1;32m----> 4\u001b[0m exp \u001b[39m=\u001b[39m explainer\u001b[39m.\u001b[39;49mexplain_instance(exp_text, predictor)\u001b[39m#, labels=[4, 15])\u001b[39;00m\n\u001b[0;32m      5\u001b[0m exp\n",
      "File \u001b[1;32mc:\\Users\\sadai\\Desktop\\AuthorPrediction\\pt_lm\\lib\\site-packages\\lime\\lime_text.py:429\u001b[0m, in \u001b[0;36mLimeTextExplainer.explain_instance\u001b[1;34m(self, text_instance, classifier_fn, labels, top_labels, num_features, num_samples, distance_metric, model_regressor)\u001b[0m\n\u001b[0;32m    425\u001b[0m     ret_exp\u001b[39m.\u001b[39mtop_labels\u001b[39m.\u001b[39mreverse()\n\u001b[0;32m    426\u001b[0m \u001b[39mfor\u001b[39;00m label \u001b[39min\u001b[39;00m labels:\n\u001b[0;32m    427\u001b[0m     (ret_exp\u001b[39m.\u001b[39mintercept[label],\n\u001b[0;32m    428\u001b[0m      ret_exp\u001b[39m.\u001b[39mlocal_exp[label],\n\u001b[1;32m--> 429\u001b[0m      ret_exp\u001b[39m.\u001b[39mscore, ret_exp\u001b[39m.\u001b[39mlocal_pred) \u001b[39m=\u001b[39m \u001b[39mself\u001b[39;49m\u001b[39m.\u001b[39;49mbase\u001b[39m.\u001b[39;49mexplain_instance_with_data(\n\u001b[0;32m    430\u001b[0m         data, yss, distances, label, num_features,\n\u001b[0;32m    431\u001b[0m         model_regressor\u001b[39m=\u001b[39;49mmodel_regressor,\n\u001b[0;32m    432\u001b[0m         feature_selection\u001b[39m=\u001b[39;49m\u001b[39mself\u001b[39;49m\u001b[39m.\u001b[39;49mfeature_selection)\n\u001b[0;32m    433\u001b[0m \u001b[39mreturn\u001b[39;00m ret_exp\n",
      "File \u001b[1;32mc:\\Users\\sadai\\Desktop\\AuthorPrediction\\pt_lm\\lib\\site-packages\\lime\\lime_base.py:183\u001b[0m, in \u001b[0;36mLimeBase.explain_instance_with_data\u001b[1;34m(self, neighborhood_data, neighborhood_labels, distances, label, num_features, feature_selection, model_regressor)\u001b[0m\n\u001b[0;32m    181\u001b[0m weights \u001b[39m=\u001b[39m \u001b[39mself\u001b[39m\u001b[39m.\u001b[39mkernel_fn(distances)\n\u001b[0;32m    182\u001b[0m labels_column \u001b[39m=\u001b[39m neighborhood_labels[:, label]\n\u001b[1;32m--> 183\u001b[0m used_features \u001b[39m=\u001b[39m \u001b[39mself\u001b[39;49m\u001b[39m.\u001b[39;49mfeature_selection(neighborhood_data,\n\u001b[0;32m    184\u001b[0m                                        labels_column,\n\u001b[0;32m    185\u001b[0m                                        weights,\n\u001b[0;32m    186\u001b[0m                                        num_features,\n\u001b[0;32m    187\u001b[0m                                        feature_selection)\n\u001b[0;32m    188\u001b[0m \u001b[39mif\u001b[39;00m model_regressor \u001b[39mis\u001b[39;00m \u001b[39mNone\u001b[39;00m:\n\u001b[0;32m    189\u001b[0m     model_regressor \u001b[39m=\u001b[39m Ridge(alpha\u001b[39m=\u001b[39m\u001b[39m1\u001b[39m, fit_intercept\u001b[39m=\u001b[39m\u001b[39mTrue\u001b[39;00m,\n\u001b[0;32m    190\u001b[0m                             random_state\u001b[39m=\u001b[39m\u001b[39mself\u001b[39m\u001b[39m.\u001b[39mrandom_state)\n",
      "File \u001b[1;32mc:\\Users\\sadai\\Desktop\\AuthorPrediction\\pt_lm\\lib\\site-packages\\lime\\lime_base.py:134\u001b[0m, in \u001b[0;36mLimeBase.feature_selection\u001b[1;34m(self, data, labels, weights, num_features, method)\u001b[0m\n\u001b[0;32m    132\u001b[0m \u001b[39melse\u001b[39;00m:\n\u001b[0;32m    133\u001b[0m     n_method \u001b[39m=\u001b[39m \u001b[39m'\u001b[39m\u001b[39mhighest_weights\u001b[39m\u001b[39m'\u001b[39m\n\u001b[1;32m--> 134\u001b[0m \u001b[39mreturn\u001b[39;00m \u001b[39mself\u001b[39;49m\u001b[39m.\u001b[39;49mfeature_selection(data, labels, weights,\n\u001b[0;32m    135\u001b[0m                               num_features, n_method)\n",
      "File \u001b[1;32mc:\\Users\\sadai\\Desktop\\AuthorPrediction\\pt_lm\\lib\\site-packages\\lime\\lime_base.py:80\u001b[0m, in \u001b[0;36mLimeBase.feature_selection\u001b[1;34m(self, data, labels, weights, num_features, method)\u001b[0m\n\u001b[0;32m     77\u001b[0m \u001b[39melif\u001b[39;00m method \u001b[39m==\u001b[39m \u001b[39m'\u001b[39m\u001b[39mhighest_weights\u001b[39m\u001b[39m'\u001b[39m:\n\u001b[0;32m     78\u001b[0m     clf \u001b[39m=\u001b[39m Ridge(alpha\u001b[39m=\u001b[39m\u001b[39m0.01\u001b[39m, fit_intercept\u001b[39m=\u001b[39m\u001b[39mTrue\u001b[39;00m,\n\u001b[0;32m     79\u001b[0m                 random_state\u001b[39m=\u001b[39m\u001b[39mself\u001b[39m\u001b[39m.\u001b[39mrandom_state)\n\u001b[1;32m---> 80\u001b[0m     clf\u001b[39m.\u001b[39;49mfit(data, labels, sample_weight\u001b[39m=\u001b[39;49mweights)\n\u001b[0;32m     82\u001b[0m     coef \u001b[39m=\u001b[39m clf\u001b[39m.\u001b[39mcoef_\n\u001b[0;32m     83\u001b[0m     \u001b[39mif\u001b[39;00m sp\u001b[39m.\u001b[39msparse\u001b[39m.\u001b[39missparse(data):\n",
      "File \u001b[1;32mc:\\Users\\sadai\\Desktop\\AuthorPrediction\\pt_lm\\lib\\site-packages\\sklearn\\linear_model\\_ridge.py:1126\u001b[0m, in \u001b[0;36mRidge.fit\u001b[1;34m(self, X, y, sample_weight)\u001b[0m\n\u001b[0;32m   1123\u001b[0m \u001b[39mself\u001b[39m\u001b[39m.\u001b[39m_validate_params()\n\u001b[0;32m   1125\u001b[0m _accept_sparse \u001b[39m=\u001b[39m _get_valid_accept_sparse(sparse\u001b[39m.\u001b[39missparse(X), \u001b[39mself\u001b[39m\u001b[39m.\u001b[39msolver)\n\u001b[1;32m-> 1126\u001b[0m X, y \u001b[39m=\u001b[39m \u001b[39mself\u001b[39;49m\u001b[39m.\u001b[39;49m_validate_data(\n\u001b[0;32m   1127\u001b[0m     X,\n\u001b[0;32m   1128\u001b[0m     y,\n\u001b[0;32m   1129\u001b[0m     accept_sparse\u001b[39m=\u001b[39;49m_accept_sparse,\n\u001b[0;32m   1130\u001b[0m     dtype\u001b[39m=\u001b[39;49m[np\u001b[39m.\u001b[39;49mfloat64, np\u001b[39m.\u001b[39;49mfloat32],\n\u001b[0;32m   1131\u001b[0m     multi_output\u001b[39m=\u001b[39;49m\u001b[39mTrue\u001b[39;49;00m,\n\u001b[0;32m   1132\u001b[0m     y_numeric\u001b[39m=\u001b[39;49m\u001b[39mTrue\u001b[39;49;00m,\n\u001b[0;32m   1133\u001b[0m )\n\u001b[0;32m   1134\u001b[0m \u001b[39mreturn\u001b[39;00m \u001b[39msuper\u001b[39m()\u001b[39m.\u001b[39mfit(X, y, sample_weight\u001b[39m=\u001b[39msample_weight)\n",
      "File \u001b[1;32mc:\\Users\\sadai\\Desktop\\AuthorPrediction\\pt_lm\\lib\\site-packages\\sklearn\\base.py:584\u001b[0m, in \u001b[0;36mBaseEstimator._validate_data\u001b[1;34m(self, X, y, reset, validate_separately, **check_params)\u001b[0m\n\u001b[0;32m    582\u001b[0m         y \u001b[39m=\u001b[39m check_array(y, input_name\u001b[39m=\u001b[39m\u001b[39m\"\u001b[39m\u001b[39my\u001b[39m\u001b[39m\"\u001b[39m, \u001b[39m*\u001b[39m\u001b[39m*\u001b[39mcheck_y_params)\n\u001b[0;32m    583\u001b[0m     \u001b[39melse\u001b[39;00m:\n\u001b[1;32m--> 584\u001b[0m         X, y \u001b[39m=\u001b[39m check_X_y(X, y, \u001b[39m*\u001b[39m\u001b[39m*\u001b[39mcheck_params)\n\u001b[0;32m    585\u001b[0m     out \u001b[39m=\u001b[39m X, y\n\u001b[0;32m    587\u001b[0m \u001b[39mif\u001b[39;00m \u001b[39mnot\u001b[39;00m no_val_X \u001b[39mand\u001b[39;00m check_params\u001b[39m.\u001b[39mget(\u001b[39m\"\u001b[39m\u001b[39mensure_2d\u001b[39m\u001b[39m\"\u001b[39m, \u001b[39mTrue\u001b[39;00m):\n",
      "File \u001b[1;32mc:\\Users\\sadai\\Desktop\\AuthorPrediction\\pt_lm\\lib\\site-packages\\sklearn\\utils\\validation.py:1124\u001b[0m, in \u001b[0;36mcheck_X_y\u001b[1;34m(X, y, accept_sparse, accept_large_sparse, dtype, order, copy, force_all_finite, ensure_2d, allow_nd, multi_output, ensure_min_samples, ensure_min_features, y_numeric, estimator)\u001b[0m\n\u001b[0;32m   1106\u001b[0m X \u001b[39m=\u001b[39m check_array(\n\u001b[0;32m   1107\u001b[0m     X,\n\u001b[0;32m   1108\u001b[0m     accept_sparse\u001b[39m=\u001b[39maccept_sparse,\n\u001b[1;32m   (...)\u001b[0m\n\u001b[0;32m   1119\u001b[0m     input_name\u001b[39m=\u001b[39m\u001b[39m\"\u001b[39m\u001b[39mX\u001b[39m\u001b[39m\"\u001b[39m,\n\u001b[0;32m   1120\u001b[0m )\n\u001b[0;32m   1122\u001b[0m y \u001b[39m=\u001b[39m _check_y(y, multi_output\u001b[39m=\u001b[39mmulti_output, y_numeric\u001b[39m=\u001b[39my_numeric, estimator\u001b[39m=\u001b[39mestimator)\n\u001b[1;32m-> 1124\u001b[0m check_consistent_length(X, y)\n\u001b[0;32m   1126\u001b[0m \u001b[39mreturn\u001b[39;00m X, y\n",
      "File \u001b[1;32mc:\\Users\\sadai\\Desktop\\AuthorPrediction\\pt_lm\\lib\\site-packages\\sklearn\\utils\\validation.py:397\u001b[0m, in \u001b[0;36mcheck_consistent_length\u001b[1;34m(*arrays)\u001b[0m\n\u001b[0;32m    395\u001b[0m uniques \u001b[39m=\u001b[39m np\u001b[39m.\u001b[39munique(lengths)\n\u001b[0;32m    396\u001b[0m \u001b[39mif\u001b[39;00m \u001b[39mlen\u001b[39m(uniques) \u001b[39m>\u001b[39m \u001b[39m1\u001b[39m:\n\u001b[1;32m--> 397\u001b[0m     \u001b[39mraise\u001b[39;00m \u001b[39mValueError\u001b[39;00m(\n\u001b[0;32m    398\u001b[0m         \u001b[39m\"\u001b[39m\u001b[39mFound input variables with inconsistent numbers of samples: \u001b[39m\u001b[39m%r\u001b[39;00m\u001b[39m\"\u001b[39m\n\u001b[0;32m    399\u001b[0m         \u001b[39m%\u001b[39m [\u001b[39mint\u001b[39m(l) \u001b[39mfor\u001b[39;00m l \u001b[39min\u001b[39;00m lengths]\n\u001b[0;32m    400\u001b[0m     )\n",
      "\u001b[1;31mValueError\u001b[0m: Found input variables with inconsistent numbers of samples: [5000, 1]"
     ]
    }
   ],
   "source": [
    "classes = train_data['Author'].unique()\n",
    "explainer = LimeTextExplainer(class_names=classes)\n",
    "exp_text =str(test_data['Text'][3])\n",
    "exp = explainer.explain_instance(exp_text, predictor)#, labels=[4, 15])\n",
    "exp"
   ]
  },
  {
   "cell_type": "code",
   "execution_count": null,
   "metadata": {},
   "outputs": [],
   "source": [
    "from captum.attr import IntegratedGradients\n",
    "# device = 'cpu'\n",
    "ig = IntegratedGradients(model.to(device))\n",
    "input_texts = test_data['Text'].tolist()[:5]  # assuming your test dataset has a 'text' column\n",
    "tokens = tokenizer.batch_encode_plus(input_texts, return_tensors='pt', padding=True, truncation=True).to(device)\n",
    "\n",
    "input_ids = tokens['input_ids']\n",
    "input_ids = input_ids.cpu().long()\n",
    "print(type(input_ids))\n",
    "att_masks = tokens['attention_mask']\n",
    "att_masks = att_masks.cpu().long()\n",
    "print(type(att_masks))\n",
    "\n",
    "def predict_proba(ids, masks):\n",
    "    logits = model(ids, masks)[0]\n",
    "    return torch.softmax(logits, dim=1)\n",
    "\n",
    "# compute the predictions for the test dataset\n",
    "predictions = predict_proba(input_ids, att_masks)\n",
    "\n",
    "# compute the attributions using integrated gradients\n",
    "for step_num, batch_data in tqdm(enumerate(test_dataloader)):\n",
    "    input_ids, att_mask, labels = [data.to(device) for data in batch_data]\n",
    "    attributions = ig.attribute((input_ids, att_masks), n_steps=50)\n",
    "\n",
    "# # print the most important words for the first test example\n",
    "# tokens = tokenizer.tokenize(input_texts[0])\n",
    "# for i in attributions[0].nonzero(as_tuple=False).tolist():\n",
    "#     print(tokens[i])\n",
    "\n",
    "# # print the model's predictions for the first test example\n",
    "# print(predictions[0])"
   ]
  },
  {
   "cell_type": "code",
   "execution_count": 61,
   "metadata": {},
   "outputs": [
    {
     "name": "stdout",
     "output_type": "stream",
     "text": [
      "Input :torch.Size([1, 73])\n",
      "Att :torch.Size([1, 73])\n",
      "<class 'torch.Tensor'>\n",
      "torch.Size([1])\n"
     ]
    },
    {
     "ename": "NameError",
     "evalue": "name 'predict' is not defined",
     "output_type": "error",
     "traceback": [
      "\u001b[1;31m---------------------------------------------------------------------------\u001b[0m",
      "\u001b[1;31mNameError\u001b[0m                                 Traceback (most recent call last)",
      "Cell \u001b[1;32mIn[61], line 26\u001b[0m\n\u001b[0;32m     23\u001b[0m \u001b[39mprint\u001b[39m(\u001b[39mtype\u001b[39m(target))\n\u001b[0;32m     24\u001b[0m \u001b[39mprint\u001b[39m(target\u001b[39m.\u001b[39mshape)\n\u001b[1;32m---> 26\u001b[0m ig \u001b[39m=\u001b[39m IntegratedGradients(predict)\n\u001b[0;32m     27\u001b[0m \u001b[39m# predict(test_input_ids.to(device)[:21], test_att_masks.to(device)[:21])\u001b[39;00m\n\u001b[0;32m     28\u001b[0m attributions, delta \u001b[39m=\u001b[39m ig\u001b[39m.\u001b[39mattribute((input_ids\u001b[39m.\u001b[39mto(device), attention_mask\u001b[39m.\u001b[39mto(device), target\u001b[39m.\u001b[39mto(device)), target\u001b[39m=\u001b[39mtarget, return_convergence_delta\u001b[39m=\u001b[39m\u001b[39mTrue\u001b[39;00m)\n",
      "\u001b[1;31mNameError\u001b[0m: name 'predict' is not defined"
     ]
    }
   ],
   "source": [
    "# https://coderzcolumn.com/tutorials/artificial-intelligence/captum-for-pytorch-text-classification-networks\n",
    "# https://captum.ai/tutorials/IMDB_TorchText_Interpret\n",
    "from captum.attr import IntegratedGradients\n",
    "from captum.attr import visualization\n",
    "# predict()\n",
    "input_text = test_texts[1]\n",
    "inputs = tokenizer.encode_plus(\n",
    "    input_text,\n",
    "    add_special_tokens=True,\n",
    "    max_length=MAX_LENGTH,\n",
    "    padding='max_length',\n",
    "    truncation=True,\n",
    "    return_tensors='pt'\n",
    ")\n",
    "\n",
    "input_ids = inputs['input_ids']\n",
    "attention_mask = inputs['attention_mask']\n",
    "# test_input = test_input_ids[0].unsqueeze(0).long()\n",
    "print(f\"Input :{input_ids.shape}\")\n",
    "# test_att = test_att_masks[0]#.long()\n",
    "print(f\"Att :{attention_mask.shape}\")\n",
    "target = test_y[0].unsqueeze(0)\n",
    "print(type(target))\n",
    "print(target.shape)\n",
    "\n",
    "ig = IntegratedGradients(predict)\n",
    "# predict(test_input_ids.to(device)[:21], test_att_masks.to(device)[:21])\n",
    "attributions, delta = ig.attribute((input_ids.to(device), attention_mask.to(device), target.to(device)), target=target, return_convergence_delta=True)\n"
   ]
  },
  {
   "cell_type": "code",
   "execution_count": 47,
   "metadata": {},
   "outputs": [
    {
     "name": "stdout",
     "output_type": "stream",
     "text": [
      "classifiation report\n"
     ]
    },
    {
     "ename": "NameError",
     "evalue": "name 'test_pred' is not defined",
     "output_type": "error",
     "traceback": [
      "\u001b[1;31m---------------------------------------------------------------------------\u001b[0m",
      "\u001b[1;31mNameError\u001b[0m                                 Traceback (most recent call last)",
      "Cell \u001b[1;32mIn[47], line 2\u001b[0m\n\u001b[0;32m      1\u001b[0m \u001b[39mprint\u001b[39m(\u001b[39m'\u001b[39m\u001b[39mclassifiation report\u001b[39m\u001b[39m'\u001b[39m)\n\u001b[1;32m----> 2\u001b[0m \u001b[39mprint\u001b[39m(classification_report(test_pred, y_test,target_names\u001b[39m=\u001b[39mtarget_names))\n",
      "\u001b[1;31mNameError\u001b[0m: name 'test_pred' is not defined"
     ]
    }
   ],
   "source": [
    "print('classifiation report')\n",
    "print(classification_report(test_pred, y_test,target_names=target_names))\n"
   ]
  },
  {
   "cell_type": "code",
   "execution_count": null,
   "metadata": {},
   "outputs": [],
   "source": [
    "plot_confusion_matrix(test_pred,y_test,labels=target_names)"
   ]
  },
  {
   "cell_type": "code",
   "execution_count": null,
   "metadata": {},
   "outputs": [],
   "source": [
    "#Output misclassified text\n",
    "test_df['pred'] = test_pred\n",
    "test_df.reset_index(level=0)\n",
    "print(test_df[test_df['label']!=test_df['pred']].shape)\n",
    "test_df[test_df['label']!=test_df['pred']][['text','label','pred']].head(10)"
   ]
  },
  {
   "cell_type": "code",
   "execution_count": null,
   "metadata": {},
   "outputs": [],
   "source": []
  },
  {
   "attachments": {},
   "cell_type": "markdown",
   "metadata": {},
   "source": [
    "# Gradient-Based Adversarial Attack"
   ]
  },
  {
   "attachments": {},
   "cell_type": "markdown",
   "metadata": {},
   "source": [
    "## FGSM Attack"
   ]
  },
  {
   "cell_type": "code",
   "execution_count": 49,
   "metadata": {},
   "outputs": [
    {
     "name": "stderr",
     "output_type": "stream",
     "text": [
      "Some weights of the model checkpoint at distilbert-base-uncased were not used when initializing DistilBertForSequenceClassification: ['vocab_projector.bias', 'vocab_layer_norm.bias', 'vocab_transform.bias', 'vocab_projector.weight', 'vocab_transform.weight', 'vocab_layer_norm.weight']\n",
      "- This IS expected if you are initializing DistilBertForSequenceClassification from the checkpoint of a model trained on another task or with another architecture (e.g. initializing a BertForSequenceClassification model from a BertForPreTraining model).\n",
      "- This IS NOT expected if you are initializing DistilBertForSequenceClassification from the checkpoint of a model that you expect to be exactly identical (initializing a BertForSequenceClassification model from a BertForSequenceClassification model).\n",
      "Some weights of DistilBertForSequenceClassification were not initialized from the model checkpoint at distilbert-base-uncased and are newly initialized: ['pre_classifier.bias', 'classifier.bias', 'classifier.weight', 'pre_classifier.weight']\n",
      "You should probably TRAIN this model on a down-stream task to be able to use it for predictions and inference.\n"
     ]
    },
    {
     "data": {
      "text/plain": [
       "<All keys matched successfully>"
      ]
     },
     "execution_count": 49,
     "metadata": {},
     "output_type": "execute_result"
    }
   ],
   "source": [
    "# load the saved model\n",
    "saved_model_path = r\"distilbert_finetuned_c50\\distilbert_finetuned_c50_30.pt\"\n",
    "saved_model = torch.load(saved_model_path, map_location=torch.device('cpu'))[\"model_state_dict\"]\n",
    "\n",
    "# get the shape of the current model's classifier layer\n",
    "current_model = DistilBertForSequenceClassification.from_pretrained(\"distilbert-base-uncased\", num_labels=N_labels)\n",
    "current_weight_shape = current_model.classifier.weight.shape\n",
    "current_bias_shape = current_model.classifier.bias.shape\n",
    "\n",
    "# modify the saved model's classifier layer\n",
    "saved_model[\"classifier.weight\"] = saved_model[\"classifier.weight\"][:current_weight_shape[0], :]\n",
    "saved_model[\"classifier.bias\"] = saved_model[\"classifier.bias\"][:current_bias_shape[0]]\n",
    "\n",
    "# load the modified saved model into the current model\n",
    "current_model.load_state_dict(saved_model)"
   ]
  },
  {
   "cell_type": "code",
   "execution_count": 38,
   "metadata": {},
   "outputs": [],
   "source": [
    "# saved_model.keys()\n",
    "# saved_model['model_state_dict']"
   ]
  },
  {
   "cell_type": "code",
   "execution_count": 35,
   "metadata": {},
   "outputs": [],
   "source": [
    "import torch\n",
    "import torch.nn.functional as F\n",
    "from transformers import DistilBertTokenizer, DistilBertForSequenceClassification\n",
    "\n",
    "# Load the pretrained model and tokenizer\n",
    "# tokenizer = DistilBertTokenizer.from_pretrained('distilbert-base-uncased')\n",
    "# model = DistilBertForSequenceClassification.from_pretrained('distilbert-base-uncased', num_labels=3)\n",
    "# checkpoint = torch.load(r'distilbert_finetuned_c50\\distilbert_finetuned_c50_30.pt')\n",
    "# # #1e-6 -> 1e-5\n",
    "# model.load_state_dict(checkpoint['model_state_dict'])\n",
    "\n",
    "# Define a function to generate adversarial text using FGSM\n",
    "# def fgsm_attack(input_text, epsilon, data_grad):\n",
    "#     # Get the sign of the gradient\n",
    "#     sign_data_grad = data_grad.sign()\n",
    "#     # Create the perturbation vector\n",
    "#     perturbed_input = input_text + epsilon * sign_data_grad\n",
    "#     # Return the adversarial text\n",
    "#     return perturbed_input\n",
    "import torch.nn.functional as F\n",
    "\n",
    "# def fgsm_attack(model, loss_fn, inputs_embeds, labels, epsilon=0.1):\n",
    "#     # Set requires_grad attribute of tensor. Important for Attack\n",
    "#     inputs_embeds.requires_grad_()\n",
    "#     # Forward pass\n",
    "#     outputs = model(inputs_embeds=inputs_embeds)\n",
    "#     # Calculate loss\n",
    "#     loss = loss_fn(outputs, labels)\n",
    "#     # Calculate gradients\n",
    "#     loss.backward()\n",
    "#     # Create perturbed inputs\n",
    "#     perturbed_inputs_embeds = inputs_embeds + epsilon * inputs_embeds.grad.sign()\n",
    "#     # Return the perturbed inputs as a tensor\n",
    "#     return perturbed_inputs_embeds.detach()\n",
    "\n",
    "import torch.nn.utils.rnn as rnn_utils\n",
    "\n",
    "def fgsm_attack(model, loss_fn, inputs_embeds, labels, epsilon=0.1):\n",
    "    # inputs_embeds = torch.transpose(inputs_embeds, 0, 1)#.unsqueeze(0)  # add batch dimension\n",
    "    inputs_embeds.requires_grad_()# = True\n",
    "    print(f\"Inputs embeds in fgsm: {inputs_embeds.shape}\")\n",
    "    outputs = model(inputs_embeds=inputs_embeds)\n",
    "    \n",
    "    _, predicted = torch.max(outputs.logits, 1)\n",
    "    print(f\"Output logit shapes: {outputs.logits.shape}\")\n",
    "    print(f\"Predicted: {predicted.shape}\")\n",
    "    if predicted.item() == labels:\n",
    "        loss = loss_fn(outputs.logits, torch.tensor([labels]))\n",
    "        model.zero_grad()\n",
    "        loss.backward()\n",
    "\n",
    "        inputs_embeds_grad = inputs_embeds.grad\n",
    "\n",
    "        # Add perturbation\n",
    "        inputs_embeds_adv = inputs_embeds + epsilon * torch.sign(inputs_embeds_grad)\n",
    "        print(f\"INPUTS EMBEDS ADV: {inputs_embeds_adv}\")\n",
    "        # Pad inputs_embeds_adv to the expected length of the model\n",
    "        inputs_embeds_adv = rnn_utils.pad_sequence([inputs_embeds_adv.squeeze(0)], batch_first=True)\n",
    "\n",
    "        # Get model prediction on perturbed input\n",
    "        outputs_adv = model(inputs_embeds=inputs_embeds_adv)\n",
    "\n",
    "        # Get perturbed text\n",
    "        perturbed_text = tokenizer.decode(torch.argmax(inputs_embeds_adv.squeeze(), dim=1).tolist())\n",
    "\n",
    "        # Compute loss on perturbed input and backpropagate\n",
    "        loss_adv = loss_fn(outputs_adv, torch.tensor([labels]))\n",
    "        model.zero_grad()\n",
    "        loss_adv.backward()\n",
    "\n",
    "        return perturbed_text\n",
    "    else:\n",
    "        return None\n"
   ]
  },
  {
   "cell_type": "code",
   "execution_count": 41,
   "metadata": {},
   "outputs": [
    {
     "data": {
      "text/plain": [
       "Embeddings(\n",
       "  (word_embeddings): Embedding(30522, 768, padding_idx=0)\n",
       "  (position_embeddings): Embedding(512, 768)\n",
       "  (LayerNorm): LayerNorm((768,), eps=1e-12, elementwise_affine=True)\n",
       "  (dropout): Dropout(p=0.1, inplace=False)\n",
       ")"
      ]
     },
     "execution_count": 41,
     "metadata": {},
     "output_type": "execute_result"
    }
   ],
   "source": [
    "model.to(device)\n",
    "model.distilbert.embeddings.to(device)"
   ]
  },
  {
   "cell_type": "code",
   "execution_count": 42,
   "metadata": {},
   "outputs": [
    {
     "data": {
      "text/plain": [
       "205"
      ]
     },
     "execution_count": 42,
     "metadata": {},
     "output_type": "execute_result"
    }
   ],
   "source": [
    "len(test_texts[0])\n",
    "# test_texts[0]"
   ]
  },
  {
   "cell_type": "code",
   "execution_count": 43,
   "metadata": {},
   "outputs": [
    {
     "name": "stdout",
     "output_type": "stream",
     "text": [
      "Inputs ids: torch.Size([1, 42])\n"
     ]
    },
    {
     "ename": "NameError",
     "evalue": "name 'input_embeds' is not defined",
     "output_type": "error",
     "traceback": [
      "\u001b[1;31m---------------------------------------------------------------------------\u001b[0m",
      "\u001b[1;31mNameError\u001b[0m                                 Traceback (most recent call last)",
      "Cell \u001b[1;32mIn[43], line 20\u001b[0m\n\u001b[0;32m     18\u001b[0m \u001b[39m# inputs_embeds = model.distilbert.embeddings.word_embeddings(torch.tensor(input_ids)).to('cpu')\u001b[39;00m\n\u001b[0;32m     19\u001b[0m inputs_embeds \u001b[39m=\u001b[39mmodel\u001b[39m.\u001b[39mdistilbert\u001b[39m.\u001b[39mget_input_embeddings()\u001b[39m.\u001b[39mweight[input_ids]\u001b[39m.\u001b[39mclone()\n\u001b[1;32m---> 20\u001b[0m inputs_embeds \u001b[39m=\u001b[39m torch\u001b[39m.\u001b[39mnn\u001b[39m.\u001b[39mParameter(input_embeds\u001b[39m.\u001b[39munsqueeze(\u001b[39m0\u001b[39m), requires_grad\u001b[39m=\u001b[39m\u001b[39mTrue\u001b[39;00m)\n\u001b[0;32m     21\u001b[0m \u001b[39m# inputs_embeds = inputs_embeds.transpose(1, 0)\u001b[39;00m\n\u001b[0;32m     22\u001b[0m \u001b[39mprint\u001b[39m(\u001b[39mf\u001b[39m\u001b[39m\"\u001b[39m\u001b[39mInputs embeds initial: \u001b[39m\u001b[39m{\u001b[39;00minputs_embeds\u001b[39m.\u001b[39mshape\u001b[39m}\u001b[39;00m\u001b[39m\"\u001b[39m)\n",
      "\u001b[1;31mNameError\u001b[0m: name 'input_embeds' is not defined"
     ]
    }
   ],
   "source": [
    "# Define the input text and label\n",
    "input_text = test_texts[1]#\"This is a positive text\"\n",
    "# label = 14#torch.tensor([1]).to(device)\n",
    "# inputs_embeds = input_text['input_embeds']\n",
    "# num_classes = 50\n",
    "# label_tensor = torch.zeros(num_classes)\n",
    "# label_tensor[label] = 1\n",
    "\n",
    "model.to('cpu')\n",
    "# Convert the input text to a tensor\n",
    "# input_ids = torch.LongTensor(tokenizer.encode(input_text, add_special_tokens=True)).unsqueeze(0).to(device)\n",
    "# inputs_embeds = model.distilbert.embeddings.word_embeddings(torch.tensor(input_ids))\n",
    "# Convert the text to input embeddings\n",
    "input_ids = torch.tensor(tokenizer.encode(input_text, add_special_tokens=True)).unsqueeze(0)\n",
    "# input_ids = input_ids.transpose(1, 0)  # shape [sequence_length, 1]\n",
    "\n",
    "print(f\"Inputs ids: {input_ids.shape}\")\n",
    "# inputs_embeds = model.distilbert.embeddings.word_embeddings(torch.tensor(input_ids)).to('cpu')\n",
    "inputs_embeds =model.distilbert.get_input_embeddings().weight[input_ids].clone()\n",
    "inputs_embeds = torch.nn.Parameter(input_embeds.unsqueeze(0), requires_grad=True)\n",
    "# inputs_embeds = inputs_embeds.transpose(1, 0)\n",
    "print(f\"Inputs embeds initial: {inputs_embeds.shape}\")\n",
    "# Set the label to a target class\n",
    "target_label = torch.tensor([37]).to(device)\n",
    "# Generate the perturbed text using the FGSM attack\n",
    "perturbed_inputs = fgsm_attack(model, F.cross_entropy, inputs_embeds, target_label, epsilon=0.1)\n",
    "if perturbed_inputs is None:\n",
    "    print(\"Adversarial example not generated.\")\n",
    "else:\n",
    "    perturbed_ids = torch.argmax(perturbed_inputs, dim=-1)\n",
    "    perturbed_text = tokenizer.batch_decode(perturbed_ids)\n",
    "    print(\"Perturbed text: \", perturbed_text)\n",
    "\n",
    "# Convert the perturbed embeddings back to text\n",
    "# perturbed_ids = torch.argmax(perturbed_inputs, dim=-1)\n",
    "# perturbed_text = tokenizer.decode(perturbed_ids.tolist()[1:-1])\n",
    "\n",
    "# print(\"Original text:\", input_text)\n",
    "# print(\"Perturbed text:\", perturbed_text)"
   ]
  },
  {
   "cell_type": "code",
   "execution_count": 44,
   "metadata": {},
   "outputs": [
    {
     "data": {
      "text/plain": [
       "torch.Size([1, 42])"
      ]
     },
     "execution_count": 44,
     "metadata": {},
     "output_type": "execute_result"
    }
   ],
   "source": [
    "input_shape = tokenizer([input_text], return_tensors='pt')['input_ids'].shape\n",
    "input_shape"
   ]
  },
  {
   "cell_type": "code",
   "execution_count": 45,
   "metadata": {},
   "outputs": [],
   "source": [
    "def fgsm_attack(model, loss_fn, text, labels, epsilon=0.1):\n",
    "    model.to(device)\n",
    "    input_ids = torch.tensor(tokenizer.encode(text, add_special_tokens=True)).unsqueeze(0).to(device)\n",
    "\n",
    "    input_embeds = model.distilbert.embeddings.word_embeddings(input_ids.to(device))\n",
    "    input_embeds = torch.nn.Parameter(input_embeds, requires_grad=True)\n",
    "    input_embeds = input_embeds.to(device)\n",
    "    print(input_embeds.shape)\n",
    "    outputs = model(inputs_embeds=input_embeds)\n",
    "    loss = loss_fn(outputs.logits, labels)\n",
    "    model.zero_grad()\n",
    "    loss.backward()\n",
    "    \n",
    "    perturbed_inputs = input_embeds + epsilon * input_embeds.grad.sign()\n",
    "    perturbed_inputs = torch.clamp(perturbed_inputs, 0, 1)\n",
    "    \n",
    "    return perturbed_inputs\n"
   ]
  },
  {
   "cell_type": "code",
   "execution_count": 46,
   "metadata": {},
   "outputs": [
    {
     "name": "stdout",
     "output_type": "stream",
     "text": [
      "torch.Size([1, 42, 768])\n"
     ]
    }
   ],
   "source": [
    "perturbed_inputs = fgsm_attack(model, F.cross_entropy, input_text, torch.tensor([37]).to(device))"
   ]
  },
  {
   "cell_type": "code",
   "execution_count": 47,
   "metadata": {},
   "outputs": [
    {
     "data": {
      "text/plain": [
       "tensor([[[0.1390, 0.0000, 0.0792,  ..., 0.0000, 0.1230, 0.1238],\n",
       "         [0.0537, 0.0000, 0.1017,  ..., 0.0000, 0.0890, 0.0528],\n",
       "         [0.0000, 0.0000, 0.0032,  ..., 0.0079, 0.0151, 0.0925],\n",
       "         ...,\n",
       "         [0.0527, 0.0609, 0.0413,  ..., 0.0221, 0.0000, 0.0000],\n",
       "         [0.0000, 0.0737, 0.0000,  ..., 0.0000, 0.0213, 0.0273],\n",
       "         [0.0000, 0.0000, 0.0901,  ..., 0.0765, 0.1071, 0.0000]]],\n",
       "       device='cuda:0', grad_fn=<ClampBackward1>)"
      ]
     },
     "execution_count": 47,
     "metadata": {},
     "output_type": "execute_result"
    }
   ],
   "source": [
    "perturbed_inputs"
   ]
  },
  {
   "cell_type": "code",
   "execution_count": 48,
   "metadata": {},
   "outputs": [
    {
     "data": {
      "text/plain": [
       "[121,\n",
       " 419,\n",
       " 343,\n",
       " 717,\n",
       " 376,\n",
       " 620,\n",
       " 22,\n",
       " 317,\n",
       " 670,\n",
       " 121,\n",
       " 419,\n",
       " 541,\n",
       " 419,\n",
       " 419,\n",
       " 540,\n",
       " 175,\n",
       " 419,\n",
       " 426,\n",
       " 419,\n",
       " 419,\n",
       " 71,\n",
       " 150,\n",
       " 121,\n",
       " 389,\n",
       " 482,\n",
       " 311,\n",
       " 419,\n",
       " 91,\n",
       " 573,\n",
       " 159,\n",
       " 132,\n",
       " 546,\n",
       " 202,\n",
       " 216,\n",
       " 319,\n",
       " 311,\n",
       " 419,\n",
       " 245,\n",
       " 766,\n",
       " 53,\n",
       " 356,\n",
       " 77]"
      ]
     },
     "execution_count": 48,
     "metadata": {},
     "output_type": "execute_result"
    }
   ],
   "source": [
    "perturbed_ids = perturbed_inputs.argmax(dim=-1).squeeze().tolist()\n",
    "perturbed_ids"
   ]
  },
  {
   "cell_type": "code",
   "execution_count": 49,
   "metadata": {},
   "outputs": [
    {
     "data": {
      "text/plain": [
       "'[unused116] [unused414] [unused338] [unused712] [unused371] [unused615] [unused21] [unused312] [unused665] [unused116] [unused414] [unused536] [unused414] [unused414] [unused535] [unused170] [unused414] [unused421] [unused414] [unused414] [unused70] [unused145] [unused116] [unused384] [unused477] [unused306] [unused414] [unused90] [unused568] [unused154] [unused127] [unused541] [unused197] [unused211] [unused314] [unused306] [unused414] [unused240] [unused761] [unused52] [unused351] [unused76]'"
      ]
     },
     "execution_count": 49,
     "metadata": {},
     "output_type": "execute_result"
    }
   ],
   "source": [
    "perturbed_text = tokenizer.decode(perturbed_ids, clean_up_tokenization_spaces=True)\n",
    "perturbed_text"
   ]
  },
  {
   "cell_type": "code",
   "execution_count": 51,
   "metadata": {},
   "outputs": [
    {
     "name": "stdout",
     "output_type": "stream",
     "text": [
      "Collecting captum\n",
      "  Downloading captum-0.6.0-py3-none-any.whl (1.3 MB)\n",
      "     ---------------------------------------- 0.0/1.3 MB ? eta -:--:--\n",
      "     ---- ----------------------------------- 0.2/1.3 MB 4.6 MB/s eta 0:00:01\n",
      "     --------------- ------------------------ 0.5/1.3 MB 5.3 MB/s eta 0:00:01\n",
      "     --------------------------------- ------ 1.1/1.3 MB 7.8 MB/s eta 0:00:01\n",
      "     ---------------------------------------  1.3/1.3 MB 8.3 MB/s eta 0:00:01\n",
      "     ---------------------------------------- 1.3/1.3 MB 6.4 MB/s eta 0:00:00\n",
      "Requirement already satisfied: numpy in c:\\users\\sadai\\desktop\\authorprediction\\pt_lm\\lib\\site-packages (from captum) (1.24.2)\n",
      "Requirement already satisfied: matplotlib in c:\\users\\sadai\\desktop\\authorprediction\\pt_lm\\lib\\site-packages (from captum) (3.7.1)\n",
      "Requirement already satisfied: torch>=1.6 in c:\\users\\sadai\\desktop\\authorprediction\\pt_lm\\lib\\site-packages (from captum) (2.0.0+cu117)\n",
      "Requirement already satisfied: filelock in c:\\users\\sadai\\desktop\\authorprediction\\pt_lm\\lib\\site-packages (from torch>=1.6->captum) (3.9.0)\n",
      "Requirement already satisfied: typing-extensions in c:\\users\\sadai\\desktop\\authorprediction\\pt_lm\\lib\\site-packages (from torch>=1.6->captum) (4.4.0)\n",
      "Requirement already satisfied: sympy in c:\\users\\sadai\\desktop\\authorprediction\\pt_lm\\lib\\site-packages (from torch>=1.6->captum) (1.11.1)\n",
      "Requirement already satisfied: jinja2 in c:\\users\\sadai\\desktop\\authorprediction\\pt_lm\\lib\\site-packages (from torch>=1.6->captum) (3.1.2)\n",
      "Requirement already satisfied: networkx in c:\\users\\sadai\\desktop\\authorprediction\\pt_lm\\lib\\site-packages (from torch>=1.6->captum) (3.0)\n",
      "Requirement already satisfied: fonttools>=4.22.0 in c:\\users\\sadai\\desktop\\authorprediction\\pt_lm\\lib\\site-packages (from matplotlib->captum) (4.39.3)\n",
      "Requirement already satisfied: packaging>=20.0 in c:\\users\\sadai\\desktop\\authorprediction\\pt_lm\\lib\\site-packages (from matplotlib->captum) (23.0)\n",
      "Requirement already satisfied: contourpy>=1.0.1 in c:\\users\\sadai\\desktop\\authorprediction\\pt_lm\\lib\\site-packages (from matplotlib->captum) (1.0.7)\n",
      "Requirement already satisfied: pillow>=6.2.0 in c:\\users\\sadai\\desktop\\authorprediction\\pt_lm\\lib\\site-packages (from matplotlib->captum) (9.5.0)\n",
      "Requirement already satisfied: python-dateutil>=2.7 in c:\\users\\sadai\\desktop\\authorprediction\\pt_lm\\lib\\site-packages (from matplotlib->captum) (2.8.2)\n",
      "Requirement already satisfied: pyparsing>=2.3.1 in c:\\users\\sadai\\desktop\\authorprediction\\pt_lm\\lib\\site-packages (from matplotlib->captum) (3.0.9)\n",
      "Requirement already satisfied: cycler>=0.10 in c:\\users\\sadai\\desktop\\authorprediction\\pt_lm\\lib\\site-packages (from matplotlib->captum) (0.11.0)\n",
      "Requirement already satisfied: kiwisolver>=1.0.1 in c:\\users\\sadai\\desktop\\authorprediction\\pt_lm\\lib\\site-packages (from matplotlib->captum) (1.4.4)\n",
      "Requirement already satisfied: six>=1.5 in c:\\users\\sadai\\desktop\\authorprediction\\pt_lm\\lib\\site-packages (from python-dateutil>=2.7->matplotlib->captum) (1.16.0)\n",
      "Requirement already satisfied: MarkupSafe>=2.0 in c:\\users\\sadai\\desktop\\authorprediction\\pt_lm\\lib\\site-packages (from jinja2->torch>=1.6->captum) (2.1.2)\n",
      "Requirement already satisfied: mpmath>=0.19 in c:\\users\\sadai\\desktop\\authorprediction\\pt_lm\\lib\\site-packages (from sympy->torch>=1.6->captum) (1.2.1)\n",
      "Installing collected packages: captum\n",
      "Successfully installed captum-0.6.0\n"
     ]
    }
   ],
   "source": [
    "!pip install captum"
   ]
  },
  {
   "cell_type": "code",
   "execution_count": 56,
   "metadata": {},
   "outputs": [
    {
     "name": "stdout",
     "output_type": "stream",
     "text": [
      "torch.Size([1, 73])\n",
      "torch.Size([1, 73])\n",
      "torch.Size([1, 73])\n"
     ]
    },
    {
     "ename": "AttributeError",
     "evalue": "'BaseModelOutput' object has no attribute 'shape'",
     "output_type": "error",
     "traceback": [
      "\u001b[1;31m---------------------------------------------------------------------------\u001b[0m",
      "\u001b[1;31mAttributeError\u001b[0m                            Traceback (most recent call last)",
      "Cell \u001b[1;32mIn[56], line 40\u001b[0m\n\u001b[0;32m     37\u001b[0m lig \u001b[39m=\u001b[39m LayerIntegratedGradients(model\u001b[39m.\u001b[39mdistilbert, model\u001b[39m.\u001b[39mdistilbert\u001b[39m.\u001b[39membeddings)\n\u001b[0;32m     39\u001b[0m \u001b[39m# attributions, delta = lig.attribute(input_ids.to(device), baselines=reference_tokens.to(device), target=target.to(device))\u001b[39;00m\n\u001b[1;32m---> 40\u001b[0m attributions, delta \u001b[39m=\u001b[39m lig\u001b[39m.\u001b[39;49mattribute(inputs\u001b[39m=\u001b[39;49minput_ids\u001b[39m.\u001b[39;49mto(device), baselines\u001b[39m=\u001b[39;49mreference_tokens\u001b[39m.\u001b[39;49mto(device), additional_forward_args\u001b[39m=\u001b[39;49mattention_mask\u001b[39m.\u001b[39;49mto(device), target\u001b[39m=\u001b[39;49mtarget, return_convergence_delta\u001b[39m=\u001b[39;49m\u001b[39mTrue\u001b[39;49;00m)\n\u001b[0;32m     42\u001b[0m attributions \u001b[39m=\u001b[39m attributions\u001b[39m.\u001b[39msum(dim\u001b[39m=\u001b[39m\u001b[39m-\u001b[39m\u001b[39m1\u001b[39m)\n\u001b[0;32m     44\u001b[0m \u001b[39m# Visualize saliency map\u001b[39;00m\n",
      "File \u001b[1;32mc:\\Users\\sadai\\Desktop\\AuthorPrediction\\pt_lm\\lib\\site-packages\\captum\\log\\__init__.py:42\u001b[0m, in \u001b[0;36mlog_usage.<locals>._log_usage.<locals>.wrapper\u001b[1;34m(*args, **kwargs)\u001b[0m\n\u001b[0;32m     40\u001b[0m \u001b[39m@wraps\u001b[39m(func)\n\u001b[0;32m     41\u001b[0m \u001b[39mdef\u001b[39;00m \u001b[39mwrapper\u001b[39m(\u001b[39m*\u001b[39margs, \u001b[39m*\u001b[39m\u001b[39m*\u001b[39mkwargs):\n\u001b[1;32m---> 42\u001b[0m     \u001b[39mreturn\u001b[39;00m func(\u001b[39m*\u001b[39margs, \u001b[39m*\u001b[39m\u001b[39m*\u001b[39mkwargs)\n",
      "File \u001b[1;32mc:\\Users\\sadai\\Desktop\\AuthorPrediction\\pt_lm\\lib\\site-packages\\captum\\attr\\_core\\layer\\layer_integrated_gradients.py:494\u001b[0m, in \u001b[0;36mLayerIntegratedGradients.attribute\u001b[1;34m(self, inputs, baselines, target, additional_forward_args, n_steps, method, internal_batch_size, return_convergence_delta, attribute_to_layer_input)\u001b[0m\n\u001b[0;32m    487\u001b[0m \u001b[39mself\u001b[39m\u001b[39m.\u001b[39mig\u001b[39m.\u001b[39mgradient_func \u001b[39m=\u001b[39m gradient_func\n\u001b[0;32m    488\u001b[0m all_inputs \u001b[39m=\u001b[39m (\n\u001b[0;32m    489\u001b[0m     (inps \u001b[39m+\u001b[39m additional_forward_args)\n\u001b[0;32m    490\u001b[0m     \u001b[39mif\u001b[39;00m additional_forward_args \u001b[39mis\u001b[39;00m \u001b[39mnot\u001b[39;00m \u001b[39mNone\u001b[39;00m\n\u001b[0;32m    491\u001b[0m     \u001b[39melse\u001b[39;00m inps\n\u001b[0;32m    492\u001b[0m )\n\u001b[1;32m--> 494\u001b[0m attributions \u001b[39m=\u001b[39m \u001b[39mself\u001b[39;49m\u001b[39m.\u001b[39;49mig\u001b[39m.\u001b[39;49mattribute\u001b[39m.\u001b[39;49m__wrapped__(  \u001b[39m# type: ignore\u001b[39;49;00m\n\u001b[0;32m    495\u001b[0m     \u001b[39mself\u001b[39;49m\u001b[39m.\u001b[39;49mig,  \u001b[39m# self\u001b[39;49;00m\n\u001b[0;32m    496\u001b[0m     inputs_layer,\n\u001b[0;32m    497\u001b[0m     baselines\u001b[39m=\u001b[39;49mbaselines_layer,\n\u001b[0;32m    498\u001b[0m     target\u001b[39m=\u001b[39;49mtarget,\n\u001b[0;32m    499\u001b[0m     additional_forward_args\u001b[39m=\u001b[39;49mall_inputs,\n\u001b[0;32m    500\u001b[0m     n_steps\u001b[39m=\u001b[39;49mn_steps,\n\u001b[0;32m    501\u001b[0m     method\u001b[39m=\u001b[39;49mmethod,\n\u001b[0;32m    502\u001b[0m     internal_batch_size\u001b[39m=\u001b[39;49minternal_batch_size,\n\u001b[0;32m    503\u001b[0m     return_convergence_delta\u001b[39m=\u001b[39;49m\u001b[39mFalse\u001b[39;49;00m,\n\u001b[0;32m    504\u001b[0m )\n\u001b[0;32m    506\u001b[0m \u001b[39m# handle multiple outputs\u001b[39;00m\n\u001b[0;32m    507\u001b[0m output: List[Tuple[Tensor, \u001b[39m.\u001b[39m\u001b[39m.\u001b[39m\u001b[39m.\u001b[39m]] \u001b[39m=\u001b[39m [\n\u001b[0;32m    508\u001b[0m     \u001b[39mtuple\u001b[39m(\n\u001b[0;32m    509\u001b[0m         attributions[\n\u001b[1;32m   (...)\u001b[0m\n\u001b[0;32m    513\u001b[0m     \u001b[39mfor\u001b[39;00m i \u001b[39min\u001b[39;00m \u001b[39mrange\u001b[39m(\u001b[39mlen\u001b[39m(num_outputs))\n\u001b[0;32m    514\u001b[0m ]\n",
      "File \u001b[1;32mc:\\Users\\sadai\\Desktop\\AuthorPrediction\\pt_lm\\lib\\site-packages\\captum\\attr\\_core\\integrated_gradients.py:286\u001b[0m, in \u001b[0;36mIntegratedGradients.attribute\u001b[1;34m(self, inputs, baselines, target, additional_forward_args, n_steps, method, internal_batch_size, return_convergence_delta)\u001b[0m\n\u001b[0;32m    274\u001b[0m     attributions \u001b[39m=\u001b[39m _batch_attribution(\n\u001b[0;32m    275\u001b[0m         \u001b[39mself\u001b[39m,\n\u001b[0;32m    276\u001b[0m         num_examples,\n\u001b[1;32m   (...)\u001b[0m\n\u001b[0;32m    283\u001b[0m         method\u001b[39m=\u001b[39mmethod,\n\u001b[0;32m    284\u001b[0m     )\n\u001b[0;32m    285\u001b[0m \u001b[39melse\u001b[39;00m:\n\u001b[1;32m--> 286\u001b[0m     attributions \u001b[39m=\u001b[39m \u001b[39mself\u001b[39;49m\u001b[39m.\u001b[39;49m_attribute(\n\u001b[0;32m    287\u001b[0m         inputs\u001b[39m=\u001b[39;49minputs,\n\u001b[0;32m    288\u001b[0m         baselines\u001b[39m=\u001b[39;49mbaselines,\n\u001b[0;32m    289\u001b[0m         target\u001b[39m=\u001b[39;49mtarget,\n\u001b[0;32m    290\u001b[0m         additional_forward_args\u001b[39m=\u001b[39;49madditional_forward_args,\n\u001b[0;32m    291\u001b[0m         n_steps\u001b[39m=\u001b[39;49mn_steps,\n\u001b[0;32m    292\u001b[0m         method\u001b[39m=\u001b[39;49mmethod,\n\u001b[0;32m    293\u001b[0m     )\n\u001b[0;32m    295\u001b[0m \u001b[39mif\u001b[39;00m return_convergence_delta:\n\u001b[0;32m    296\u001b[0m     start_point, end_point \u001b[39m=\u001b[39m baselines, inputs\n",
      "File \u001b[1;32mc:\\Users\\sadai\\Desktop\\AuthorPrediction\\pt_lm\\lib\\site-packages\\captum\\attr\\_core\\integrated_gradients.py:351\u001b[0m, in \u001b[0;36mIntegratedGradients._attribute\u001b[1;34m(self, inputs, baselines, target, additional_forward_args, n_steps, method, step_sizes_and_alphas)\u001b[0m\n\u001b[0;32m    348\u001b[0m expanded_target \u001b[39m=\u001b[39m _expand_target(target, n_steps)\n\u001b[0;32m    350\u001b[0m \u001b[39m# grads: dim -> (bsz * #steps x inputs[0].shape[1:], ...)\u001b[39;00m\n\u001b[1;32m--> 351\u001b[0m grads \u001b[39m=\u001b[39m \u001b[39mself\u001b[39;49m\u001b[39m.\u001b[39;49mgradient_func(\n\u001b[0;32m    352\u001b[0m     forward_fn\u001b[39m=\u001b[39;49m\u001b[39mself\u001b[39;49m\u001b[39m.\u001b[39;49mforward_func,\n\u001b[0;32m    353\u001b[0m     inputs\u001b[39m=\u001b[39;49mscaled_features_tpl,\n\u001b[0;32m    354\u001b[0m     target_ind\u001b[39m=\u001b[39;49mexpanded_target,\n\u001b[0;32m    355\u001b[0m     additional_forward_args\u001b[39m=\u001b[39;49minput_additional_args,\n\u001b[0;32m    356\u001b[0m )\n\u001b[0;32m    358\u001b[0m \u001b[39m# flattening grads so that we can multilpy it with step-size\u001b[39;00m\n\u001b[0;32m    359\u001b[0m \u001b[39m# calling contiguous to avoid `memory whole` problems\u001b[39;00m\n\u001b[0;32m    360\u001b[0m scaled_grads \u001b[39m=\u001b[39m [\n\u001b[0;32m    361\u001b[0m     grad\u001b[39m.\u001b[39mcontiguous()\u001b[39m.\u001b[39mview(n_steps, \u001b[39m-\u001b[39m\u001b[39m1\u001b[39m)\n\u001b[0;32m    362\u001b[0m     \u001b[39m*\u001b[39m torch\u001b[39m.\u001b[39mtensor(step_sizes)\u001b[39m.\u001b[39mview(n_steps, \u001b[39m1\u001b[39m)\u001b[39m.\u001b[39mto(grad\u001b[39m.\u001b[39mdevice)\n\u001b[0;32m    363\u001b[0m     \u001b[39mfor\u001b[39;00m grad \u001b[39min\u001b[39;00m grads\n\u001b[0;32m    364\u001b[0m ]\n",
      "File \u001b[1;32mc:\\Users\\sadai\\Desktop\\AuthorPrediction\\pt_lm\\lib\\site-packages\\captum\\attr\\_core\\layer\\layer_integrated_gradients.py:470\u001b[0m, in \u001b[0;36mLayerIntegratedGradients.attribute.<locals>.gradient_func\u001b[1;34m(forward_fn, inputs, target_ind, additional_forward_args)\u001b[0m\n\u001b[0;32m    462\u001b[0m             hook \u001b[39m=\u001b[39m layer\u001b[39m.\u001b[39mregister_forward_hook(\n\u001b[0;32m    463\u001b[0m                 functools\u001b[39m.\u001b[39mpartial(\n\u001b[0;32m    464\u001b[0m                     layer_forward_hook, layer_idx\u001b[39m=\u001b[39mlayer_idx\n\u001b[0;32m    465\u001b[0m                 )\n\u001b[0;32m    466\u001b[0m             )\n\u001b[0;32m    468\u001b[0m         hooks\u001b[39m.\u001b[39mappend(hook)\n\u001b[1;32m--> 470\u001b[0m     output \u001b[39m=\u001b[39m _run_forward(\n\u001b[0;32m    471\u001b[0m         \u001b[39mself\u001b[39;49m\u001b[39m.\u001b[39;49mforward_func, \u001b[39mtuple\u001b[39;49m(), target_ind, additional_forward_args\n\u001b[0;32m    472\u001b[0m     )\n\u001b[0;32m    473\u001b[0m \u001b[39mfinally\u001b[39;00m:\n\u001b[0;32m    474\u001b[0m     \u001b[39mfor\u001b[39;00m hook \u001b[39min\u001b[39;00m hooks:\n",
      "File \u001b[1;32mc:\\Users\\sadai\\Desktop\\AuthorPrediction\\pt_lm\\lib\\site-packages\\captum\\_utils\\common.py:487\u001b[0m, in \u001b[0;36m_run_forward\u001b[1;34m(forward_func, inputs, target, additional_forward_args)\u001b[0m\n\u001b[0;32m    480\u001b[0m additional_forward_args \u001b[39m=\u001b[39m _format_additional_forward_args(additional_forward_args)\n\u001b[0;32m    482\u001b[0m output \u001b[39m=\u001b[39m forward_func(\n\u001b[0;32m    483\u001b[0m     \u001b[39m*\u001b[39m(\u001b[39m*\u001b[39minputs, \u001b[39m*\u001b[39madditional_forward_args)\n\u001b[0;32m    484\u001b[0m     \u001b[39mif\u001b[39;00m additional_forward_args \u001b[39mis\u001b[39;00m \u001b[39mnot\u001b[39;00m \u001b[39mNone\u001b[39;00m\n\u001b[0;32m    485\u001b[0m     \u001b[39melse\u001b[39;00m inputs\n\u001b[0;32m    486\u001b[0m )\n\u001b[1;32m--> 487\u001b[0m \u001b[39mreturn\u001b[39;00m _select_targets(output, target)\n",
      "File \u001b[1;32mc:\\Users\\sadai\\Desktop\\AuthorPrediction\\pt_lm\\lib\\site-packages\\captum\\_utils\\common.py:494\u001b[0m, in \u001b[0;36m_select_targets\u001b[1;34m(output, target)\u001b[0m\n\u001b[0;32m    491\u001b[0m \u001b[39mif\u001b[39;00m target \u001b[39mis\u001b[39;00m \u001b[39mNone\u001b[39;00m:\n\u001b[0;32m    492\u001b[0m     \u001b[39mreturn\u001b[39;00m output\n\u001b[1;32m--> 494\u001b[0m num_examples \u001b[39m=\u001b[39m output\u001b[39m.\u001b[39;49mshape[\u001b[39m0\u001b[39m]\n\u001b[0;32m    495\u001b[0m dims \u001b[39m=\u001b[39m \u001b[39mlen\u001b[39m(output\u001b[39m.\u001b[39mshape)\n\u001b[0;32m    496\u001b[0m device \u001b[39m=\u001b[39m output\u001b[39m.\u001b[39mdevice\n",
      "\u001b[1;31mAttributeError\u001b[0m: 'BaseModelOutput' object has no attribute 'shape'"
     ]
    }
   ],
   "source": [
    "import torch\n",
    "from captum.attr import LayerIntegratedGradients, TokenReferenceBase, visualization\n",
    "\n",
    "# Define your model and tokenizer\n",
    "# model = ...\n",
    "# tokenizer = ...\n",
    "model.to(device)\n",
    "model.eval()\n",
    "# Define your input text\n",
    "input_text = test_texts[1]#\"This is a positive text\"\n",
    "\n",
    "# Tokenize your input text and convert it to tensor\n",
    "# input_ids = torch.tensor([tokenizer.encode(input_text, add_special_tokens=True)])\n",
    "inputs = tokenizer.encode_plus(\n",
    "    input_text,\n",
    "    add_special_tokens=True,\n",
    "    max_length=MAX_LENGTH,\n",
    "    padding='max_length',\n",
    "    truncation=True,\n",
    "    return_tensors='pt'\n",
    ")\n",
    "\n",
    "input_ids = inputs['input_ids']\n",
    "attention_mask = inputs['attention_mask']\n",
    "input_shape = input_ids.shape\n",
    "print(input_shape)\n",
    "print(attention_mask.shape)\n",
    "# Define a reference token for attribution\n",
    "reference_token_id = tokenizer.pad_token_id\n",
    "reference_tokens = torch.zeros_like(input_ids)\n",
    "reference_tokens = reference_tokens.view(input_ids.shape[0], -1)\n",
    "print(reference_tokens.shape)\n",
    "# Compute saliency map using Layer Integrated Gradients\n",
    "# output = model(input_ids.to(device), attention_mask=attention_mask.to(device))\n",
    "# logits = output.logits\n",
    "target = torch.tensor([0]).to(device)\n",
    "lig = LayerIntegratedGradients(model.distilbert, model.distilbert.embeddings)\n",
    "\n",
    "# attributions, delta = lig.attribute(input_ids.to(device), baselines=reference_tokens.to(device), target=target.to(device))\n",
    "attributions, delta = lig.attribute(inputs=input_ids.to(device), baselines=reference_tokens.to(device), additional_forward_args=attention_mask.to(device), target=target, return_convergence_delta=True)\n",
    "\n",
    "attributions = attributions.sum(dim=-1)\n",
    "\n",
    "# Visualize saliency map\n",
    "tokens = tokenizer.convert_ids_to_tokens(input_ids.squeeze().tolist())\n",
    "visualization.visualize_text([attributions.squeeze().tolist()], tokens)"
   ]
  },
  {
   "cell_type": "code",
   "execution_count": 59,
   "metadata": {},
   "outputs": [
    {
     "name": "stdout",
     "output_type": "stream",
     "text": [
      "Help on package captum:\n",
      "\n",
      "NAME\n",
      "    captum\n",
      "\n",
      "PACKAGE CONTENTS\n",
      "    _utils (package)\n",
      "    attr (package)\n",
      "    concept (package)\n",
      "    influence (package)\n",
      "    insights (package)\n",
      "    log (package)\n",
      "    metrics (package)\n",
      "    module (package)\n",
      "    robust (package)\n",
      "\n",
      "VERSION\n",
      "    0.6.0\n",
      "\n",
      "FILE\n",
      "    c:\\users\\sadai\\desktop\\authorprediction\\pt_lm\\lib\\site-packages\\captum\\__init__.py\n",
      "\n",
      "\n"
     ]
    }
   ],
   "source": [
    "type(model.distilbert.embeddings)\n",
    "import captum\n",
    "help(captum)\n"
   ]
  },
  {
   "cell_type": "code",
   "execution_count": 71,
   "metadata": {},
   "outputs": [
    {
     "data": {
      "text/plain": [
       "torch.Tensor"
      ]
     },
     "execution_count": 71,
     "metadata": {},
     "output_type": "execute_result"
    }
   ],
   "source": [
    "type(input_ids)"
   ]
  },
  {
   "cell_type": "code",
   "execution_count": null,
   "metadata": {},
   "outputs": [],
   "source": []
  }
 ],
 "metadata": {
  "kernelspec": {
   "display_name": "Python 3",
   "language": "python",
   "name": "python3"
  },
  "language_info": {
   "codemirror_mode": {
    "name": "ipython",
    "version": 3
   },
   "file_extension": ".py",
   "mimetype": "text/x-python",
   "name": "python",
   "nbconvert_exporter": "python",
   "pygments_lexer": "ipython3",
   "version": "3.10.6"
  },
  "orig_nbformat": 4
 },
 "nbformat": 4,
 "nbformat_minor": 2
}
